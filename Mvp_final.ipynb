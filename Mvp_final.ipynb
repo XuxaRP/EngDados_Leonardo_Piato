{
 "cells": [
  {
   "cell_type": "markdown",
   "metadata": {
    "application/vnd.databricks.v1+cell": {
     "cellMetadata": {
      "byteLimit": 2048000,
      "rowLimit": 10000
     },
     "inputWidgets": {},
     "nuid": "d43b5722-fbcc-48bd-8d00-8130c8198a79",
     "showTitle": false,
     "tableResultSettingsMap": {},
     "title": ""
    }
   },
   "source": [
    "### PUC-RIO - Curso de Pós-Graduação em Ciência de Dados e Analytics\n",
    "MVP da Sprint Engenharia de Dados 01_2025\n",
    "\n",
    "Leonardo Fernando Piato – Abril de 2025"
   ]
  },
  {
   "cell_type": "markdown",
   "metadata": {
    "application/vnd.databricks.v1+cell": {
     "cellMetadata": {
      "byteLimit": 2048000,
      "rowLimit": 10000
     },
     "inputWidgets": {},
     "nuid": "98a4e237-5560-4e7f-ba1b-22da3e56fe10",
     "showTitle": false,
     "tableResultSettingsMap": {},
     "title": ""
    }
   },
   "source": [
    "###  1.\t**Descrição e Objetivo do Trabalho:**\n",
    "\n",
    "Este projeto visa analisar a incidência de focos de incêndio no Brasil no período de 1998 a 2017, com informações de em quais meses e estados ocorreram tais eventos. Nosso principal objetivo é responder as seguintes questões:\n",
    "\n",
    "i)\tO número de focos de incêndio tem sido crescente ao longo dos anos?\n",
    "\n",
    "ii)\tQuais as épocas e meses tem maior incidência de incêndios?\n",
    "\n",
    "iii)\tOcorreu alguma alteração nos meses de maior incidência de incêndio ao longo dos anos?\n",
    "\n",
    "iv)\tQuais estados e regiões tem maior frequência de focos de incêndio?\n",
    "\n",
    "v)\tAo longo do tempo os estados com maiores focos de incêndio permaneceram os mesmos?\n"
   ]
  },
  {
   "cell_type": "markdown",
   "metadata": {
    "application/vnd.databricks.v1+cell": {
     "cellMetadata": {
      "byteLimit": 2048000,
      "rowLimit": 10000
     },
     "inputWidgets": {},
     "nuid": "a1f94513-ee40-4c05-a887-a6c69d9e1c05",
     "showTitle": false,
     "tableResultSettingsMap": {},
     "title": ""
    }
   },
   "source": [
    "## 2.\tDetalhamento e Coleta dos dados \n",
    "\n",
    "A base de dados foi acessada diretamente na plataforma Kaggle, que é reconhecida por hospedar conjuntos de dados organizados para diversas áreas de análise. \n",
    "\n",
    "Os dados disponibilizados no Kaggle foram, por sua vez, originados do Portal de Dados do Governo Brasileiro (dados.gov.br), que é uma fonte oficial de informação. Este portal fornece conjuntos de dados públicos e estruturados sobre diversos tópicos, incluindo informações relacionadas à preservação ambiental e aos incêndios florestais.\n",
    "\n",
    "Este conjunto de dados relata o número de incêndios florestais no Brasil dividido por estados. A série abrange um período de aproximadamente 10 anos (1998 a 2017). Os dados foram obtidos do site oficial do governo brasileiro, na na seguinte URL:\n",
    "\n",
    "http://dados.gov.br/dataset/sistema-nacional-de-informacoes-florestais-snif \n",
    "\n",
    "Esses dados são importantes uma vez que os incêndios florestais são um problema sério para a preservação de nossa fauna e flora. Entender a frequência de incêndios florestais em uma série temporal pode nos ajudar a compreender como prevenir tais incidentes.\n",
    "\n",
    "Os dados têm boa qualidade e são bem-organizados. Na fase de tratamento da base verificaremos que quase nenhuma correção será necessária. Devemos enfatizar também a simplicidade da base, são apenas cinco colunas, com cabeçalho e tendo por volta de cinco mil linhas.\n",
    "\n",
    "Cabe enfatizar que tais **dados são livres de licença**, como todos os outros disponíveis no Portal de Dados do Governo Federal.\n",
    "\n",
    "Após o download dos dados no formato CSV por meio da plataforma Kaggle, os arquivos foram transferidos e armazenados na plataforma Databricks, que oferece um ambiente robusto e escalável para análise de dados. A escolha do Databricks como plataforma de armazenamento e análise foi motivada pela sua capacidade de processamento distribuído, integração com PySpark e suporte para exploração e manipulação de grandes volumes de dados.\n",
    "\n",
    "Essa etapa garantiu a persistência dos dados e preparou o ambiente para as análises subsequentes, como transformações, detecção de padrões e visualizações. Toda a documentação do processo foi realizada para assegurar a rastreabilidade e transparência dos dados coletados.\n",
    "\n",
    "Dessa forma, resumidamente temos:\n",
    "\n",
    "•\tFonte de Dados: Kaggle como plataforma intermediária e Portal de Dados do Governo Brasileiro como origem oficial\n",
    "\n",
    "•\tFormato de Dados: Arquivo CSV\n",
    "\n",
    "•\tArmazenamento na Nuvem: Persistência no Databricks\n",
    "\n",
    "Nosso primeiro passo é fazer as importações de bibliotecas que serão usadas: \n",
    "\n"
   ]
  },
  {
   "cell_type": "code",
   "execution_count": 0,
   "metadata": {
    "application/vnd.databricks.v1+cell": {
     "cellMetadata": {
      "byteLimit": 2048000,
      "rowLimit": 10000
     },
     "inputWidgets": {},
     "nuid": "e400336d-69e5-44f0-aabd-1eca1361d569",
     "showTitle": false,
     "tableResultSettingsMap": {},
     "title": ""
    }
   },
   "outputs": [],
   "source": [
    "#Primeiro importar as bibliotecas necessárias para efetuar a análise\n",
    "import numpy as np\n",
    "import pandas as pd\n",
    "import plotly.graph_objects as go\n",
    "import plotly.express as px\n",
    "from pyspark.sql.functions import col, sum\n",
    "from pyspark.sql import SparkSession\n",
    "from pyspark.sql.types import StructType, StructField, StringType, IntegerType"
   ]
  },
  {
   "cell_type": "markdown",
   "metadata": {
    "application/vnd.databricks.v1+cell": {
     "cellMetadata": {
      "byteLimit": 2048000,
      "rowLimit": 10000
     },
     "inputWidgets": {},
     "nuid": "c08dadb7-4e55-4c84-b2b6-c6192c786776",
     "showTitle": false,
     "tableResultSettingsMap": {},
     "title": ""
    }
   },
   "source": [
    "Agora vamos importar nossa base e visualizá-la"
   ]
  },
  {
   "cell_type": "code",
   "execution_count": 0,
   "metadata": {
    "application/vnd.databricks.v1+cell": {
     "cellMetadata": {
      "byteLimit": 2048000,
      "rowLimit": 10000
     },
     "inputWidgets": {},
     "nuid": "8d889ea8-ac63-4c93-b12f-39da036218b3",
     "showTitle": false,
     "tableResultSettingsMap": {},
     "title": ""
    }
   },
   "outputs": [
    {
     "output_type": "display_data",
     "data": {
      "text/html": [
       "<style scoped>\n",
       "  .table-result-container {\n",
       "    max-height: 300px;\n",
       "    overflow: auto;\n",
       "  }\n",
       "  table, th, td {\n",
       "    border: 1px solid black;\n",
       "    border-collapse: collapse;\n",
       "  }\n",
       "  th, td {\n",
       "    padding: 5px;\n",
       "  }\n",
       "  th {\n",
       "    text-align: left;\n",
       "  }\n",
       "</style><div class='table-result-container'><table class='table-result'><thead style='background-color: white'><tr><th>year</th><th>state</th><th>month</th><th>number</th><th>date</th></tr></thead><tbody><tr><td>1998</td><td>Acre</td><td>Janeiro</td><td>0</td><td>1998-01-01</td></tr><tr><td>1999</td><td>Acre</td><td>Janeiro</td><td>0</td><td>1999-01-01</td></tr><tr><td>2000</td><td>Acre</td><td>Janeiro</td><td>0</td><td>2000-01-01</td></tr><tr><td>2001</td><td>Acre</td><td>Janeiro</td><td>0</td><td>2001-01-01</td></tr><tr><td>2002</td><td>Acre</td><td>Janeiro</td><td>0</td><td>2002-01-01</td></tr><tr><td>2003</td><td>Acre</td><td>Janeiro</td><td>10</td><td>2003-01-01</td></tr><tr><td>2004</td><td>Acre</td><td>Janeiro</td><td>0</td><td>2004-01-01</td></tr><tr><td>2005</td><td>Acre</td><td>Janeiro</td><td>12</td><td>2005-01-01</td></tr><tr><td>2006</td><td>Acre</td><td>Janeiro</td><td>4</td><td>2006-01-01</td></tr><tr><td>2007</td><td>Acre</td><td>Janeiro</td><td>0</td><td>2007-01-01</td></tr><tr><td>2008</td><td>Acre</td><td>Janeiro</td><td>0</td><td>2008-01-01</td></tr><tr><td>2009</td><td>Acre</td><td>Janeiro</td><td>0</td><td>2009-01-01</td></tr><tr><td>2010</td><td>Acre</td><td>Janeiro</td><td>1</td><td>2010-01-01</td></tr><tr><td>2011</td><td>Acre</td><td>Janeiro</td><td>0</td><td>2011-01-01</td></tr><tr><td>2012</td><td>Acre</td><td>Janeiro</td><td>0</td><td>2012-01-01</td></tr><tr><td>2013</td><td>Acre</td><td>Janeiro</td><td>0</td><td>2013-01-01</td></tr><tr><td>2014</td><td>Acre</td><td>Janeiro</td><td>0</td><td>2014-01-01</td></tr><tr><td>2015</td><td>Acre</td><td>Janeiro</td><td>1</td><td>2015-01-01</td></tr><tr><td>2016</td><td>Acre</td><td>Janeiro</td><td>12</td><td>2016-01-01</td></tr><tr><td>2017</td><td>Acre</td><td>Janeiro</td><td>0</td><td>2017-01-01</td></tr><tr><td>1998</td><td>Acre</td><td>Fevereiro</td><td>0</td><td>1998-01-01</td></tr><tr><td>1999</td><td>Acre</td><td>Fevereiro</td><td>0</td><td>1999-01-01</td></tr><tr><td>2000</td><td>Acre</td><td>Fevereiro</td><td>0</td><td>2000-01-01</td></tr><tr><td>2001</td><td>Acre</td><td>Fevereiro</td><td>0</td><td>2001-01-01</td></tr><tr><td>2002</td><td>Acre</td><td>Fevereiro</td><td>1</td><td>2002-01-01</td></tr><tr><td>2003</td><td>Acre</td><td>Fevereiro</td><td>0</td><td>2003-01-01</td></tr><tr><td>2004</td><td>Acre</td><td>Fevereiro</td><td>3</td><td>2004-01-01</td></tr><tr><td>2005</td><td>Acre</td><td>Fevereiro</td><td>0</td><td>2005-01-01</td></tr><tr><td>2006</td><td>Acre</td><td>Fevereiro</td><td>0</td><td>2006-01-01</td></tr><tr><td>2007</td><td>Acre</td><td>Fevereiro</td><td>5</td><td>2007-01-01</td></tr></tbody></table></div>"
      ]
     },
     "metadata": {
      "application/vnd.databricks.v1+output": {
       "addedWidgets": {},
       "aggData": [],
       "aggError": "",
       "aggOverflow": false,
       "aggSchema": [],
       "aggSeriesLimitReached": false,
       "aggType": "",
       "arguments": {},
       "columnCustomDisplayInfos": {},
       "data": [
        [
         "1998",
         "Acre",
         "Janeiro",
         "0",
         "1998-01-01"
        ],
        [
         "1999",
         "Acre",
         "Janeiro",
         "0",
         "1999-01-01"
        ],
        [
         "2000",
         "Acre",
         "Janeiro",
         "0",
         "2000-01-01"
        ],
        [
         "2001",
         "Acre",
         "Janeiro",
         "0",
         "2001-01-01"
        ],
        [
         "2002",
         "Acre",
         "Janeiro",
         "0",
         "2002-01-01"
        ],
        [
         "2003",
         "Acre",
         "Janeiro",
         "10",
         "2003-01-01"
        ],
        [
         "2004",
         "Acre",
         "Janeiro",
         "0",
         "2004-01-01"
        ],
        [
         "2005",
         "Acre",
         "Janeiro",
         "12",
         "2005-01-01"
        ],
        [
         "2006",
         "Acre",
         "Janeiro",
         "4",
         "2006-01-01"
        ],
        [
         "2007",
         "Acre",
         "Janeiro",
         "0",
         "2007-01-01"
        ],
        [
         "2008",
         "Acre",
         "Janeiro",
         "0",
         "2008-01-01"
        ],
        [
         "2009",
         "Acre",
         "Janeiro",
         "0",
         "2009-01-01"
        ],
        [
         "2010",
         "Acre",
         "Janeiro",
         "1",
         "2010-01-01"
        ],
        [
         "2011",
         "Acre",
         "Janeiro",
         "0",
         "2011-01-01"
        ],
        [
         "2012",
         "Acre",
         "Janeiro",
         "0",
         "2012-01-01"
        ],
        [
         "2013",
         "Acre",
         "Janeiro",
         "0",
         "2013-01-01"
        ],
        [
         "2014",
         "Acre",
         "Janeiro",
         "0",
         "2014-01-01"
        ],
        [
         "2015",
         "Acre",
         "Janeiro",
         "1",
         "2015-01-01"
        ],
        [
         "2016",
         "Acre",
         "Janeiro",
         "12",
         "2016-01-01"
        ],
        [
         "2017",
         "Acre",
         "Janeiro",
         "0",
         "2017-01-01"
        ],
        [
         "1998",
         "Acre",
         "Fevereiro",
         "0",
         "1998-01-01"
        ],
        [
         "1999",
         "Acre",
         "Fevereiro",
         "0",
         "1999-01-01"
        ],
        [
         "2000",
         "Acre",
         "Fevereiro",
         "0",
         "2000-01-01"
        ],
        [
         "2001",
         "Acre",
         "Fevereiro",
         "0",
         "2001-01-01"
        ],
        [
         "2002",
         "Acre",
         "Fevereiro",
         "1",
         "2002-01-01"
        ],
        [
         "2003",
         "Acre",
         "Fevereiro",
         "0",
         "2003-01-01"
        ],
        [
         "2004",
         "Acre",
         "Fevereiro",
         "3",
         "2004-01-01"
        ],
        [
         "2005",
         "Acre",
         "Fevereiro",
         "0",
         "2005-01-01"
        ],
        [
         "2006",
         "Acre",
         "Fevereiro",
         "0",
         "2006-01-01"
        ],
        [
         "2007",
         "Acre",
         "Fevereiro",
         "5",
         "2007-01-01"
        ]
       ],
       "datasetInfos": [],
       "dbfsResultPath": null,
       "isJsonSchema": true,
       "metadata": {},
       "overflow": false,
       "plotOptions": {
        "customPlotOptions": {},
        "displayType": "table",
        "pivotAggregation": null,
        "pivotColumns": null,
        "xColumns": null,
        "yColumns": null
       },
       "removedWidgets": [],
       "schema": [
        {
         "metadata": "{}",
         "name": "year",
         "type": "\"string\""
        },
        {
         "metadata": "{}",
         "name": "state",
         "type": "\"string\""
        },
        {
         "metadata": "{}",
         "name": "month",
         "type": "\"string\""
        },
        {
         "metadata": "{}",
         "name": "number",
         "type": "\"string\""
        },
        {
         "metadata": "{}",
         "name": "date",
         "type": "\"string\""
        }
       ],
       "type": "table"
      }
     },
     "output_type": "display_data"
    }
   ],
   "source": [
    "# Localização do arquivo e definição do tipo\n",
    "file_location = \"/FileStore/tables/Fire_br/Fire_br.csv\"\n",
    "file_type = \"csv\"\n",
    "\n",
    "# CSV options\n",
    "infer_schema = \"false\"\n",
    "first_row_is_header = \"true\"\n",
    "delimiter = \",\"\n",
    "\n",
    "# As opções são aplicação para arquivos CSV. Para demais tipos de arquivos, serão ignoradas.\n",
    "df = spark.read.format(file_type) \\\n",
    "  .option(\"inferSchema\", infer_schema) \\\n",
    "  .option(\"header\", first_row_is_header) \\\n",
    "  .option(\"sep\", delimiter) \\\n",
    "  .load(file_location)\n",
    "\n",
    "# Agora visualizamos os dados com o comando display\n",
    "\n",
    "display(df.limit(30)) "
   ]
  },
  {
   "cell_type": "markdown",
   "metadata": {
    "application/vnd.databricks.v1+cell": {
     "cellMetadata": {
      "byteLimit": 2048000,
      "rowLimit": 10000
     },
     "inputWidgets": {},
     "nuid": "b80d954b-cba6-4d85-88e0-485c8b5e2237",
     "showTitle": false,
     "tableResultSettingsMap": {},
     "title": ""
    }
   },
   "source": [
    "Agora vamos excluir a coluna date, pois os dias e meses nela estão errados (todos constam como mes e dia 01 como pudemos ver acima). Damos um novo comando display para confirmar que a coluna date foi removida."
   ]
  },
  {
   "cell_type": "code",
   "execution_count": 0,
   "metadata": {
    "application/vnd.databricks.v1+cell": {
     "cellMetadata": {
      "byteLimit": 2048000,
      "rowLimit": 10000
     },
     "inputWidgets": {},
     "nuid": "b334af2d-5a6e-49c9-9aa4-a3cb11fc4063",
     "showTitle": false,
     "tableResultSettingsMap": {},
     "title": ""
    }
   },
   "outputs": [
    {
     "output_type": "stream",
     "name": "stdout",
     "output_type": "stream",
     "text": [
      "root\n |-- year: string (nullable = true)\n |-- state: string (nullable = true)\n |-- month: string (nullable = true)\n |-- number: string (nullable = true)\n\n"
     ]
    },
    {
     "output_type": "display_data",
     "data": {
      "text/html": [
       "<style scoped>\n",
       "  .table-result-container {\n",
       "    max-height: 300px;\n",
       "    overflow: auto;\n",
       "  }\n",
       "  table, th, td {\n",
       "    border: 1px solid black;\n",
       "    border-collapse: collapse;\n",
       "  }\n",
       "  th, td {\n",
       "    padding: 5px;\n",
       "  }\n",
       "  th {\n",
       "    text-align: left;\n",
       "  }\n",
       "</style><div class='table-result-container'><table class='table-result'><thead style='background-color: white'><tr><th>year</th><th>state</th><th>month</th><th>number</th></tr></thead><tbody><tr><td>1998</td><td>Acre</td><td>Janeiro</td><td>0</td></tr><tr><td>1999</td><td>Acre</td><td>Janeiro</td><td>0</td></tr><tr><td>2000</td><td>Acre</td><td>Janeiro</td><td>0</td></tr><tr><td>2001</td><td>Acre</td><td>Janeiro</td><td>0</td></tr><tr><td>2002</td><td>Acre</td><td>Janeiro</td><td>0</td></tr><tr><td>2003</td><td>Acre</td><td>Janeiro</td><td>10</td></tr><tr><td>2004</td><td>Acre</td><td>Janeiro</td><td>0</td></tr><tr><td>2005</td><td>Acre</td><td>Janeiro</td><td>12</td></tr><tr><td>2006</td><td>Acre</td><td>Janeiro</td><td>4</td></tr><tr><td>2007</td><td>Acre</td><td>Janeiro</td><td>0</td></tr><tr><td>2008</td><td>Acre</td><td>Janeiro</td><td>0</td></tr><tr><td>2009</td><td>Acre</td><td>Janeiro</td><td>0</td></tr><tr><td>2010</td><td>Acre</td><td>Janeiro</td><td>1</td></tr><tr><td>2011</td><td>Acre</td><td>Janeiro</td><td>0</td></tr><tr><td>2012</td><td>Acre</td><td>Janeiro</td><td>0</td></tr><tr><td>2013</td><td>Acre</td><td>Janeiro</td><td>0</td></tr><tr><td>2014</td><td>Acre</td><td>Janeiro</td><td>0</td></tr><tr><td>2015</td><td>Acre</td><td>Janeiro</td><td>1</td></tr><tr><td>2016</td><td>Acre</td><td>Janeiro</td><td>12</td></tr><tr><td>2017</td><td>Acre</td><td>Janeiro</td><td>0</td></tr><tr><td>1998</td><td>Acre</td><td>Fevereiro</td><td>0</td></tr><tr><td>1999</td><td>Acre</td><td>Fevereiro</td><td>0</td></tr><tr><td>2000</td><td>Acre</td><td>Fevereiro</td><td>0</td></tr><tr><td>2001</td><td>Acre</td><td>Fevereiro</td><td>0</td></tr><tr><td>2002</td><td>Acre</td><td>Fevereiro</td><td>1</td></tr><tr><td>2003</td><td>Acre</td><td>Fevereiro</td><td>0</td></tr><tr><td>2004</td><td>Acre</td><td>Fevereiro</td><td>3</td></tr><tr><td>2005</td><td>Acre</td><td>Fevereiro</td><td>0</td></tr><tr><td>2006</td><td>Acre</td><td>Fevereiro</td><td>0</td></tr><tr><td>2007</td><td>Acre</td><td>Fevereiro</td><td>5</td></tr></tbody></table></div>"
      ]
     },
     "metadata": {
      "application/vnd.databricks.v1+output": {
       "addedWidgets": {},
       "aggData": [],
       "aggError": "",
       "aggOverflow": false,
       "aggSchema": [],
       "aggSeriesLimitReached": false,
       "aggType": "",
       "arguments": {},
       "columnCustomDisplayInfos": {},
       "data": [
        [
         "1998",
         "Acre",
         "Janeiro",
         "0"
        ],
        [
         "1999",
         "Acre",
         "Janeiro",
         "0"
        ],
        [
         "2000",
         "Acre",
         "Janeiro",
         "0"
        ],
        [
         "2001",
         "Acre",
         "Janeiro",
         "0"
        ],
        [
         "2002",
         "Acre",
         "Janeiro",
         "0"
        ],
        [
         "2003",
         "Acre",
         "Janeiro",
         "10"
        ],
        [
         "2004",
         "Acre",
         "Janeiro",
         "0"
        ],
        [
         "2005",
         "Acre",
         "Janeiro",
         "12"
        ],
        [
         "2006",
         "Acre",
         "Janeiro",
         "4"
        ],
        [
         "2007",
         "Acre",
         "Janeiro",
         "0"
        ],
        [
         "2008",
         "Acre",
         "Janeiro",
         "0"
        ],
        [
         "2009",
         "Acre",
         "Janeiro",
         "0"
        ],
        [
         "2010",
         "Acre",
         "Janeiro",
         "1"
        ],
        [
         "2011",
         "Acre",
         "Janeiro",
         "0"
        ],
        [
         "2012",
         "Acre",
         "Janeiro",
         "0"
        ],
        [
         "2013",
         "Acre",
         "Janeiro",
         "0"
        ],
        [
         "2014",
         "Acre",
         "Janeiro",
         "0"
        ],
        [
         "2015",
         "Acre",
         "Janeiro",
         "1"
        ],
        [
         "2016",
         "Acre",
         "Janeiro",
         "12"
        ],
        [
         "2017",
         "Acre",
         "Janeiro",
         "0"
        ],
        [
         "1998",
         "Acre",
         "Fevereiro",
         "0"
        ],
        [
         "1999",
         "Acre",
         "Fevereiro",
         "0"
        ],
        [
         "2000",
         "Acre",
         "Fevereiro",
         "0"
        ],
        [
         "2001",
         "Acre",
         "Fevereiro",
         "0"
        ],
        [
         "2002",
         "Acre",
         "Fevereiro",
         "1"
        ],
        [
         "2003",
         "Acre",
         "Fevereiro",
         "0"
        ],
        [
         "2004",
         "Acre",
         "Fevereiro",
         "3"
        ],
        [
         "2005",
         "Acre",
         "Fevereiro",
         "0"
        ],
        [
         "2006",
         "Acre",
         "Fevereiro",
         "0"
        ],
        [
         "2007",
         "Acre",
         "Fevereiro",
         "5"
        ]
       ],
       "datasetInfos": [],
       "dbfsResultPath": null,
       "isJsonSchema": true,
       "metadata": {},
       "overflow": false,
       "plotOptions": {
        "customPlotOptions": {},
        "displayType": "table",
        "pivotAggregation": null,
        "pivotColumns": null,
        "xColumns": null,
        "yColumns": null
       },
       "removedWidgets": [],
       "schema": [
        {
         "metadata": "{}",
         "name": "year",
         "type": "\"string\""
        },
        {
         "metadata": "{}",
         "name": "state",
         "type": "\"string\""
        },
        {
         "metadata": "{}",
         "name": "month",
         "type": "\"string\""
        },
        {
         "metadata": "{}",
         "name": "number",
         "type": "\"string\""
        }
       ],
       "type": "table"
      }
     },
     "output_type": "display_data"
    }
   ],
   "source": [
    "# Remover a coluna \"Date\" do DataFrame\n",
    "df = df.drop(\"Date\")\n",
    "\n",
    "# Confirmar que a coluna foi removida\n",
    "df.printSchema()\n",
    "\n",
    "display(df.limit(30)) "
   ]
  },
  {
   "cell_type": "markdown",
   "metadata": {
    "application/vnd.databricks.v1+cell": {
     "cellMetadata": {
      "byteLimit": 2048000,
      "rowLimit": 10000
     },
     "inputWidgets": {},
     "nuid": "cb6468f2-da13-4482-9b26-6b55086888e3",
     "showTitle": false,
     "tableResultSettingsMap": {},
     "title": ""
    }
   },
   "source": [
    "Agora temos nosso dataset com ano, estado, mês e número de incêndios."
   ]
  },
  {
   "cell_type": "markdown",
   "metadata": {
    "application/vnd.databricks.v1+cell": {
     "cellMetadata": {
      "byteLimit": 2048000,
      "rowLimit": 10000
     },
     "inputWidgets": {},
     "nuid": "b120bf08-1a69-41cd-94e4-a11c87e8fb81",
     "showTitle": false,
     "tableResultSettingsMap": {},
     "title": ""
    }
   },
   "source": [
    "## 3.\tModelagem e catálogo de dados:\n",
    "\n",
    "Nosso primeiro passo começamos carregando os dados no Databricks, subimos os dados CSV, configuramos para leitura do arquivo definindo que há um cabeçalho e o delimitador é a virgula e exibimos os dados em um formato acessível para análise. \n",
    "\n",
    "\n",
    "### Modelo Flat para o Data Lake\n",
    "\n",
    "Com o modelo flat, todos os dados são mantidos em um único DataFrame ou arquivo no Data Lake, dessa forma teremos flexibilidade e simplicidade no armazenamento, estrutura ideal para grandes volumes de dados prontos para análises futuras.\n",
    "\n",
    "\n",
    "\n",
    "### Linhagem dos Dados\n",
    "\n",
    "Em nosso modelo flat em Data Lake, nossa linhagem dos dados pode ser descrita da seguinte forma:\n",
    "\n",
    "•\tFonte dos dados: Kaggle e Portal de Dados do Governo Brasileiro\n",
    "\n",
    "•\tTransformações:\n",
    "  - Remoção da coluna date devido a inconsistência nos dados (todos os meses e dias constavam como 01)\n",
    "\n",
    "  - Verificamos a existência de valores nulos e outliers e não foi identificada discrepâncias na base\n",
    "\n",
    "  * Persistência: Armazenamento na plataforma Databricks\n",
    "\n",
    "\n",
    "Utlizamos o modelo flat uma vez que possui os seguintes benefícios:\n",
    "\n",
    "1 – Simplicidade: Um único dataset facilita o acesso e análises.\n",
    "\n",
    "2 – Flexibilidade: Permite armazenar dados estruturas e semiestruturados.\n",
    "\n",
    "3 – Escalabilidade: Ideal para grandes volumes de dados\n",
    "\n",
    "4 – Velocidade: Menor esforço em normalização e consultas complexas.\n",
    "\n",
    "Todos esses passos serão feitos nos códigos abaixo.\n",
    "\n",
    "Antes de tudo começamos com o **catálogo de dados**\n"
   ]
  },
  {
   "cell_type": "code",
   "execution_count": 0,
   "metadata": {
    "application/vnd.databricks.v1+cell": {
     "cellMetadata": {
      "byteLimit": 2048000,
      "rowLimit": 10000
     },
     "inputWidgets": {},
     "nuid": "0b4b6616-4f03-482b-b0b0-70e2c71fbac8",
     "showTitle": false,
     "tableResultSettingsMap": {},
     "title": ""
    }
   },
   "outputs": [
    {
     "output_type": "stream",
     "name": "stdout",
     "output_type": "stream",
     "text": [
      "+----------------+------------------------------------------+------------+----------------------+\n|Coluna          |Descrição                                 |Tipo de Dado|Valores Esperados     |\n+----------------+------------------------------------------+------------+----------------------+\n|ano             |Ano de registro                           |Inteiro     |1998 a 2017           |\n|estado          |Nome do estado                            |String      |Ex.: \"São Paulo\"      |\n|mês             |Nome do mês                               |String      |\"Janeiro\" a \"Dezembro\"|\n|numero_incendios|Quantidade de incêndios registrados no mês|Inteiro     |>=0                   |\n+----------------+------------------------------------------+------------+----------------------+\n\n"
     ]
    }
   ],
   "source": [
    "\n",
    "# Criar sessão Spark\n",
    "spark = SparkSession.builder.appName(\"CatalogoDeDados\").getOrCreate()\n",
    "\n",
    "# Definir o esquema da tabela\n",
    "schema = StructType([\n",
    "    StructField(\"Coluna\", StringType(), True),\n",
    "    StructField(\"Descrição\", StringType(), True),\n",
    "    StructField(\"Tipo de Dado\", StringType(), True),\n",
    "    StructField(\"Valores Esperados\", StringType(), True)\n",
    "])\n",
    "\n",
    "# Dados do catálogo\n",
    "data = [\n",
    "    (\"ano\", \"Ano de registro\", \"Inteiro\", \"1998 a 2017\"),\n",
    "    (\"estado\", \"Nome do estado\", \"String\", 'Ex.: \"São Paulo\"'),\n",
    "    (\"mês\", \"Nome do mês\", \"String\", '\"Janeiro\" a \"Dezembro\"'),\n",
    "    (\"numero_incendios\", \"Quantidade de incêndios registrados no mês\", \"Inteiro\", \">=0\")\n",
    "]\n",
    "\n",
    "# Criar o DataFrame com os dados fornecidos\n",
    "df_catalogo = spark.createDataFrame(data, schema=schema)\n",
    "\n",
    "# Exibir o DataFrame\n",
    "df_catalogo.show(truncate=False)"
   ]
  },
  {
   "cell_type": "markdown",
   "metadata": {
    "application/vnd.databricks.v1+cell": {
     "cellMetadata": {
      "byteLimit": 2048000,
      "rowLimit": 10000
     },
     "inputWidgets": {},
     "nuid": "5e9e79e3-121d-44ad-a787-67e4b04a8a0e",
     "showTitle": false,
     "tableResultSettingsMap": {},
     "title": ""
    }
   },
   "source": [
    "Começamos carregando os dados no Databricks, subimos os dados CSV, configuramos para leitura do arquivo definindo que há um cabeçalho e o delimitador é a virgula e exibimos os dados em um formato acessível para análise. "
   ]
  },
  {
   "cell_type": "code",
   "execution_count": 0,
   "metadata": {
    "application/vnd.databricks.v1+cell": {
     "cellMetadata": {
      "byteLimit": 2048000,
      "rowLimit": 10000
     },
     "inputWidgets": {},
     "nuid": "7f9dfa7b-ec12-4c87-b5e9-19710ba59cfd",
     "showTitle": false,
     "tableResultSettingsMap": {},
     "title": ""
    }
   },
   "outputs": [
    {
     "output_type": "stream",
     "name": "stdout",
     "output_type": "stream",
     "text": [
      "+----+------+-------+----------------+\n| ano|estado|    mes|numero_incendios|\n+----+------+-------+----------------+\n|1998|  Acre|Janeiro|             0.0|\n|1999|  Acre|Janeiro|             0.0|\n|2000|  Acre|Janeiro|             0.0|\n|2001|  Acre|Janeiro|             0.0|\n|2002|  Acre|Janeiro|             0.0|\n|2003|  Acre|Janeiro|            10.0|\n|2004|  Acre|Janeiro|             0.0|\n|2005|  Acre|Janeiro|            12.0|\n|2006|  Acre|Janeiro|             4.0|\n|2007|  Acre|Janeiro|             0.0|\n|2008|  Acre|Janeiro|             0.0|\n|2009|  Acre|Janeiro|             0.0|\n|2010|  Acre|Janeiro|             1.0|\n|2011|  Acre|Janeiro|             0.0|\n|2012|  Acre|Janeiro|             0.0|\n|2013|  Acre|Janeiro|             0.0|\n|2014|  Acre|Janeiro|             0.0|\n|2015|  Acre|Janeiro|             1.0|\n|2016|  Acre|Janeiro|            12.0|\n|2017|  Acre|Janeiro|             0.0|\n+----+------+-------+----------------+\nonly showing top 20 rows\n\n"
     ]
    }
   ],
   "source": [
    "# Carregar os dados CSV\n",
    "df_flat = spark.read.format(\"csv\").option(\"header\", \"true\").option(\"inferSchema\", \"true\").load(\"/FileStore/tables/Fire_br/Fire_br.csv\")\n",
    "\n",
    "# Remover a coluna \"Date\"\n",
    "df_flat = df_flat.drop(\"Date\")\n",
    "\n",
    "# Ajustar nomes das colunas\n",
    "df_flat = df_flat.select(\n",
    "    col(\"Year\").alias(\"ano\"),\n",
    "    col(\"State\").alias(\"estado\"),\n",
    "    col(\"Month\").alias(\"mes\"),\n",
    "    col(\"number\").alias(\"numero_incendios\")\n",
    ")\n",
    "\n",
    "# Exibir estrutura\n",
    "df_flat.show()"
   ]
  },
  {
   "cell_type": "markdown",
   "metadata": {
    "application/vnd.databricks.v1+cell": {
     "cellMetadata": {
      "byteLimit": 2048000,
      "rowLimit": 10000
     },
     "inputWidgets": {},
     "nuid": "3ffcf946-7bd5-4869-bb7a-e52ba4f0f0b9",
     "showTitle": false,
     "tableResultSettingsMap": {},
     "title": ""
    }
   },
   "source": [
    "Agora salvamos o modelo em Parquet, uma vez que é um formato de armazenamento muito eficiente por ser \"colunar\", o que facilita consultas analíticas e melhora a performance ao manipular grandes volumes de dados."
   ]
  },
  {
   "cell_type": "code",
   "execution_count": 0,
   "metadata": {
    "application/vnd.databricks.v1+cell": {
     "cellMetadata": {
      "byteLimit": 2048000,
      "rowLimit": 10000
     },
     "inputWidgets": {},
     "nuid": "24267e12-8edf-4499-a8f9-a853a3cd0351",
     "showTitle": false,
     "tableResultSettingsMap": {},
     "title": ""
    }
   },
   "outputs": [],
   "source": [
    "# Salvar o modelo flat em formato Parquet\n",
    "df_flat.write.format(\"parquet\").mode(\"overwrite\").save(\"/mnt/datalake/modelo_flat\")"
   ]
  },
  {
   "cell_type": "markdown",
   "metadata": {
    "application/vnd.databricks.v1+cell": {
     "cellMetadata": {
      "byteLimit": 2048000,
      "rowLimit": 10000
     },
     "inputWidgets": {},
     "nuid": "122e4fa6-5d45-4660-a5e9-5e25386779cd",
     "showTitle": false,
     "tableResultSettingsMap": {},
     "title": ""
    }
   },
   "source": [
    "Código para verificar o DataFrame final antes da carga\n"
   ]
  },
  {
   "cell_type": "code",
   "execution_count": 0,
   "metadata": {
    "application/vnd.databricks.v1+cell": {
     "cellMetadata": {
      "byteLimit": 2048000,
      "rowLimit": 10000
     },
     "inputWidgets": {},
     "nuid": "a2178049-fa7b-47c6-8d34-9c5454980e3e",
     "showTitle": false,
     "tableResultSettingsMap": {},
     "title": ""
    }
   },
   "outputs": [
    {
     "output_type": "stream",
     "name": "stdout",
     "output_type": "stream",
     "text": [
      "+----+------+-------+----------------+\n| ano|estado|    mes|numero_incendios|\n+----+------+-------+----------------+\n|1998|  Acre|Janeiro|             0.0|\n|1999|  Acre|Janeiro|             0.0|\n|2000|  Acre|Janeiro|             0.0|\n|2001|  Acre|Janeiro|             0.0|\n|2002|  Acre|Janeiro|             0.0|\n|2003|  Acre|Janeiro|            10.0|\n|2004|  Acre|Janeiro|             0.0|\n|2005|  Acre|Janeiro|            12.0|\n|2006|  Acre|Janeiro|             4.0|\n|2007|  Acre|Janeiro|             0.0|\n|2008|  Acre|Janeiro|             0.0|\n|2009|  Acre|Janeiro|             0.0|\n|2010|  Acre|Janeiro|             1.0|\n|2011|  Acre|Janeiro|             0.0|\n|2012|  Acre|Janeiro|             0.0|\n|2013|  Acre|Janeiro|             0.0|\n|2014|  Acre|Janeiro|             0.0|\n|2015|  Acre|Janeiro|             1.0|\n|2016|  Acre|Janeiro|            12.0|\n|2017|  Acre|Janeiro|             0.0|\n+----+------+-------+----------------+\nonly showing top 20 rows\n\nroot\n |-- ano: integer (nullable = true)\n |-- estado: string (nullable = true)\n |-- mes: string (nullable = true)\n |-- numero_incendios: double (nullable = true)\n\n"
     ]
    }
   ],
   "source": [
    "# Verificar o DataFrame antes do carregamento\n",
    "df_flat.show()\n",
    "df_flat.printSchema()"
   ]
  },
  {
   "cell_type": "markdown",
   "metadata": {
    "application/vnd.databricks.v1+cell": {
     "cellMetadata": {
      "byteLimit": 2048000,
      "rowLimit": 10000
     },
     "inputWidgets": {},
     "nuid": "3dd56a1f-4143-41ab-8e59-30509bf960f6",
     "showTitle": false,
     "tableResultSettingsMap": {},
     "title": ""
    }
   },
   "source": [
    "## 4.\tEtapa de Carga\n",
    "\n",
    "Primeiro, certificamos que os dados estão organizados e estruturados adequadamente a partir do modelo de dados flat que criamos. Usaremos um formato otimizado para armazenar, Delta Lake, devido à sua eficiência no armazenamento e consulta.\n",
    "\n",
    "Vamos carregar os dados no delta lake e verificarmos os dados persistidos em seguida.\n",
    "\n",
    "Vantagens do Delta Lake\n",
    "\n",
    "* ACID Transactions: Garantia de integridade nos processos de leitura e escrita.\n",
    "\n",
    "* Versionamento dos Dados: Permite consultas a versões anteriores, caso necessário.\n",
    "\n",
    "* Escalabilidade: Ideal para grandes volumes de dados em plataformas de nuvem como Databricks.\n"
   ]
  },
  {
   "cell_type": "markdown",
   "metadata": {
    "application/vnd.databricks.v1+cell": {
     "cellMetadata": {
      "byteLimit": 2048000,
      "rowLimit": 10000
     },
     "inputWidgets": {},
     "nuid": "8967a0f2-38d1-4d89-8cc6-2ae30a964d13",
     "showTitle": false,
     "tableResultSettingsMap": {},
     "title": ""
    }
   },
   "source": [
    "Carregar os dados em Delta Lake"
   ]
  },
  {
   "cell_type": "code",
   "execution_count": 0,
   "metadata": {
    "application/vnd.databricks.v1+cell": {
     "cellMetadata": {
      "byteLimit": 2048000,
      "rowLimit": 10000
     },
     "inputWidgets": {},
     "nuid": "b335af4f-f426-4296-b4a4-1cf4b5aeab06",
     "showTitle": false,
     "tableResultSettingsMap": {},
     "title": ""
    }
   },
   "outputs": [
    {
     "output_type": "stream",
     "name": "stdout",
     "output_type": "stream",
     "text": [
      "Dados salvos com sucesso em Delta Lake no caminho /mnt/datalake/incendios_flat_delta\n"
     ]
    }
   ],
   "source": [
    "# Especificar o caminho para armazenar os dados no Delta Lake\n",
    "caminho_dados_delta = \"/mnt/datalake/incendios_flat_delta\"\n",
    "\n",
    "# Salvar o DataFrame no formato Delta Lake\n",
    "df_flat.write.format(\"delta\").mode(\"overwrite\").save(caminho_dados_delta)\n",
    "\n",
    "# Confirmação\n",
    "print(f\"Dados salvos com sucesso em Delta Lake no caminho {caminho_dados_delta}\")"
   ]
  },
  {
   "cell_type": "markdown",
   "metadata": {
    "application/vnd.databricks.v1+cell": {
     "cellMetadata": {
      "byteLimit": 2048000,
      "rowLimit": 10000
     },
     "inputWidgets": {},
     "nuid": "9c3824d9-266f-4c5b-b859-79e16eaa4df0",
     "showTitle": false,
     "tableResultSettingsMap": {},
     "title": ""
    }
   },
   "source": [
    "E verificamos os dados persistidos, isto é, confirmamos que os dados foram salvos corretamente no local e formato escolhido. Essa verificação é uma etapa importante para garantir que os dados armazenados no Data Lake (no caso, no formato Parquet) possam ser recuperados e utilizados sem problemas em etapas futuras de análise ou processamento."
   ]
  },
  {
   "cell_type": "code",
   "execution_count": 0,
   "metadata": {
    "application/vnd.databricks.v1+cell": {
     "cellMetadata": {
      "byteLimit": 2048000,
      "rowLimit": 10000
     },
     "inputWidgets": {},
     "nuid": "ada0f4f8-95b4-4beb-b484-d3cacdf7b7bc",
     "showTitle": false,
     "tableResultSettingsMap": {},
     "title": ""
    }
   },
   "outputs": [
    {
     "output_type": "stream",
     "name": "stdout",
     "output_type": "stream",
     "text": [
      "+----+------+-------+----------------+\n| ano|estado|    mes|numero_incendios|\n+----+------+-------+----------------+\n|1998|  Acre|Janeiro|             0.0|\n|1999|  Acre|Janeiro|             0.0|\n|2000|  Acre|Janeiro|             0.0|\n|2001|  Acre|Janeiro|             0.0|\n|2002|  Acre|Janeiro|             0.0|\n|2003|  Acre|Janeiro|            10.0|\n|2004|  Acre|Janeiro|             0.0|\n|2005|  Acre|Janeiro|            12.0|\n|2006|  Acre|Janeiro|             4.0|\n|2007|  Acre|Janeiro|             0.0|\n|2008|  Acre|Janeiro|             0.0|\n|2009|  Acre|Janeiro|             0.0|\n|2010|  Acre|Janeiro|             1.0|\n|2011|  Acre|Janeiro|             0.0|\n|2012|  Acre|Janeiro|             0.0|\n|2013|  Acre|Janeiro|             0.0|\n|2014|  Acre|Janeiro|             0.0|\n|2015|  Acre|Janeiro|             1.0|\n|2016|  Acre|Janeiro|            12.0|\n|2017|  Acre|Janeiro|             0.0|\n+----+------+-------+----------------+\nonly showing top 20 rows\n\n"
     ]
    }
   ],
   "source": [
    "# Carregar os dados persistidos em Delta Lake para validação\n",
    "df_verificado_delta = spark.read.format(\"delta\").load(caminho_dados_delta)\n",
    "\n",
    "# Exibir os primeiros registros para confirmar a carga e que estão no formato que queremos.\n",
    "df_verificado_delta.show()"
   ]
  },
  {
   "cell_type": "markdown",
   "metadata": {
    "application/vnd.databricks.v1+cell": {
     "cellMetadata": {
      "byteLimit": 2048000,
      "rowLimit": 10000
     },
     "inputWidgets": {},
     "nuid": "47978ff2-867f-4dc3-9182-4edd9c635eb9",
     "showTitle": false,
     "tableResultSettingsMap": {},
     "title": ""
    }
   },
   "source": [
    "## 5. Análise\n",
    "\n",
    "- Iniciamos verificando a qualidade de nossos dados. Há outliers? Há valores nulos? Enfim, vamos verificar se nosso conjunto de dados apresentam problemas que podem impactar em nossa análise.\n",
    "\n",
    "Iniciamos verificando a existência de nulos. Conforme tabela abaixo, não temos esse problema."
   ]
  },
  {
   "cell_type": "code",
   "execution_count": 0,
   "metadata": {
    "application/vnd.databricks.v1+cell": {
     "cellMetadata": {
      "byteLimit": 2048000,
      "rowLimit": 10000
     },
     "inputWidgets": {},
     "nuid": "1e3d65b1-3b79-4e6d-a79e-c0326abc09d7",
     "showTitle": false,
     "tableResultSettingsMap": {},
     "title": ""
    }
   },
   "outputs": [
    {
     "output_type": "stream",
     "name": "stdout",
     "output_type": "stream",
     "text": [
      "+---+------+---+----------------+\n|ano|estado|mes|numero_incendios|\n+---+------+---+----------------+\n|  0|     0|  0|               0|\n+---+------+---+----------------+\n\n"
     ]
    }
   ],
   "source": [
    "# Contar valores nulos por coluna\n",
    "from pyspark.sql import functions as F\n",
    "df_verificado_delta.select([F.count(F.when(F.col(c).isNull(), c)).alias(c) for c in df_verificado_delta.columns]).show()"
   ]
  },
  {
   "cell_type": "markdown",
   "metadata": {
    "application/vnd.databricks.v1+cell": {
     "cellMetadata": {
      "byteLimit": 2048000,
      "rowLimit": 10000
     },
     "inputWidgets": {},
     "nuid": "b954e20a-29ee-4dd4-b4bd-cceb101d2754",
     "showTitle": false,
     "tableResultSettingsMap": {},
     "title": ""
    }
   },
   "source": [
    "Verificando duplicados:"
   ]
  },
  {
   "cell_type": "code",
   "execution_count": 0,
   "metadata": {
    "application/vnd.databricks.v1+cell": {
     "cellMetadata": {
      "byteLimit": 2048000,
      "rowLimit": 10000
     },
     "inputWidgets": {},
     "nuid": "53ecb996-9d57-44f8-a9f2-4af8078920b1",
     "showTitle": false,
     "tableResultSettingsMap": {},
     "title": ""
    }
   },
   "outputs": [
    {
     "output_type": "stream",
     "name": "stdout",
     "output_type": "stream",
     "text": [
      "Número de registros duplicados: 32\n"
     ]
    }
   ],
   "source": [
    "# Verificar duplicatas no DataFrame\n",
    "duplicados = df_verificado_delta.count() - df_verificado_delta.dropDuplicates().count()\n",
    "print(f\"Número de registros duplicados: {duplicados}\")"
   ]
  },
  {
   "cell_type": "markdown",
   "metadata": {
    "application/vnd.databricks.v1+cell": {
     "cellMetadata": {
      "byteLimit": 2048000,
      "rowLimit": 10000
     },
     "inputWidgets": {},
     "nuid": "c52e72b2-3d78-471c-94a1-fa04e4511f41",
     "showTitle": false,
     "tableResultSettingsMap": {},
     "title": ""
    }
   },
   "source": [
    "Vamos dar uma olhada nos duplicados para ver se é alguma inconsistência."
   ]
  },
  {
   "cell_type": "code",
   "execution_count": 0,
   "metadata": {
    "application/vnd.databricks.v1+cell": {
     "cellMetadata": {
      "byteLimit": 2048000,
      "rowLimit": 10000
     },
     "inputWidgets": {},
     "nuid": "556ba390-f1a7-403c-ad71-1ca8e3710387",
     "showTitle": false,
     "tableResultSettingsMap": {},
     "title": ""
    }
   },
   "outputs": [
    {
     "output_type": "stream",
     "name": "stdout",
     "output_type": "stream",
     "text": [
      "+----+-----------+---------+----------------+\n| ano|     estado|      mes|numero_incendios|\n+----+-----------+---------+----------------+\n|1998|Mato Grosso|     Maio|             0.0|\n|1998|        Rio|  Janeiro|             0.0|\n|1998|        Rio|  Janeiro|             0.0|\n|1998|Mato Grosso|    Abril|             0.0|\n|1998|        Rio|Fevereiro|             0.0|\n|1998|        Rio|Fevereiro|             0.0|\n|1998|    Paraiba|     Maio|             0.0|\n|2009|        Rio|    Abril|             1.0|\n|2017|    Alagoas|  Janeiro|            38.0|\n|1998|        Rio|     Maio|             0.0|\n|1998|        Rio|     Maio|             0.0|\n|2007|        Rio|     Maio|             2.0|\n|1998|        Rio|    Mar�o|             0.0|\n|1998|        Rio|    Mar�o|             0.0|\n|1998|    Paraiba|    Mar�o|             0.0|\n|2004|        Rio|    Abril|             3.0|\n|1998|        Rio|    Abril|             0.0|\n|1998|        Rio|    Abril|             0.0|\n|2008|        Rio|     Maio|             0.0|\n|2017|        Rio|  Janeiro|            28.0|\n+----+-----------+---------+----------------+\nonly showing top 20 rows\n\n"
     ]
    }
   ],
   "source": [
    "df_duplicados = df_verificado_delta.exceptAll(df_verificado_delta.dropDuplicates())\n",
    "df_duplicados.show()"
   ]
  },
  {
   "cell_type": "markdown",
   "metadata": {
    "application/vnd.databricks.v1+cell": {
     "cellMetadata": {
      "byteLimit": 2048000,
      "rowLimit": 10000
     },
     "inputWidgets": {},
     "nuid": "a04eecc4-0ce1-45d4-806e-8227a1285a18",
     "showTitle": false,
     "tableResultSettingsMap": {},
     "title": ""
    }
   },
   "source": [
    "Analisando  os valores duplicados vemos que não tratam-se de falhas. De fato existem muitos meses, principalmente os chuvosos, que alguns estados tem zero focos de incendio reportados. Dessa forma, considerando o contexto, não trata-se de um problema e não exige quaisquer tratamentos.\n",
    "\n",
    "Abaixo partimos para analisar a distribuição e consistência dos dados:"
   ]
  },
  {
   "cell_type": "code",
   "execution_count": 0,
   "metadata": {
    "application/vnd.databricks.v1+cell": {
     "cellMetadata": {
      "byteLimit": 2048000,
      "rowLimit": 10000
     },
     "inputWidgets": {},
     "nuid": "2fb8ddae-65cb-4880-9be8-df61af34cc0b",
     "showTitle": false,
     "tableResultSettingsMap": {},
     "title": ""
    }
   },
   "outputs": [
    {
     "output_type": "stream",
     "name": "stdout",
     "output_type": "stream",
     "text": [
      "+-------+------------------+---------+--------+------------------+\n|summary|               ano|   estado|     mes|  numero_incendios|\n+-------+------------------+---------+--------+------------------+\n|  count|              6454|     6454|    6454|              6454|\n|   mean|2007.4617291602108|     null|    null|108.29316284474758|\n| stddev| 5.746653559687127|     null|    null| 190.8122420779928|\n|    min|              1998|     Acre|   Abril|               0.0|\n|    max|              2017|Tocantins|Setembro|             998.0|\n+-------+------------------+---------+--------+------------------+\n\n"
     ]
    }
   ],
   "source": [
    "# Estatísticas descritivas gerais\n",
    "df_verificado_delta.describe().show()"
   ]
  },
  {
   "cell_type": "markdown",
   "metadata": {
    "application/vnd.databricks.v1+cell": {
     "cellMetadata": {
      "byteLimit": 2048000,
      "rowLimit": 10000
     },
     "inputWidgets": {},
     "nuid": "73a553ad-18fd-40f4-b596-08c628f816e3",
     "showTitle": false,
     "tableResultSettingsMap": {},
     "title": ""
    }
   },
   "source": [
    "Dessa forma verificamos que os dados estão bem consistentes. Não temos número de incêndios negativo, por exemplo, que claramente seria um erro de consistência, nem quantidade de linhas diferentes para cada atributo.\n",
    "\n",
    "Assim, partimos para a análise. Lembrando nossa pergunta 1:\n",
    "\n",
    "\n",
    "> i)\tO número de focos de incêndio tem sido crescente ao longo dos anos? \n",
    "\n",
    "\n",
    "Para a primeira pergunta vamos fazer agrupamentos por ano:"
   ]
  },
  {
   "cell_type": "code",
   "execution_count": 0,
   "metadata": {
    "application/vnd.databricks.v1+cell": {
     "cellMetadata": {
      "byteLimit": 2048000,
      "rowLimit": 10000
     },
     "inputWidgets": {},
     "nuid": "1c1bc3d1-2a52-40fd-8339-72ba6e0491bc",
     "showTitle": false,
     "tableResultSettingsMap": {},
     "title": ""
    }
   },
   "outputs": [
    {
     "output_type": "stream",
     "name": "stdout",
     "output_type": "stream",
     "text": [
      "+----+------------------+\n| ano|   total_incendios|\n+----+------------------+\n|1998|20013.971000000005|\n|1999|26882.820999999993|\n|2000|27351.250999999997|\n|2001|         29071.612|\n|2002|           37390.6|\n|2003|42760.674000000006|\n|2004| 38453.16300000001|\n|2005| 35004.96499999999|\n|2006|         33832.161|\n|2007| 33037.41300000001|\n|2008|         29378.964|\n|2009|         39117.178|\n|2010| 37037.44900000001|\n|2011| 34633.54499999999|\n|2012| 40084.86000000001|\n|2013| 35146.11799999999|\n|2014|39621.183000000005|\n|2015| 41208.29200000001|\n|2016| 42212.22900000001|\n|2017|36685.623999999996|\n+----+------------------+\n\n"
     ]
    }
   ],
   "source": [
    "# Agrupar os dados por ano e somar o número total de incêndios\n",
    "df_grouped_by_year = df_flat.groupBy(\"ano\").agg(sum(\"numero_incendios\").alias(\"total_incendios\"))\n",
    "\n",
    "# Ordenar os anos em ordem crescente\n",
    "df_grouped_by_year = df_grouped_by_year.orderBy(\"ano\")\n",
    "\n",
    "# Exibir resultados para validação\n",
    "df_grouped_by_year.show()\n"
   ]
  },
  {
   "cell_type": "markdown",
   "metadata": {
    "application/vnd.databricks.v1+cell": {
     "cellMetadata": {
      "byteLimit": 2048000,
      "rowLimit": 10000
     },
     "inputWidgets": {},
     "nuid": "b9489afc-1559-4329-b61a-d1dab567a39f",
     "showTitle": false,
     "tableResultSettingsMap": {},
     "title": ""
    }
   },
   "source": [
    "E plotar em gráficos usando o Plotly, biblioteca que nos permite plotar gráficos interativos de forma fácil.\n",
    "\n",
    "Por uma limitação do github, vamos colocar o link do gráfico plotado também, uma vez que após exportar nosso notebook do databricks para o Github, os gráficos são suprimidos (uma vez que estavam sendo gerado no ambiente do Databricks)"
   ]
  },
  {
   "cell_type": "code",
   "execution_count": 0,
   "metadata": {
    "application/vnd.databricks.v1+cell": {
     "cellMetadata": {
      "byteLimit": 2048000,
      "rowLimit": 10000
     },
     "inputWidgets": {},
     "nuid": "2a745ec4-30ad-48dc-a6ad-ae6bee9dd0bc",
     "showTitle": false,
     "tableResultSettingsMap": {},
     "title": ""
    }
   },
   "outputs": [
    {
     "output_type": "display_data",
     "data": {
      "text/html": [
       "<html>\n",
       "<head><meta charset=\"utf-8\" /></head>\n",
       "<body>\n",
       "    <div>            <script src=\"https://cdnjs.cloudflare.com/ajax/libs/mathjax/2.7.5/MathJax.js?config=TeX-AMS-MML_SVG\"></script><script type=\"text/javascript\">if (window.MathJax) {MathJax.Hub.Config({SVG: {font: \"STIX-Web\"}});}</script>                <script type=\"text/javascript\">window.PlotlyConfig = {MathJaxConfig: 'local'};</script>\n",
       "        <script src=\"https://cdn.plot.ly/plotly-2.9.0.min.js\"></script>                <div id=\"0299ea4a-1669-49e2-ac82-15f80ae5a949\" class=\"plotly-graph-div\" style=\"height:100%; width:100%;\"></div>            <script type=\"text/javascript\">                                    window.PLOTLYENV=window.PLOTLYENV || {};                                    if (document.getElementById(\"0299ea4a-1669-49e2-ac82-15f80ae5a949\")) {                    Plotly.newPlot(                        \"0299ea4a-1669-49e2-ac82-15f80ae5a949\",                        [{\"hovertemplate\":\"Ano=%{x}<br>N\\u00famero de Inc\\u00eandios=%{y}<extra></extra>\",\"legendgroup\":\"\",\"line\":{\"color\":\"#636efa\",\"dash\":\"solid\"},\"marker\":{\"symbol\":\"circle\"},\"mode\":\"lines+markers\",\"name\":\"\",\"orientation\":\"v\",\"showlegend\":false,\"x\":[1998,1999,2000,2001,2002,2003,2004,2005,2006,2007,2008,2009,2010,2011,2012,2013,2014,2015,2016,2017],\"xaxis\":\"x\",\"y\":[20013.971000000005,26882.820999999993,27351.250999999997,29071.612,37390.6,42760.674000000006,38453.16300000001,35004.96499999999,33832.161,33037.41300000001,29378.964,39117.178,37037.44900000001,34633.54499999999,40084.86000000001,35146.11799999999,39621.183000000005,41208.29200000001,42212.22900000001,36685.623999999996],\"yaxis\":\"y\",\"type\":\"scatter\"}],                        {\"template\":{\"data\":{\"bar\":[{\"error_x\":{\"color\":\"#2a3f5f\"},\"error_y\":{\"color\":\"#2a3f5f\"},\"marker\":{\"line\":{\"color\":\"#E5ECF6\",\"width\":0.5},\"pattern\":{\"fillmode\":\"overlay\",\"size\":10,\"solidity\":0.2}},\"type\":\"bar\"}],\"barpolar\":[{\"marker\":{\"line\":{\"color\":\"#E5ECF6\",\"width\":0.5},\"pattern\":{\"fillmode\":\"overlay\",\"size\":10,\"solidity\":0.2}},\"type\":\"barpolar\"}],\"carpet\":[{\"aaxis\":{\"endlinecolor\":\"#2a3f5f\",\"gridcolor\":\"white\",\"linecolor\":\"white\",\"minorgridcolor\":\"white\",\"startlinecolor\":\"#2a3f5f\"},\"baxis\":{\"endlinecolor\":\"#2a3f5f\",\"gridcolor\":\"white\",\"linecolor\":\"white\",\"minorgridcolor\":\"white\",\"startlinecolor\":\"#2a3f5f\"},\"type\":\"carpet\"}],\"choropleth\":[{\"colorbar\":{\"outlinewidth\":0,\"ticks\":\"\"},\"type\":\"choropleth\"}],\"contour\":[{\"colorbar\":{\"outlinewidth\":0,\"ticks\":\"\"},\"colorscale\":[[0.0,\"#0d0887\"],[0.1111111111111111,\"#46039f\"],[0.2222222222222222,\"#7201a8\"],[0.3333333333333333,\"#9c179e\"],[0.4444444444444444,\"#bd3786\"],[0.5555555555555556,\"#d8576b\"],[0.6666666666666666,\"#ed7953\"],[0.7777777777777778,\"#fb9f3a\"],[0.8888888888888888,\"#fdca26\"],[1.0,\"#f0f921\"]],\"type\":\"contour\"}],\"contourcarpet\":[{\"colorbar\":{\"outlinewidth\":0,\"ticks\":\"\"},\"type\":\"contourcarpet\"}],\"heatmap\":[{\"colorbar\":{\"outlinewidth\":0,\"ticks\":\"\"},\"colorscale\":[[0.0,\"#0d0887\"],[0.1111111111111111,\"#46039f\"],[0.2222222222222222,\"#7201a8\"],[0.3333333333333333,\"#9c179e\"],[0.4444444444444444,\"#bd3786\"],[0.5555555555555556,\"#d8576b\"],[0.6666666666666666,\"#ed7953\"],[0.7777777777777778,\"#fb9f3a\"],[0.8888888888888888,\"#fdca26\"],[1.0,\"#f0f921\"]],\"type\":\"heatmap\"}],\"heatmapgl\":[{\"colorbar\":{\"outlinewidth\":0,\"ticks\":\"\"},\"colorscale\":[[0.0,\"#0d0887\"],[0.1111111111111111,\"#46039f\"],[0.2222222222222222,\"#7201a8\"],[0.3333333333333333,\"#9c179e\"],[0.4444444444444444,\"#bd3786\"],[0.5555555555555556,\"#d8576b\"],[0.6666666666666666,\"#ed7953\"],[0.7777777777777778,\"#fb9f3a\"],[0.8888888888888888,\"#fdca26\"],[1.0,\"#f0f921\"]],\"type\":\"heatmapgl\"}],\"histogram\":[{\"marker\":{\"pattern\":{\"fillmode\":\"overlay\",\"size\":10,\"solidity\":0.2}},\"type\":\"histogram\"}],\"histogram2d\":[{\"colorbar\":{\"outlinewidth\":0,\"ticks\":\"\"},\"colorscale\":[[0.0,\"#0d0887\"],[0.1111111111111111,\"#46039f\"],[0.2222222222222222,\"#7201a8\"],[0.3333333333333333,\"#9c179e\"],[0.4444444444444444,\"#bd3786\"],[0.5555555555555556,\"#d8576b\"],[0.6666666666666666,\"#ed7953\"],[0.7777777777777778,\"#fb9f3a\"],[0.8888888888888888,\"#fdca26\"],[1.0,\"#f0f921\"]],\"type\":\"histogram2d\"}],\"histogram2dcontour\":[{\"colorbar\":{\"outlinewidth\":0,\"ticks\":\"\"},\"colorscale\":[[0.0,\"#0d0887\"],[0.1111111111111111,\"#46039f\"],[0.2222222222222222,\"#7201a8\"],[0.3333333333333333,\"#9c179e\"],[0.4444444444444444,\"#bd3786\"],[0.5555555555555556,\"#d8576b\"],[0.6666666666666666,\"#ed7953\"],[0.7777777777777778,\"#fb9f3a\"],[0.8888888888888888,\"#fdca26\"],[1.0,\"#f0f921\"]],\"type\":\"histogram2dcontour\"}],\"mesh3d\":[{\"colorbar\":{\"outlinewidth\":0,\"ticks\":\"\"},\"type\":\"mesh3d\"}],\"parcoords\":[{\"line\":{\"colorbar\":{\"outlinewidth\":0,\"ticks\":\"\"}},\"type\":\"parcoords\"}],\"pie\":[{\"automargin\":true,\"type\":\"pie\"}],\"scatter\":[{\"marker\":{\"colorbar\":{\"outlinewidth\":0,\"ticks\":\"\"}},\"type\":\"scatter\"}],\"scatter3d\":[{\"line\":{\"colorbar\":{\"outlinewidth\":0,\"ticks\":\"\"}},\"marker\":{\"colorbar\":{\"outlinewidth\":0,\"ticks\":\"\"}},\"type\":\"scatter3d\"}],\"scattercarpet\":[{\"marker\":{\"colorbar\":{\"outlinewidth\":0,\"ticks\":\"\"}},\"type\":\"scattercarpet\"}],\"scattergeo\":[{\"marker\":{\"colorbar\":{\"outlinewidth\":0,\"ticks\":\"\"}},\"type\":\"scattergeo\"}],\"scattergl\":[{\"marker\":{\"colorbar\":{\"outlinewidth\":0,\"ticks\":\"\"}},\"type\":\"scattergl\"}],\"scattermapbox\":[{\"marker\":{\"colorbar\":{\"outlinewidth\":0,\"ticks\":\"\"}},\"type\":\"scattermapbox\"}],\"scatterpolar\":[{\"marker\":{\"colorbar\":{\"outlinewidth\":0,\"ticks\":\"\"}},\"type\":\"scatterpolar\"}],\"scatterpolargl\":[{\"marker\":{\"colorbar\":{\"outlinewidth\":0,\"ticks\":\"\"}},\"type\":\"scatterpolargl\"}],\"scatterternary\":[{\"marker\":{\"colorbar\":{\"outlinewidth\":0,\"ticks\":\"\"}},\"type\":\"scatterternary\"}],\"surface\":[{\"colorbar\":{\"outlinewidth\":0,\"ticks\":\"\"},\"colorscale\":[[0.0,\"#0d0887\"],[0.1111111111111111,\"#46039f\"],[0.2222222222222222,\"#7201a8\"],[0.3333333333333333,\"#9c179e\"],[0.4444444444444444,\"#bd3786\"],[0.5555555555555556,\"#d8576b\"],[0.6666666666666666,\"#ed7953\"],[0.7777777777777778,\"#fb9f3a\"],[0.8888888888888888,\"#fdca26\"],[1.0,\"#f0f921\"]],\"type\":\"surface\"}],\"table\":[{\"cells\":{\"fill\":{\"color\":\"#EBF0F8\"},\"line\":{\"color\":\"white\"}},\"header\":{\"fill\":{\"color\":\"#C8D4E3\"},\"line\":{\"color\":\"white\"}},\"type\":\"table\"}]},\"layout\":{\"annotationdefaults\":{\"arrowcolor\":\"#2a3f5f\",\"arrowhead\":0,\"arrowwidth\":1},\"autotypenumbers\":\"strict\",\"coloraxis\":{\"colorbar\":{\"outlinewidth\":0,\"ticks\":\"\"}},\"colorscale\":{\"diverging\":[[0,\"#8e0152\"],[0.1,\"#c51b7d\"],[0.2,\"#de77ae\"],[0.3,\"#f1b6da\"],[0.4,\"#fde0ef\"],[0.5,\"#f7f7f7\"],[0.6,\"#e6f5d0\"],[0.7,\"#b8e186\"],[0.8,\"#7fbc41\"],[0.9,\"#4d9221\"],[1,\"#276419\"]],\"sequential\":[[0.0,\"#0d0887\"],[0.1111111111111111,\"#46039f\"],[0.2222222222222222,\"#7201a8\"],[0.3333333333333333,\"#9c179e\"],[0.4444444444444444,\"#bd3786\"],[0.5555555555555556,\"#d8576b\"],[0.6666666666666666,\"#ed7953\"],[0.7777777777777778,\"#fb9f3a\"],[0.8888888888888888,\"#fdca26\"],[1.0,\"#f0f921\"]],\"sequentialminus\":[[0.0,\"#0d0887\"],[0.1111111111111111,\"#46039f\"],[0.2222222222222222,\"#7201a8\"],[0.3333333333333333,\"#9c179e\"],[0.4444444444444444,\"#bd3786\"],[0.5555555555555556,\"#d8576b\"],[0.6666666666666666,\"#ed7953\"],[0.7777777777777778,\"#fb9f3a\"],[0.8888888888888888,\"#fdca26\"],[1.0,\"#f0f921\"]]},\"colorway\":[\"#636efa\",\"#EF553B\",\"#00cc96\",\"#ab63fa\",\"#FFA15A\",\"#19d3f3\",\"#FF6692\",\"#B6E880\",\"#FF97FF\",\"#FECB52\"],\"font\":{\"color\":\"#2a3f5f\"},\"geo\":{\"bgcolor\":\"white\",\"lakecolor\":\"white\",\"landcolor\":\"#E5ECF6\",\"showlakes\":true,\"showland\":true,\"subunitcolor\":\"white\"},\"hoverlabel\":{\"align\":\"left\"},\"hovermode\":\"closest\",\"mapbox\":{\"style\":\"light\"},\"paper_bgcolor\":\"white\",\"plot_bgcolor\":\"#E5ECF6\",\"polar\":{\"angularaxis\":{\"gridcolor\":\"white\",\"linecolor\":\"white\",\"ticks\":\"\"},\"bgcolor\":\"#E5ECF6\",\"radialaxis\":{\"gridcolor\":\"white\",\"linecolor\":\"white\",\"ticks\":\"\"}},\"scene\":{\"xaxis\":{\"backgroundcolor\":\"#E5ECF6\",\"gridcolor\":\"white\",\"gridwidth\":2,\"linecolor\":\"white\",\"showbackground\":true,\"ticks\":\"\",\"zerolinecolor\":\"white\"},\"yaxis\":{\"backgroundcolor\":\"#E5ECF6\",\"gridcolor\":\"white\",\"gridwidth\":2,\"linecolor\":\"white\",\"showbackground\":true,\"ticks\":\"\",\"zerolinecolor\":\"white\"},\"zaxis\":{\"backgroundcolor\":\"#E5ECF6\",\"gridcolor\":\"white\",\"gridwidth\":2,\"linecolor\":\"white\",\"showbackground\":true,\"ticks\":\"\",\"zerolinecolor\":\"white\"}},\"shapedefaults\":{\"line\":{\"color\":\"#2a3f5f\"}},\"ternary\":{\"aaxis\":{\"gridcolor\":\"white\",\"linecolor\":\"white\",\"ticks\":\"\"},\"baxis\":{\"gridcolor\":\"white\",\"linecolor\":\"white\",\"ticks\":\"\"},\"bgcolor\":\"#E5ECF6\",\"caxis\":{\"gridcolor\":\"white\",\"linecolor\":\"white\",\"ticks\":\"\"}},\"title\":{\"x\":0.05},\"xaxis\":{\"automargin\":true,\"gridcolor\":\"white\",\"linecolor\":\"white\",\"ticks\":\"\",\"title\":{\"standoff\":15},\"zerolinecolor\":\"white\",\"zerolinewidth\":2},\"yaxis\":{\"automargin\":true,\"gridcolor\":\"white\",\"linecolor\":\"white\",\"ticks\":\"\",\"title\":{\"standoff\":15},\"zerolinecolor\":\"white\",\"zerolinewidth\":2}}},\"xaxis\":{\"anchor\":\"y\",\"domain\":[0.0,1.0],\"title\":{\"text\":\"Ano\"},\"tickmode\":\"array\",\"tickvals\":[1998,1999,2000,2001,2002,2003,2004,2005,2006,2007,2008,2009,2010,2011,2012,2013,2014,2015,2016,2017]},\"yaxis\":{\"anchor\":\"x\",\"domain\":[0.0,1.0],\"title\":{\"text\":\"N\\u00famero de Inc\\u00eandios\"}},\"legend\":{\"tracegroupgap\":0},\"title\":{\"text\":\"Evolu\\u00e7\\u00e3o Anual do N\\u00famero de Inc\\u00eandios\",\"font\":{\"size\":18}}},                        {\"responsive\": true}                    )                };                            </script>        </div>\n",
       "</body>\n",
       "</html>"
      ]
     },
     "metadata": {
      "application/vnd.databricks.v1+output": {
       "addedWidgets": {},
       "arguments": {},
       "data": "<html>\n<head><meta charset=\"utf-8\" /></head>\n<body>\n    <div>            <script src=\"https://cdnjs.cloudflare.com/ajax/libs/mathjax/2.7.5/MathJax.js?config=TeX-AMS-MML_SVG\"></script><script type=\"text/javascript\">if (window.MathJax) {MathJax.Hub.Config({SVG: {font: \"STIX-Web\"}});}</script>                <script type=\"text/javascript\">window.PlotlyConfig = {MathJaxConfig: 'local'};</script>\n        <script src=\"https://cdn.plot.ly/plotly-2.9.0.min.js\"></script>                <div id=\"0299ea4a-1669-49e2-ac82-15f80ae5a949\" class=\"plotly-graph-div\" style=\"height:100%; width:100%;\"></div>            <script type=\"text/javascript\">                                    window.PLOTLYENV=window.PLOTLYENV || {};                                    if (document.getElementById(\"0299ea4a-1669-49e2-ac82-15f80ae5a949\")) {                    Plotly.newPlot(                        \"0299ea4a-1669-49e2-ac82-15f80ae5a949\",                        [{\"hovertemplate\":\"Ano=%{x}<br>N\\u00famero de Inc\\u00eandios=%{y}<extra></extra>\",\"legendgroup\":\"\",\"line\":{\"color\":\"#636efa\",\"dash\":\"solid\"},\"marker\":{\"symbol\":\"circle\"},\"mode\":\"lines+markers\",\"name\":\"\",\"orientation\":\"v\",\"showlegend\":false,\"x\":[1998,1999,2000,2001,2002,2003,2004,2005,2006,2007,2008,2009,2010,2011,2012,2013,2014,2015,2016,2017],\"xaxis\":\"x\",\"y\":[20013.971000000005,26882.820999999993,27351.250999999997,29071.612,37390.6,42760.674000000006,38453.16300000001,35004.96499999999,33832.161,33037.41300000001,29378.964,39117.178,37037.44900000001,34633.54499999999,40084.86000000001,35146.11799999999,39621.183000000005,41208.29200000001,42212.22900000001,36685.623999999996],\"yaxis\":\"y\",\"type\":\"scatter\"}],                        {\"template\":{\"data\":{\"bar\":[{\"error_x\":{\"color\":\"#2a3f5f\"},\"error_y\":{\"color\":\"#2a3f5f\"},\"marker\":{\"line\":{\"color\":\"#E5ECF6\",\"width\":0.5},\"pattern\":{\"fillmode\":\"overlay\",\"size\":10,\"solidity\":0.2}},\"type\":\"bar\"}],\"barpolar\":[{\"marker\":{\"line\":{\"color\":\"#E5ECF6\",\"width\":0.5},\"pattern\":{\"fillmode\":\"overlay\",\"size\":10,\"solidity\":0.2}},\"type\":\"barpolar\"}],\"carpet\":[{\"aaxis\":{\"endlinecolor\":\"#2a3f5f\",\"gridcolor\":\"white\",\"linecolor\":\"white\",\"minorgridcolor\":\"white\",\"startlinecolor\":\"#2a3f5f\"},\"baxis\":{\"endlinecolor\":\"#2a3f5f\",\"gridcolor\":\"white\",\"linecolor\":\"white\",\"minorgridcolor\":\"white\",\"startlinecolor\":\"#2a3f5f\"},\"type\":\"carpet\"}],\"choropleth\":[{\"colorbar\":{\"outlinewidth\":0,\"ticks\":\"\"},\"type\":\"choropleth\"}],\"contour\":[{\"colorbar\":{\"outlinewidth\":0,\"ticks\":\"\"},\"colorscale\":[[0.0,\"#0d0887\"],[0.1111111111111111,\"#46039f\"],[0.2222222222222222,\"#7201a8\"],[0.3333333333333333,\"#9c179e\"],[0.4444444444444444,\"#bd3786\"],[0.5555555555555556,\"#d8576b\"],[0.6666666666666666,\"#ed7953\"],[0.7777777777777778,\"#fb9f3a\"],[0.8888888888888888,\"#fdca26\"],[1.0,\"#f0f921\"]],\"type\":\"contour\"}],\"contourcarpet\":[{\"colorbar\":{\"outlinewidth\":0,\"ticks\":\"\"},\"type\":\"contourcarpet\"}],\"heatmap\":[{\"colorbar\":{\"outlinewidth\":0,\"ticks\":\"\"},\"colorscale\":[[0.0,\"#0d0887\"],[0.1111111111111111,\"#46039f\"],[0.2222222222222222,\"#7201a8\"],[0.3333333333333333,\"#9c179e\"],[0.4444444444444444,\"#bd3786\"],[0.5555555555555556,\"#d8576b\"],[0.6666666666666666,\"#ed7953\"],[0.7777777777777778,\"#fb9f3a\"],[0.8888888888888888,\"#fdca26\"],[1.0,\"#f0f921\"]],\"type\":\"heatmap\"}],\"heatmapgl\":[{\"colorbar\":{\"outlinewidth\":0,\"ticks\":\"\"},\"colorscale\":[[0.0,\"#0d0887\"],[0.1111111111111111,\"#46039f\"],[0.2222222222222222,\"#7201a8\"],[0.3333333333333333,\"#9c179e\"],[0.4444444444444444,\"#bd3786\"],[0.5555555555555556,\"#d8576b\"],[0.6666666666666666,\"#ed7953\"],[0.7777777777777778,\"#fb9f3a\"],[0.8888888888888888,\"#fdca26\"],[1.0,\"#f0f921\"]],\"type\":\"heatmapgl\"}],\"histogram\":[{\"marker\":{\"pattern\":{\"fillmode\":\"overlay\",\"size\":10,\"solidity\":0.2}},\"type\":\"histogram\"}],\"histogram2d\":[{\"colorbar\":{\"outlinewidth\":0,\"ticks\":\"\"},\"colorscale\":[[0.0,\"#0d0887\"],[0.1111111111111111,\"#46039f\"],[0.2222222222222222,\"#7201a8\"],[0.3333333333333333,\"#9c179e\"],[0.4444444444444444,\"#bd3786\"],[0.5555555555555556,\"#d8576b\"],[0.6666666666666666,\"#ed7953\"],[0.7777777777777778,\"#fb9f3a\"],[0.8888888888888888,\"#fdca26\"],[1.0,\"#f0f921\"]],\"type\":\"histogram2d\"}],\"histogram2dcontour\":[{\"colorbar\":{\"outlinewidth\":0,\"ticks\":\"\"},\"colorscale\":[[0.0,\"#0d0887\"],[0.1111111111111111,\"#46039f\"],[0.2222222222222222,\"#7201a8\"],[0.3333333333333333,\"#9c179e\"],[0.4444444444444444,\"#bd3786\"],[0.5555555555555556,\"#d8576b\"],[0.6666666666666666,\"#ed7953\"],[0.7777777777777778,\"#fb9f3a\"],[0.8888888888888888,\"#fdca26\"],[1.0,\"#f0f921\"]],\"type\":\"histogram2dcontour\"}],\"mesh3d\":[{\"colorbar\":{\"outlinewidth\":0,\"ticks\":\"\"},\"type\":\"mesh3d\"}],\"parcoords\":[{\"line\":{\"colorbar\":{\"outlinewidth\":0,\"ticks\":\"\"}},\"type\":\"parcoords\"}],\"pie\":[{\"automargin\":true,\"type\":\"pie\"}],\"scatter\":[{\"marker\":{\"colorbar\":{\"outlinewidth\":0,\"ticks\":\"\"}},\"type\":\"scatter\"}],\"scatter3d\":[{\"line\":{\"colorbar\":{\"outlinewidth\":0,\"ticks\":\"\"}},\"marker\":{\"colorbar\":{\"outlinewidth\":0,\"ticks\":\"\"}},\"type\":\"scatter3d\"}],\"scattercarpet\":[{\"marker\":{\"colorbar\":{\"outlinewidth\":0,\"ticks\":\"\"}},\"type\":\"scattercarpet\"}],\"scattergeo\":[{\"marker\":{\"colorbar\":{\"outlinewidth\":0,\"ticks\":\"\"}},\"type\":\"scattergeo\"}],\"scattergl\":[{\"marker\":{\"colorbar\":{\"outlinewidth\":0,\"ticks\":\"\"}},\"type\":\"scattergl\"}],\"scattermapbox\":[{\"marker\":{\"colorbar\":{\"outlinewidth\":0,\"ticks\":\"\"}},\"type\":\"scattermapbox\"}],\"scatterpolar\":[{\"marker\":{\"colorbar\":{\"outlinewidth\":0,\"ticks\":\"\"}},\"type\":\"scatterpolar\"}],\"scatterpolargl\":[{\"marker\":{\"colorbar\":{\"outlinewidth\":0,\"ticks\":\"\"}},\"type\":\"scatterpolargl\"}],\"scatterternary\":[{\"marker\":{\"colorbar\":{\"outlinewidth\":0,\"ticks\":\"\"}},\"type\":\"scatterternary\"}],\"surface\":[{\"colorbar\":{\"outlinewidth\":0,\"ticks\":\"\"},\"colorscale\":[[0.0,\"#0d0887\"],[0.1111111111111111,\"#46039f\"],[0.2222222222222222,\"#7201a8\"],[0.3333333333333333,\"#9c179e\"],[0.4444444444444444,\"#bd3786\"],[0.5555555555555556,\"#d8576b\"],[0.6666666666666666,\"#ed7953\"],[0.7777777777777778,\"#fb9f3a\"],[0.8888888888888888,\"#fdca26\"],[1.0,\"#f0f921\"]],\"type\":\"surface\"}],\"table\":[{\"cells\":{\"fill\":{\"color\":\"#EBF0F8\"},\"line\":{\"color\":\"white\"}},\"header\":{\"fill\":{\"color\":\"#C8D4E3\"},\"line\":{\"color\":\"white\"}},\"type\":\"table\"}]},\"layout\":{\"annotationdefaults\":{\"arrowcolor\":\"#2a3f5f\",\"arrowhead\":0,\"arrowwidth\":1},\"autotypenumbers\":\"strict\",\"coloraxis\":{\"colorbar\":{\"outlinewidth\":0,\"ticks\":\"\"}},\"colorscale\":{\"diverging\":[[0,\"#8e0152\"],[0.1,\"#c51b7d\"],[0.2,\"#de77ae\"],[0.3,\"#f1b6da\"],[0.4,\"#fde0ef\"],[0.5,\"#f7f7f7\"],[0.6,\"#e6f5d0\"],[0.7,\"#b8e186\"],[0.8,\"#7fbc41\"],[0.9,\"#4d9221\"],[1,\"#276419\"]],\"sequential\":[[0.0,\"#0d0887\"],[0.1111111111111111,\"#46039f\"],[0.2222222222222222,\"#7201a8\"],[0.3333333333333333,\"#9c179e\"],[0.4444444444444444,\"#bd3786\"],[0.5555555555555556,\"#d8576b\"],[0.6666666666666666,\"#ed7953\"],[0.7777777777777778,\"#fb9f3a\"],[0.8888888888888888,\"#fdca26\"],[1.0,\"#f0f921\"]],\"sequentialminus\":[[0.0,\"#0d0887\"],[0.1111111111111111,\"#46039f\"],[0.2222222222222222,\"#7201a8\"],[0.3333333333333333,\"#9c179e\"],[0.4444444444444444,\"#bd3786\"],[0.5555555555555556,\"#d8576b\"],[0.6666666666666666,\"#ed7953\"],[0.7777777777777778,\"#fb9f3a\"],[0.8888888888888888,\"#fdca26\"],[1.0,\"#f0f921\"]]},\"colorway\":[\"#636efa\",\"#EF553B\",\"#00cc96\",\"#ab63fa\",\"#FFA15A\",\"#19d3f3\",\"#FF6692\",\"#B6E880\",\"#FF97FF\",\"#FECB52\"],\"font\":{\"color\":\"#2a3f5f\"},\"geo\":{\"bgcolor\":\"white\",\"lakecolor\":\"white\",\"landcolor\":\"#E5ECF6\",\"showlakes\":true,\"showland\":true,\"subunitcolor\":\"white\"},\"hoverlabel\":{\"align\":\"left\"},\"hovermode\":\"closest\",\"mapbox\":{\"style\":\"light\"},\"paper_bgcolor\":\"white\",\"plot_bgcolor\":\"#E5ECF6\",\"polar\":{\"angularaxis\":{\"gridcolor\":\"white\",\"linecolor\":\"white\",\"ticks\":\"\"},\"bgcolor\":\"#E5ECF6\",\"radialaxis\":{\"gridcolor\":\"white\",\"linecolor\":\"white\",\"ticks\":\"\"}},\"scene\":{\"xaxis\":{\"backgroundcolor\":\"#E5ECF6\",\"gridcolor\":\"white\",\"gridwidth\":2,\"linecolor\":\"white\",\"showbackground\":true,\"ticks\":\"\",\"zerolinecolor\":\"white\"},\"yaxis\":{\"backgroundcolor\":\"#E5ECF6\",\"gridcolor\":\"white\",\"gridwidth\":2,\"linecolor\":\"white\",\"showbackground\":true,\"ticks\":\"\",\"zerolinecolor\":\"white\"},\"zaxis\":{\"backgroundcolor\":\"#E5ECF6\",\"gridcolor\":\"white\",\"gridwidth\":2,\"linecolor\":\"white\",\"showbackground\":true,\"ticks\":\"\",\"zerolinecolor\":\"white\"}},\"shapedefaults\":{\"line\":{\"color\":\"#2a3f5f\"}},\"ternary\":{\"aaxis\":{\"gridcolor\":\"white\",\"linecolor\":\"white\",\"ticks\":\"\"},\"baxis\":{\"gridcolor\":\"white\",\"linecolor\":\"white\",\"ticks\":\"\"},\"bgcolor\":\"#E5ECF6\",\"caxis\":{\"gridcolor\":\"white\",\"linecolor\":\"white\",\"ticks\":\"\"}},\"title\":{\"x\":0.05},\"xaxis\":{\"automargin\":true,\"gridcolor\":\"white\",\"linecolor\":\"white\",\"ticks\":\"\",\"title\":{\"standoff\":15},\"zerolinecolor\":\"white\",\"zerolinewidth\":2},\"yaxis\":{\"automargin\":true,\"gridcolor\":\"white\",\"linecolor\":\"white\",\"ticks\":\"\",\"title\":{\"standoff\":15},\"zerolinecolor\":\"white\",\"zerolinewidth\":2}}},\"xaxis\":{\"anchor\":\"y\",\"domain\":[0.0,1.0],\"title\":{\"text\":\"Ano\"},\"tickmode\":\"array\",\"tickvals\":[1998,1999,2000,2001,2002,2003,2004,2005,2006,2007,2008,2009,2010,2011,2012,2013,2014,2015,2016,2017]},\"yaxis\":{\"anchor\":\"x\",\"domain\":[0.0,1.0],\"title\":{\"text\":\"N\\u00famero de Inc\\u00eandios\"}},\"legend\":{\"tracegroupgap\":0},\"title\":{\"text\":\"Evolu\\u00e7\\u00e3o Anual do N\\u00famero de Inc\\u00eandios\",\"font\":{\"size\":18}}},                        {\"responsive\": true}                    )                };                            </script>        </div>\n</body>\n</html>",
       "datasetInfos": [],
       "metadata": {},
       "removedWidgets": [],
       "textData": null,
       "type": "htmlSandbox"
      }
     },
     "output_type": "display_data"
    }
   ],
   "source": [
    "import plotly.express as px\n",
    "\n",
    "# Converter para Pandas\n",
    "pandas_df_year = df_grouped_by_year.toPandas()\n",
    "\n",
    "# Criar gráfico de linhas com marcadores\n",
    "fig = px.line(pandas_df_year, x=\"ano\", y=\"total_incendios\",\n",
    "              title=\"Evolução Anual do Número de Incêndios\",\n",
    "              labels={\"ano\": \"Ano\", \"total_incendios\": \"Número de Incêndios\"},\n",
    "              markers=True)  # Adicionar marcadores nos pontos\n",
    "\n",
    "# Forçar todos os anos a aparecerem no eixo X\n",
    "fig.update_layout(\n",
    "    xaxis=dict(\n",
    "        tickmode=\"array\",  # Mostrar todos os valores\n",
    "        tickvals=pandas_df_year[\"ano\"].tolist()  # Lista com todos os anos\n",
    "    ),\n",
    "    xaxis_title=\"Ano\",\n",
    "    yaxis_title=\"Número de Incêndios\",\n",
    "    title_font_size=18\n",
    ")\n",
    "\n",
    "# Exibir o gráfico\n",
    "fig.show()"
   ]
  },
  {
   "cell_type": "markdown",
   "metadata": {
    "application/vnd.databricks.v1+cell": {
     "cellMetadata": {},
     "inputWidgets": {},
     "nuid": "31b51ea9-31da-4842-87d4-a5119bfc5ac5",
     "showTitle": false,
     "tableResultSettingsMap": {},
     "title": ""
    }
   },
   "source": [
    "[LINK PARA O GRÁFICO](https://github.com/XuxaRP/EngDados_Leonardo_Piato/blob/main/Evolucao_Anual_Incendios.png)"
   ]
  },
  {
   "cell_type": "markdown",
   "metadata": {
    "application/vnd.databricks.v1+cell": {
     "cellMetadata": {
      "byteLimit": 2048000,
      "rowLimit": 10000
     },
     "inputWidgets": {},
     "nuid": "27acdc10-51bf-455d-99f3-98b94aa42667",
     "showTitle": false,
     "tableResultSettingsMap": {},
     "title": ""
    }
   },
   "source": [
    "Dessa forma podemos responder nossa pergunta em partes. De 1997 a 2003 tivemos um incremento significativo, passando de 20 mil focos para mais de 42 mil focos de incêndio anuais. De 2003 a 2008 tivemos um periodo de diminuição para, a partir de 2009, ter uma estabilidade. Assim, podemos resumir que tivemos um número crescente de 1998 até 2003, e a partir dai tivemos uma relativa estabilidade."
   ]
  },
  {
   "cell_type": "markdown",
   "metadata": {
    "application/vnd.databricks.v1+cell": {
     "cellMetadata": {
      "byteLimit": 2048000,
      "rowLimit": 10000
     },
     "inputWidgets": {},
     "nuid": "32a02f0e-a92e-4a4d-afbc-cc6aefca2d48",
     "showTitle": false,
     "tableResultSettingsMap": {},
     "title": ""
    }
   },
   "source": [
    "* Pergunta dois: \n",
    "\n",
    "> \"ii)\tQuais as épocas e meses tem maior incidência de incêndios?\""
   ]
  },
  {
   "cell_type": "code",
   "execution_count": 0,
   "metadata": {
    "application/vnd.databricks.v1+cell": {
     "cellMetadata": {
      "byteLimit": 2048000,
      "rowLimit": 10000
     },
     "inputWidgets": {},
     "nuid": "9aaf523d-5573-4d49-a4a1-0d50374f40c7",
     "showTitle": false,
     "tableResultSettingsMap": {},
     "title": ""
    }
   },
   "outputs": [
    {
     "output_type": "stream",
     "name": "stdout",
     "output_type": "stream",
     "text": [
      "          mes  total_incendios\n8     Janeiro        47747.844\n2   Fevereiro        30848.050\n9       Abril        28188.770\n11       Maio        34731.363\n1       Junho        56010.675\n4       Julho        92326.113\n0      Agosto        88050.435\n5    Setembro        58578.305\n10    Outubro        88681.579\n6    Novembro        85508.054\n7    Dezembro        57535.480\n3         NaN        30717.405\n"
     ]
    }
   ],
   "source": [
    "# Agrupar por mês e calcular o total de incêndios\n",
    "df_grouped_by_month = df_flat.groupBy(\"mes\").agg(sum(\"numero_incendios\").alias(\"total_incendios\"))\n",
    "\n",
    "# Ordenar os meses na sequência correta\n",
    "meses_em_portugues = ['Janeiro', 'Fevereiro', 'Março', 'Abril', 'Maio', 'Junho',\n",
    "                      'Julho', 'Agosto', 'Setembro', 'Outubro', 'Novembro', 'Dezembro']\n",
    "\n",
    "# Converter para Pandas para facilitar o ordenamento\n",
    "pandas_df_month = df_grouped_by_month.toPandas()\n",
    "pandas_df_month['mes'] = pd.Categorical(pandas_df_month['mes'], categories=meses_em_portugues, ordered=True)\n",
    "pandas_df_month = pandas_df_month.sort_values('mes')\n",
    "\n",
    "# Exibir os resultados organizados\n",
    "print(pandas_df_month)"
   ]
  },
  {
   "cell_type": "code",
   "execution_count": 0,
   "metadata": {
    "application/vnd.databricks.v1+cell": {
     "cellMetadata": {
      "byteLimit": 2048000,
      "rowLimit": 10000
     },
     "inputWidgets": {},
     "nuid": "a853da38-5f64-4206-be33-bb109d38c7f1",
     "showTitle": false,
     "tableResultSettingsMap": {},
     "title": ""
    }
   },
   "outputs": [
    {
     "output_type": "display_data",
     "data": {
      "text/html": [
       "<html>\n",
       "<head><meta charset=\"utf-8\" /></head>\n",
       "<body>\n",
       "    <div>            <script src=\"https://cdnjs.cloudflare.com/ajax/libs/mathjax/2.7.5/MathJax.js?config=TeX-AMS-MML_SVG\"></script><script type=\"text/javascript\">if (window.MathJax) {MathJax.Hub.Config({SVG: {font: \"STIX-Web\"}});}</script>                <script type=\"text/javascript\">window.PlotlyConfig = {MathJaxConfig: 'local'};</script>\n",
       "        <script src=\"https://cdn.plot.ly/plotly-2.9.0.min.js\"></script>                <div id=\"b475cda6-05d3-416d-ae3d-c4a8681badab\" class=\"plotly-graph-div\" style=\"height:100%; width:100%;\"></div>            <script type=\"text/javascript\">                                    window.PLOTLYENV=window.PLOTLYENV || {};                                    if (document.getElementById(\"b475cda6-05d3-416d-ae3d-c4a8681badab\")) {                    Plotly.newPlot(                        \"b475cda6-05d3-416d-ae3d-c4a8681badab\",                        [{\"hovertemplate\":\"M\\u00eas=%{x}<br>N\\u00famero de Inc\\u00eandios=%{y}<extra></extra>\",\"legendgroup\":\"\",\"line\":{\"color\":\"#636efa\",\"dash\":\"solid\"},\"marker\":{\"symbol\":\"circle\"},\"mode\":\"lines+markers\",\"name\":\"\",\"orientation\":\"v\",\"showlegend\":false,\"x\":[\"Janeiro\",\"Fevereiro\",\"Abril\",\"Maio\",\"Junho\",\"Julho\",\"Agosto\",\"Setembro\",\"Outubro\",\"Novembro\",\"Dezembro\",null],\"xaxis\":\"x\",\"y\":[47747.844,30848.05,28188.77,34731.363,56010.675,92326.11299999998,88050.43499999998,58578.30500000003,88681.57899999994,85508.05399999999,57535.479999999996,30717.405],\"yaxis\":\"y\",\"type\":\"scatter\"}],                        {\"template\":{\"data\":{\"bar\":[{\"error_x\":{\"color\":\"#2a3f5f\"},\"error_y\":{\"color\":\"#2a3f5f\"},\"marker\":{\"line\":{\"color\":\"#E5ECF6\",\"width\":0.5},\"pattern\":{\"fillmode\":\"overlay\",\"size\":10,\"solidity\":0.2}},\"type\":\"bar\"}],\"barpolar\":[{\"marker\":{\"line\":{\"color\":\"#E5ECF6\",\"width\":0.5},\"pattern\":{\"fillmode\":\"overlay\",\"size\":10,\"solidity\":0.2}},\"type\":\"barpolar\"}],\"carpet\":[{\"aaxis\":{\"endlinecolor\":\"#2a3f5f\",\"gridcolor\":\"white\",\"linecolor\":\"white\",\"minorgridcolor\":\"white\",\"startlinecolor\":\"#2a3f5f\"},\"baxis\":{\"endlinecolor\":\"#2a3f5f\",\"gridcolor\":\"white\",\"linecolor\":\"white\",\"minorgridcolor\":\"white\",\"startlinecolor\":\"#2a3f5f\"},\"type\":\"carpet\"}],\"choropleth\":[{\"colorbar\":{\"outlinewidth\":0,\"ticks\":\"\"},\"type\":\"choropleth\"}],\"contour\":[{\"colorbar\":{\"outlinewidth\":0,\"ticks\":\"\"},\"colorscale\":[[0.0,\"#0d0887\"],[0.1111111111111111,\"#46039f\"],[0.2222222222222222,\"#7201a8\"],[0.3333333333333333,\"#9c179e\"],[0.4444444444444444,\"#bd3786\"],[0.5555555555555556,\"#d8576b\"],[0.6666666666666666,\"#ed7953\"],[0.7777777777777778,\"#fb9f3a\"],[0.8888888888888888,\"#fdca26\"],[1.0,\"#f0f921\"]],\"type\":\"contour\"}],\"contourcarpet\":[{\"colorbar\":{\"outlinewidth\":0,\"ticks\":\"\"},\"type\":\"contourcarpet\"}],\"heatmap\":[{\"colorbar\":{\"outlinewidth\":0,\"ticks\":\"\"},\"colorscale\":[[0.0,\"#0d0887\"],[0.1111111111111111,\"#46039f\"],[0.2222222222222222,\"#7201a8\"],[0.3333333333333333,\"#9c179e\"],[0.4444444444444444,\"#bd3786\"],[0.5555555555555556,\"#d8576b\"],[0.6666666666666666,\"#ed7953\"],[0.7777777777777778,\"#fb9f3a\"],[0.8888888888888888,\"#fdca26\"],[1.0,\"#f0f921\"]],\"type\":\"heatmap\"}],\"heatmapgl\":[{\"colorbar\":{\"outlinewidth\":0,\"ticks\":\"\"},\"colorscale\":[[0.0,\"#0d0887\"],[0.1111111111111111,\"#46039f\"],[0.2222222222222222,\"#7201a8\"],[0.3333333333333333,\"#9c179e\"],[0.4444444444444444,\"#bd3786\"],[0.5555555555555556,\"#d8576b\"],[0.6666666666666666,\"#ed7953\"],[0.7777777777777778,\"#fb9f3a\"],[0.8888888888888888,\"#fdca26\"],[1.0,\"#f0f921\"]],\"type\":\"heatmapgl\"}],\"histogram\":[{\"marker\":{\"pattern\":{\"fillmode\":\"overlay\",\"size\":10,\"solidity\":0.2}},\"type\":\"histogram\"}],\"histogram2d\":[{\"colorbar\":{\"outlinewidth\":0,\"ticks\":\"\"},\"colorscale\":[[0.0,\"#0d0887\"],[0.1111111111111111,\"#46039f\"],[0.2222222222222222,\"#7201a8\"],[0.3333333333333333,\"#9c179e\"],[0.4444444444444444,\"#bd3786\"],[0.5555555555555556,\"#d8576b\"],[0.6666666666666666,\"#ed7953\"],[0.7777777777777778,\"#fb9f3a\"],[0.8888888888888888,\"#fdca26\"],[1.0,\"#f0f921\"]],\"type\":\"histogram2d\"}],\"histogram2dcontour\":[{\"colorbar\":{\"outlinewidth\":0,\"ticks\":\"\"},\"colorscale\":[[0.0,\"#0d0887\"],[0.1111111111111111,\"#46039f\"],[0.2222222222222222,\"#7201a8\"],[0.3333333333333333,\"#9c179e\"],[0.4444444444444444,\"#bd3786\"],[0.5555555555555556,\"#d8576b\"],[0.6666666666666666,\"#ed7953\"],[0.7777777777777778,\"#fb9f3a\"],[0.8888888888888888,\"#fdca26\"],[1.0,\"#f0f921\"]],\"type\":\"histogram2dcontour\"}],\"mesh3d\":[{\"colorbar\":{\"outlinewidth\":0,\"ticks\":\"\"},\"type\":\"mesh3d\"}],\"parcoords\":[{\"line\":{\"colorbar\":{\"outlinewidth\":0,\"ticks\":\"\"}},\"type\":\"parcoords\"}],\"pie\":[{\"automargin\":true,\"type\":\"pie\"}],\"scatter\":[{\"marker\":{\"colorbar\":{\"outlinewidth\":0,\"ticks\":\"\"}},\"type\":\"scatter\"}],\"scatter3d\":[{\"line\":{\"colorbar\":{\"outlinewidth\":0,\"ticks\":\"\"}},\"marker\":{\"colorbar\":{\"outlinewidth\":0,\"ticks\":\"\"}},\"type\":\"scatter3d\"}],\"scattercarpet\":[{\"marker\":{\"colorbar\":{\"outlinewidth\":0,\"ticks\":\"\"}},\"type\":\"scattercarpet\"}],\"scattergeo\":[{\"marker\":{\"colorbar\":{\"outlinewidth\":0,\"ticks\":\"\"}},\"type\":\"scattergeo\"}],\"scattergl\":[{\"marker\":{\"colorbar\":{\"outlinewidth\":0,\"ticks\":\"\"}},\"type\":\"scattergl\"}],\"scattermapbox\":[{\"marker\":{\"colorbar\":{\"outlinewidth\":0,\"ticks\":\"\"}},\"type\":\"scattermapbox\"}],\"scatterpolar\":[{\"marker\":{\"colorbar\":{\"outlinewidth\":0,\"ticks\":\"\"}},\"type\":\"scatterpolar\"}],\"scatterpolargl\":[{\"marker\":{\"colorbar\":{\"outlinewidth\":0,\"ticks\":\"\"}},\"type\":\"scatterpolargl\"}],\"scatterternary\":[{\"marker\":{\"colorbar\":{\"outlinewidth\":0,\"ticks\":\"\"}},\"type\":\"scatterternary\"}],\"surface\":[{\"colorbar\":{\"outlinewidth\":0,\"ticks\":\"\"},\"colorscale\":[[0.0,\"#0d0887\"],[0.1111111111111111,\"#46039f\"],[0.2222222222222222,\"#7201a8\"],[0.3333333333333333,\"#9c179e\"],[0.4444444444444444,\"#bd3786\"],[0.5555555555555556,\"#d8576b\"],[0.6666666666666666,\"#ed7953\"],[0.7777777777777778,\"#fb9f3a\"],[0.8888888888888888,\"#fdca26\"],[1.0,\"#f0f921\"]],\"type\":\"surface\"}],\"table\":[{\"cells\":{\"fill\":{\"color\":\"#EBF0F8\"},\"line\":{\"color\":\"white\"}},\"header\":{\"fill\":{\"color\":\"#C8D4E3\"},\"line\":{\"color\":\"white\"}},\"type\":\"table\"}]},\"layout\":{\"annotationdefaults\":{\"arrowcolor\":\"#2a3f5f\",\"arrowhead\":0,\"arrowwidth\":1},\"autotypenumbers\":\"strict\",\"coloraxis\":{\"colorbar\":{\"outlinewidth\":0,\"ticks\":\"\"}},\"colorscale\":{\"diverging\":[[0,\"#8e0152\"],[0.1,\"#c51b7d\"],[0.2,\"#de77ae\"],[0.3,\"#f1b6da\"],[0.4,\"#fde0ef\"],[0.5,\"#f7f7f7\"],[0.6,\"#e6f5d0\"],[0.7,\"#b8e186\"],[0.8,\"#7fbc41\"],[0.9,\"#4d9221\"],[1,\"#276419\"]],\"sequential\":[[0.0,\"#0d0887\"],[0.1111111111111111,\"#46039f\"],[0.2222222222222222,\"#7201a8\"],[0.3333333333333333,\"#9c179e\"],[0.4444444444444444,\"#bd3786\"],[0.5555555555555556,\"#d8576b\"],[0.6666666666666666,\"#ed7953\"],[0.7777777777777778,\"#fb9f3a\"],[0.8888888888888888,\"#fdca26\"],[1.0,\"#f0f921\"]],\"sequentialminus\":[[0.0,\"#0d0887\"],[0.1111111111111111,\"#46039f\"],[0.2222222222222222,\"#7201a8\"],[0.3333333333333333,\"#9c179e\"],[0.4444444444444444,\"#bd3786\"],[0.5555555555555556,\"#d8576b\"],[0.6666666666666666,\"#ed7953\"],[0.7777777777777778,\"#fb9f3a\"],[0.8888888888888888,\"#fdca26\"],[1.0,\"#f0f921\"]]},\"colorway\":[\"#636efa\",\"#EF553B\",\"#00cc96\",\"#ab63fa\",\"#FFA15A\",\"#19d3f3\",\"#FF6692\",\"#B6E880\",\"#FF97FF\",\"#FECB52\"],\"font\":{\"color\":\"#2a3f5f\"},\"geo\":{\"bgcolor\":\"white\",\"lakecolor\":\"white\",\"landcolor\":\"#E5ECF6\",\"showlakes\":true,\"showland\":true,\"subunitcolor\":\"white\"},\"hoverlabel\":{\"align\":\"left\"},\"hovermode\":\"closest\",\"mapbox\":{\"style\":\"light\"},\"paper_bgcolor\":\"white\",\"plot_bgcolor\":\"#E5ECF6\",\"polar\":{\"angularaxis\":{\"gridcolor\":\"white\",\"linecolor\":\"white\",\"ticks\":\"\"},\"bgcolor\":\"#E5ECF6\",\"radialaxis\":{\"gridcolor\":\"white\",\"linecolor\":\"white\",\"ticks\":\"\"}},\"scene\":{\"xaxis\":{\"backgroundcolor\":\"#E5ECF6\",\"gridcolor\":\"white\",\"gridwidth\":2,\"linecolor\":\"white\",\"showbackground\":true,\"ticks\":\"\",\"zerolinecolor\":\"white\"},\"yaxis\":{\"backgroundcolor\":\"#E5ECF6\",\"gridcolor\":\"white\",\"gridwidth\":2,\"linecolor\":\"white\",\"showbackground\":true,\"ticks\":\"\",\"zerolinecolor\":\"white\"},\"zaxis\":{\"backgroundcolor\":\"#E5ECF6\",\"gridcolor\":\"white\",\"gridwidth\":2,\"linecolor\":\"white\",\"showbackground\":true,\"ticks\":\"\",\"zerolinecolor\":\"white\"}},\"shapedefaults\":{\"line\":{\"color\":\"#2a3f5f\"}},\"ternary\":{\"aaxis\":{\"gridcolor\":\"white\",\"linecolor\":\"white\",\"ticks\":\"\"},\"baxis\":{\"gridcolor\":\"white\",\"linecolor\":\"white\",\"ticks\":\"\"},\"bgcolor\":\"#E5ECF6\",\"caxis\":{\"gridcolor\":\"white\",\"linecolor\":\"white\",\"ticks\":\"\"}},\"title\":{\"x\":0.05},\"xaxis\":{\"automargin\":true,\"gridcolor\":\"white\",\"linecolor\":\"white\",\"ticks\":\"\",\"title\":{\"standoff\":15},\"zerolinecolor\":\"white\",\"zerolinewidth\":2},\"yaxis\":{\"automargin\":true,\"gridcolor\":\"white\",\"linecolor\":\"white\",\"ticks\":\"\",\"title\":{\"standoff\":15},\"zerolinecolor\":\"white\",\"zerolinewidth\":2}}},\"xaxis\":{\"anchor\":\"y\",\"domain\":[0.0,1.0],\"title\":{\"text\":\"M\\u00eas\"}},\"yaxis\":{\"anchor\":\"x\",\"domain\":[0.0,1.0],\"title\":{\"text\":\"N\\u00famero de Inc\\u00eandios\"}},\"legend\":{\"tracegroupgap\":0},\"title\":{\"text\":\"Inc\\u00eandios ao Longo dos Meses\",\"font\":{\"size\":18}}},                        {\"responsive\": true}                    )                };                            </script>        </div>\n",
       "</body>\n",
       "</html>"
      ]
     },
     "metadata": {
      "application/vnd.databricks.v1+output": {
       "addedWidgets": {},
       "arguments": {},
       "data": "<html>\n<head><meta charset=\"utf-8\" /></head>\n<body>\n    <div>            <script src=\"https://cdnjs.cloudflare.com/ajax/libs/mathjax/2.7.5/MathJax.js?config=TeX-AMS-MML_SVG\"></script><script type=\"text/javascript\">if (window.MathJax) {MathJax.Hub.Config({SVG: {font: \"STIX-Web\"}});}</script>                <script type=\"text/javascript\">window.PlotlyConfig = {MathJaxConfig: 'local'};</script>\n        <script src=\"https://cdn.plot.ly/plotly-2.9.0.min.js\"></script>                <div id=\"b475cda6-05d3-416d-ae3d-c4a8681badab\" class=\"plotly-graph-div\" style=\"height:100%; width:100%;\"></div>            <script type=\"text/javascript\">                                    window.PLOTLYENV=window.PLOTLYENV || {};                                    if (document.getElementById(\"b475cda6-05d3-416d-ae3d-c4a8681badab\")) {                    Plotly.newPlot(                        \"b475cda6-05d3-416d-ae3d-c4a8681badab\",                        [{\"hovertemplate\":\"M\\u00eas=%{x}<br>N\\u00famero de Inc\\u00eandios=%{y}<extra></extra>\",\"legendgroup\":\"\",\"line\":{\"color\":\"#636efa\",\"dash\":\"solid\"},\"marker\":{\"symbol\":\"circle\"},\"mode\":\"lines+markers\",\"name\":\"\",\"orientation\":\"v\",\"showlegend\":false,\"x\":[\"Janeiro\",\"Fevereiro\",\"Abril\",\"Maio\",\"Junho\",\"Julho\",\"Agosto\",\"Setembro\",\"Outubro\",\"Novembro\",\"Dezembro\",null],\"xaxis\":\"x\",\"y\":[47747.844,30848.05,28188.77,34731.363,56010.675,92326.11299999998,88050.43499999998,58578.30500000003,88681.57899999994,85508.05399999999,57535.479999999996,30717.405],\"yaxis\":\"y\",\"type\":\"scatter\"}],                        {\"template\":{\"data\":{\"bar\":[{\"error_x\":{\"color\":\"#2a3f5f\"},\"error_y\":{\"color\":\"#2a3f5f\"},\"marker\":{\"line\":{\"color\":\"#E5ECF6\",\"width\":0.5},\"pattern\":{\"fillmode\":\"overlay\",\"size\":10,\"solidity\":0.2}},\"type\":\"bar\"}],\"barpolar\":[{\"marker\":{\"line\":{\"color\":\"#E5ECF6\",\"width\":0.5},\"pattern\":{\"fillmode\":\"overlay\",\"size\":10,\"solidity\":0.2}},\"type\":\"barpolar\"}],\"carpet\":[{\"aaxis\":{\"endlinecolor\":\"#2a3f5f\",\"gridcolor\":\"white\",\"linecolor\":\"white\",\"minorgridcolor\":\"white\",\"startlinecolor\":\"#2a3f5f\"},\"baxis\":{\"endlinecolor\":\"#2a3f5f\",\"gridcolor\":\"white\",\"linecolor\":\"white\",\"minorgridcolor\":\"white\",\"startlinecolor\":\"#2a3f5f\"},\"type\":\"carpet\"}],\"choropleth\":[{\"colorbar\":{\"outlinewidth\":0,\"ticks\":\"\"},\"type\":\"choropleth\"}],\"contour\":[{\"colorbar\":{\"outlinewidth\":0,\"ticks\":\"\"},\"colorscale\":[[0.0,\"#0d0887\"],[0.1111111111111111,\"#46039f\"],[0.2222222222222222,\"#7201a8\"],[0.3333333333333333,\"#9c179e\"],[0.4444444444444444,\"#bd3786\"],[0.5555555555555556,\"#d8576b\"],[0.6666666666666666,\"#ed7953\"],[0.7777777777777778,\"#fb9f3a\"],[0.8888888888888888,\"#fdca26\"],[1.0,\"#f0f921\"]],\"type\":\"contour\"}],\"contourcarpet\":[{\"colorbar\":{\"outlinewidth\":0,\"ticks\":\"\"},\"type\":\"contourcarpet\"}],\"heatmap\":[{\"colorbar\":{\"outlinewidth\":0,\"ticks\":\"\"},\"colorscale\":[[0.0,\"#0d0887\"],[0.1111111111111111,\"#46039f\"],[0.2222222222222222,\"#7201a8\"],[0.3333333333333333,\"#9c179e\"],[0.4444444444444444,\"#bd3786\"],[0.5555555555555556,\"#d8576b\"],[0.6666666666666666,\"#ed7953\"],[0.7777777777777778,\"#fb9f3a\"],[0.8888888888888888,\"#fdca26\"],[1.0,\"#f0f921\"]],\"type\":\"heatmap\"}],\"heatmapgl\":[{\"colorbar\":{\"outlinewidth\":0,\"ticks\":\"\"},\"colorscale\":[[0.0,\"#0d0887\"],[0.1111111111111111,\"#46039f\"],[0.2222222222222222,\"#7201a8\"],[0.3333333333333333,\"#9c179e\"],[0.4444444444444444,\"#bd3786\"],[0.5555555555555556,\"#d8576b\"],[0.6666666666666666,\"#ed7953\"],[0.7777777777777778,\"#fb9f3a\"],[0.8888888888888888,\"#fdca26\"],[1.0,\"#f0f921\"]],\"type\":\"heatmapgl\"}],\"histogram\":[{\"marker\":{\"pattern\":{\"fillmode\":\"overlay\",\"size\":10,\"solidity\":0.2}},\"type\":\"histogram\"}],\"histogram2d\":[{\"colorbar\":{\"outlinewidth\":0,\"ticks\":\"\"},\"colorscale\":[[0.0,\"#0d0887\"],[0.1111111111111111,\"#46039f\"],[0.2222222222222222,\"#7201a8\"],[0.3333333333333333,\"#9c179e\"],[0.4444444444444444,\"#bd3786\"],[0.5555555555555556,\"#d8576b\"],[0.6666666666666666,\"#ed7953\"],[0.7777777777777778,\"#fb9f3a\"],[0.8888888888888888,\"#fdca26\"],[1.0,\"#f0f921\"]],\"type\":\"histogram2d\"}],\"histogram2dcontour\":[{\"colorbar\":{\"outlinewidth\":0,\"ticks\":\"\"},\"colorscale\":[[0.0,\"#0d0887\"],[0.1111111111111111,\"#46039f\"],[0.2222222222222222,\"#7201a8\"],[0.3333333333333333,\"#9c179e\"],[0.4444444444444444,\"#bd3786\"],[0.5555555555555556,\"#d8576b\"],[0.6666666666666666,\"#ed7953\"],[0.7777777777777778,\"#fb9f3a\"],[0.8888888888888888,\"#fdca26\"],[1.0,\"#f0f921\"]],\"type\":\"histogram2dcontour\"}],\"mesh3d\":[{\"colorbar\":{\"outlinewidth\":0,\"ticks\":\"\"},\"type\":\"mesh3d\"}],\"parcoords\":[{\"line\":{\"colorbar\":{\"outlinewidth\":0,\"ticks\":\"\"}},\"type\":\"parcoords\"}],\"pie\":[{\"automargin\":true,\"type\":\"pie\"}],\"scatter\":[{\"marker\":{\"colorbar\":{\"outlinewidth\":0,\"ticks\":\"\"}},\"type\":\"scatter\"}],\"scatter3d\":[{\"line\":{\"colorbar\":{\"outlinewidth\":0,\"ticks\":\"\"}},\"marker\":{\"colorbar\":{\"outlinewidth\":0,\"ticks\":\"\"}},\"type\":\"scatter3d\"}],\"scattercarpet\":[{\"marker\":{\"colorbar\":{\"outlinewidth\":0,\"ticks\":\"\"}},\"type\":\"scattercarpet\"}],\"scattergeo\":[{\"marker\":{\"colorbar\":{\"outlinewidth\":0,\"ticks\":\"\"}},\"type\":\"scattergeo\"}],\"scattergl\":[{\"marker\":{\"colorbar\":{\"outlinewidth\":0,\"ticks\":\"\"}},\"type\":\"scattergl\"}],\"scattermapbox\":[{\"marker\":{\"colorbar\":{\"outlinewidth\":0,\"ticks\":\"\"}},\"type\":\"scattermapbox\"}],\"scatterpolar\":[{\"marker\":{\"colorbar\":{\"outlinewidth\":0,\"ticks\":\"\"}},\"type\":\"scatterpolar\"}],\"scatterpolargl\":[{\"marker\":{\"colorbar\":{\"outlinewidth\":0,\"ticks\":\"\"}},\"type\":\"scatterpolargl\"}],\"scatterternary\":[{\"marker\":{\"colorbar\":{\"outlinewidth\":0,\"ticks\":\"\"}},\"type\":\"scatterternary\"}],\"surface\":[{\"colorbar\":{\"outlinewidth\":0,\"ticks\":\"\"},\"colorscale\":[[0.0,\"#0d0887\"],[0.1111111111111111,\"#46039f\"],[0.2222222222222222,\"#7201a8\"],[0.3333333333333333,\"#9c179e\"],[0.4444444444444444,\"#bd3786\"],[0.5555555555555556,\"#d8576b\"],[0.6666666666666666,\"#ed7953\"],[0.7777777777777778,\"#fb9f3a\"],[0.8888888888888888,\"#fdca26\"],[1.0,\"#f0f921\"]],\"type\":\"surface\"}],\"table\":[{\"cells\":{\"fill\":{\"color\":\"#EBF0F8\"},\"line\":{\"color\":\"white\"}},\"header\":{\"fill\":{\"color\":\"#C8D4E3\"},\"line\":{\"color\":\"white\"}},\"type\":\"table\"}]},\"layout\":{\"annotationdefaults\":{\"arrowcolor\":\"#2a3f5f\",\"arrowhead\":0,\"arrowwidth\":1},\"autotypenumbers\":\"strict\",\"coloraxis\":{\"colorbar\":{\"outlinewidth\":0,\"ticks\":\"\"}},\"colorscale\":{\"diverging\":[[0,\"#8e0152\"],[0.1,\"#c51b7d\"],[0.2,\"#de77ae\"],[0.3,\"#f1b6da\"],[0.4,\"#fde0ef\"],[0.5,\"#f7f7f7\"],[0.6,\"#e6f5d0\"],[0.7,\"#b8e186\"],[0.8,\"#7fbc41\"],[0.9,\"#4d9221\"],[1,\"#276419\"]],\"sequential\":[[0.0,\"#0d0887\"],[0.1111111111111111,\"#46039f\"],[0.2222222222222222,\"#7201a8\"],[0.3333333333333333,\"#9c179e\"],[0.4444444444444444,\"#bd3786\"],[0.5555555555555556,\"#d8576b\"],[0.6666666666666666,\"#ed7953\"],[0.7777777777777778,\"#fb9f3a\"],[0.8888888888888888,\"#fdca26\"],[1.0,\"#f0f921\"]],\"sequentialminus\":[[0.0,\"#0d0887\"],[0.1111111111111111,\"#46039f\"],[0.2222222222222222,\"#7201a8\"],[0.3333333333333333,\"#9c179e\"],[0.4444444444444444,\"#bd3786\"],[0.5555555555555556,\"#d8576b\"],[0.6666666666666666,\"#ed7953\"],[0.7777777777777778,\"#fb9f3a\"],[0.8888888888888888,\"#fdca26\"],[1.0,\"#f0f921\"]]},\"colorway\":[\"#636efa\",\"#EF553B\",\"#00cc96\",\"#ab63fa\",\"#FFA15A\",\"#19d3f3\",\"#FF6692\",\"#B6E880\",\"#FF97FF\",\"#FECB52\"],\"font\":{\"color\":\"#2a3f5f\"},\"geo\":{\"bgcolor\":\"white\",\"lakecolor\":\"white\",\"landcolor\":\"#E5ECF6\",\"showlakes\":true,\"showland\":true,\"subunitcolor\":\"white\"},\"hoverlabel\":{\"align\":\"left\"},\"hovermode\":\"closest\",\"mapbox\":{\"style\":\"light\"},\"paper_bgcolor\":\"white\",\"plot_bgcolor\":\"#E5ECF6\",\"polar\":{\"angularaxis\":{\"gridcolor\":\"white\",\"linecolor\":\"white\",\"ticks\":\"\"},\"bgcolor\":\"#E5ECF6\",\"radialaxis\":{\"gridcolor\":\"white\",\"linecolor\":\"white\",\"ticks\":\"\"}},\"scene\":{\"xaxis\":{\"backgroundcolor\":\"#E5ECF6\",\"gridcolor\":\"white\",\"gridwidth\":2,\"linecolor\":\"white\",\"showbackground\":true,\"ticks\":\"\",\"zerolinecolor\":\"white\"},\"yaxis\":{\"backgroundcolor\":\"#E5ECF6\",\"gridcolor\":\"white\",\"gridwidth\":2,\"linecolor\":\"white\",\"showbackground\":true,\"ticks\":\"\",\"zerolinecolor\":\"white\"},\"zaxis\":{\"backgroundcolor\":\"#E5ECF6\",\"gridcolor\":\"white\",\"gridwidth\":2,\"linecolor\":\"white\",\"showbackground\":true,\"ticks\":\"\",\"zerolinecolor\":\"white\"}},\"shapedefaults\":{\"line\":{\"color\":\"#2a3f5f\"}},\"ternary\":{\"aaxis\":{\"gridcolor\":\"white\",\"linecolor\":\"white\",\"ticks\":\"\"},\"baxis\":{\"gridcolor\":\"white\",\"linecolor\":\"white\",\"ticks\":\"\"},\"bgcolor\":\"#E5ECF6\",\"caxis\":{\"gridcolor\":\"white\",\"linecolor\":\"white\",\"ticks\":\"\"}},\"title\":{\"x\":0.05},\"xaxis\":{\"automargin\":true,\"gridcolor\":\"white\",\"linecolor\":\"white\",\"ticks\":\"\",\"title\":{\"standoff\":15},\"zerolinecolor\":\"white\",\"zerolinewidth\":2},\"yaxis\":{\"automargin\":true,\"gridcolor\":\"white\",\"linecolor\":\"white\",\"ticks\":\"\",\"title\":{\"standoff\":15},\"zerolinecolor\":\"white\",\"zerolinewidth\":2}}},\"xaxis\":{\"anchor\":\"y\",\"domain\":[0.0,1.0],\"title\":{\"text\":\"M\\u00eas\"}},\"yaxis\":{\"anchor\":\"x\",\"domain\":[0.0,1.0],\"title\":{\"text\":\"N\\u00famero de Inc\\u00eandios\"}},\"legend\":{\"tracegroupgap\":0},\"title\":{\"text\":\"Inc\\u00eandios ao Longo dos Meses\",\"font\":{\"size\":18}}},                        {\"responsive\": true}                    )                };                            </script>        </div>\n</body>\n</html>",
       "datasetInfos": [],
       "metadata": {},
       "removedWidgets": [],
       "textData": null,
       "type": "htmlSandbox"
      }
     },
     "output_type": "display_data"
    }
   ],
   "source": [
    "# Criar gráfico de linhas com os meses e total de incêndios\n",
    "fig = px.line(\n",
    "    pandas_df_month,\n",
    "    x=\"mes\",\n",
    "    y=\"total_incendios\",\n",
    "    title=\"Incêndios ao Longo dos Meses\",\n",
    "    labels={\"mes\": \"Mês\", \"total_incendios\": \"Número de Incêndios\"},\n",
    "    markers=True  # Adicionar marcadores em cada ponto da linha\n",
    ")\n",
    "\n",
    "# Personalizar o layout\n",
    "fig.update_layout(\n",
    "    xaxis_title=\"Mês\",\n",
    "    yaxis_title=\"Número de Incêndios\",\n",
    "    title_font_size=18\n",
    ")\n",
    "\n",
    "# Exibir o gráfico\n",
    "fig.show()"
   ]
  },
  {
   "cell_type": "markdown",
   "metadata": {
    "application/vnd.databricks.v1+cell": {
     "cellMetadata": {},
     "inputWidgets": {},
     "nuid": "e505f095-4e5c-43d7-92b0-fc821047d09a",
     "showTitle": false,
     "tableResultSettingsMap": {},
     "title": ""
    }
   },
   "source": [
    "[Link](https://github.com/XuxaRP/EngDados_Leonardo_Piato/blob/main/Incendio_ao_longo_dos_meses.png) para o gráfico 2 gerado no Databricks"
   ]
  },
  {
   "cell_type": "markdown",
   "metadata": {
    "application/vnd.databricks.v1+cell": {
     "cellMetadata": {
      "byteLimit": 2048000,
      "rowLimit": 10000
     },
     "inputWidgets": {},
     "nuid": "242ec25a-201f-48c7-8904-230d49cff4ae",
     "showTitle": false,
     "tableResultSettingsMap": {},
     "title": ""
    }
   },
   "source": [
    "Aqui temos respostas claras, com os meses de Julho, agosto, outubro e novembro sendo os períodos com mais incêndios. Isso contrasta com fevereiro, abril e maio, epoca com menos focos.\n",
    "\n",
    "Assim vamos para a terceira pergunta:\n",
    "\n",
    "> iii)\tOcorreu alguma alteração nos meses de maior incidência de incêndio ao longo dos anos?\n",
    "\n",
    "Para isso agrupamos os dados mês a mês e encontramos o mês em cada ano com mais casos de incendio."
   ]
  },
  {
   "cell_type": "code",
   "execution_count": 0,
   "metadata": {
    "application/vnd.databricks.v1+cell": {
     "cellMetadata": {
      "byteLimit": 2048000,
      "rowLimit": 10000
     },
     "inputWidgets": {},
     "nuid": "37fed45a-9bc2-4e2c-b76b-b709fa0eabf6",
     "showTitle": false,
     "tableResultSettingsMap": {},
     "title": ""
    }
   },
   "outputs": [
    {
     "output_type": "stream",
     "name": "stdout",
     "output_type": "stream",
     "text": [
      "+----+---------+------------------+\n| ano|      mes|   total_incendios|\n+----+---------+------------------+\n|1998|    Abril|               0.0|\n|1998|   Agosto|          3964.616|\n|1998| Dezembro|2043.4070000000002|\n|1998|Fevereiro|               0.0|\n|1998|  Janeiro|               0.0|\n|1998|    Julho|4357.7119999999995|\n|1998|    Junho|          1352.201|\n|1998|     Maio|               0.0|\n|1998|    Mar�o|               0.0|\n|1998| Novembro|          2710.098|\n|1998|  Outubro|2572.9429999999998|\n|1998| Setembro|3012.9939999999997|\n|1999|    Abril|             717.0|\n|1999|   Agosto|          3563.958|\n|1999| Dezembro|2267.1110000000003|\n|1999|Fevereiro|            1284.0|\n|1999|  Janeiro|            1081.0|\n|1999|    Julho|          3538.223|\n|1999|    Junho|          1433.201|\n|1999|     Maio|            1812.0|\n+----+---------+------------------+\nonly showing top 20 rows\n\n"
     ]
    }
   ],
   "source": [
    "# Agrupar os dados por ano e mês, somando os incêndios\n",
    "df_grouped_by_year_month = df_flat.groupBy(\"ano\", \"mes\").agg(sum(\"numero_incendios\").alias(\"total_incendios\"))\n",
    "\n",
    "# Ordenar por ano e mês para facilitar a análise\n",
    "df_grouped_by_year_month = df_grouped_by_year_month.orderBy(\"ano\", \"mes\")\n",
    "\n",
    "# Exibir os resultados organizados\n",
    "df_grouped_by_year_month.show()"
   ]
  },
  {
   "cell_type": "code",
   "execution_count": 0,
   "metadata": {
    "application/vnd.databricks.v1+cell": {
     "cellMetadata": {
      "byteLimit": 2048000,
      "rowLimit": 10000
     },
     "inputWidgets": {},
     "nuid": "7df64a53-a330-438c-81b8-df460d06e7b4",
     "showTitle": false,
     "tableResultSettingsMap": {},
     "title": ""
    }
   },
   "outputs": [
    {
     "output_type": "stream",
     "name": "stdout",
     "output_type": "stream",
     "text": [
      "+----+--------+------------------+\n| ano|     mes|   total_incendios|\n+----+--------+------------------+\n|1998|   Julho|4357.7119999999995|\n|1999|Setembro|          3754.192|\n|2000|  Agosto|          6524.693|\n|2001| Outubro| 5289.773999999999|\n|2002|   Julho|          6825.932|\n|2003|Novembro|          5793.796|\n|2004| Outubro|          5806.559|\n|2005|Novembro|          4986.782|\n|2006|  Agosto|7338.1269999999995|\n|2007|   Julho|          4815.995|\n|2008|  Agosto| 5975.561000000001|\n|2009| Outubro|6239.9800000000005|\n|2010|   Julho|          5356.301|\n|2011|   Julho|          5441.086|\n|2012|Novembro|          5428.166|\n|2013|  Agosto| 5855.928000000001|\n|2014| Outubro|5512.8369999999995|\n|2015| Janeiro|            4635.0|\n|2016|   Julho|          7105.048|\n|2017|Novembro| 6217.379000000001|\n+----+--------+------------------+\n\n"
     ]
    }
   ],
   "source": [
    "# Encontrar o mês com maior incidência de incêndios em cada ano\n",
    "from pyspark.sql.window import Window\n",
    "\n",
    "windowSpec = Window.partitionBy(\"ano\").orderBy(F.desc(\"total_incendios\"))\n",
    "df_top_month = df_grouped_by_year_month.withColumn(\"rank\", F.rank().over(windowSpec)).filter(F.col(\"rank\") == 1)\n",
    "\n",
    "# Exibir os meses com maior incidência de incêndios\n",
    "df_top_month.select(\"ano\", \"mes\", \"total_incendios\").show()"
   ]
  },
  {
   "cell_type": "code",
   "execution_count": 0,
   "metadata": {
    "application/vnd.databricks.v1+cell": {
     "cellMetadata": {
      "byteLimit": 2048000,
      "rowLimit": 10000
     },
     "inputWidgets": {},
     "nuid": "ec312549-84b7-4693-a3c5-e051876b3ab2",
     "showTitle": false,
     "tableResultSettingsMap": {},
     "title": ""
    }
   },
   "outputs": [
    {
     "output_type": "display_data",
     "data": {
      "text/html": [
       "<html>\n",
       "<head><meta charset=\"utf-8\" /></head>\n",
       "<body>\n",
       "    <div>            <script src=\"https://cdnjs.cloudflare.com/ajax/libs/mathjax/2.7.5/MathJax.js?config=TeX-AMS-MML_SVG\"></script><script type=\"text/javascript\">if (window.MathJax) {MathJax.Hub.Config({SVG: {font: \"STIX-Web\"}});}</script>                <script type=\"text/javascript\">window.PlotlyConfig = {MathJaxConfig: 'local'};</script>\n",
       "        <script src=\"https://cdn.plot.ly/plotly-2.9.0.min.js\"></script>                <div id=\"c73b6b1a-ad54-4f23-b4c1-d2c115a7ee26\" class=\"plotly-graph-div\" style=\"height:100%; width:100%;\"></div>            <script type=\"text/javascript\">                                    window.PLOTLYENV=window.PLOTLYENV || {};                                    if (document.getElementById(\"c73b6b1a-ad54-4f23-b4c1-d2c115a7ee26\")) {                    Plotly.newPlot(                        \"c73b6b1a-ad54-4f23-b4c1-d2c115a7ee26\",                        [{\"hovertemplate\":\"Ano=2000<br>M\\u00eas=%{x}<br>N\\u00famero de Inc\\u00eandios=%{y}<extra></extra>\",\"legendgroup\":\"2000\",\"line\":{\"color\":\"#636efa\",\"dash\":\"solid\"},\"marker\":{\"symbol\":\"circle\"},\"mode\":\"lines\",\"name\":\"2000\",\"orientation\":\"v\",\"showlegend\":true,\"x\":[\"Janeiro\",\"Fevereiro\",\"Abril\",\"Maio\",\"Junho\",\"Julho\",\"Agosto\",\"Setembro\",\"Outubro\",\"Novembro\",\"Dezembro\",null],\"xaxis\":\"x\",\"y\":[778.0,561.0,537.0,904.194,1921.358,3402.3379999999997,6524.693,2379.9320000000002,5413.9439999999995,2771.633,1309.159,848.0],\"yaxis\":\"y\",\"type\":\"scatter\"},{\"hovertemplate\":\"Ano=2002<br>M\\u00eas=%{x}<br>N\\u00famero de Inc\\u00eandios=%{y}<extra></extra>\",\"legendgroup\":\"2002\",\"line\":{\"color\":\"#EF553B\",\"dash\":\"solid\"},\"marker\":{\"symbol\":\"circle\"},\"mode\":\"lines\",\"name\":\"2002\",\"orientation\":\"v\",\"showlegend\":true,\"x\":[\"Janeiro\",\"Fevereiro\",\"Abril\",\"Maio\",\"Junho\",\"Julho\",\"Agosto\",\"Setembro\",\"Outubro\",\"Novembro\",\"Dezembro\",null],\"xaxis\":\"x\",\"y\":[1654.0,1570.0,1682.0,1292.528,2968.878,6825.932,4327.876,2845.0109999999995,4822.942,3997.206,3725.227,1679.0],\"yaxis\":\"y\",\"type\":\"scatter\"},{\"hovertemplate\":\"Ano=2003<br>M\\u00eas=%{x}<br>N\\u00famero de Inc\\u00eandios=%{y}<extra></extra>\",\"legendgroup\":\"2003\",\"line\":{\"color\":\"#00cc96\",\"dash\":\"solid\"},\"marker\":{\"symbol\":\"circle\"},\"mode\":\"lines\",\"name\":\"2003\",\"orientation\":\"v\",\"showlegend\":true,\"x\":[\"Janeiro\",\"Fevereiro\",\"Abril\",\"Maio\",\"Junho\",\"Julho\",\"Agosto\",\"Setembro\",\"Outubro\",\"Novembro\",\"Dezembro\",null],\"xaxis\":\"x\",\"y\":[5091.0,2398.0,2677.0,1747.0,2197.313,3703.109,4301.474,3504.893,5643.689,5793.796,4084.2690000000002,1619.131],\"yaxis\":\"y\",\"type\":\"scatter\"},{\"hovertemplate\":\"Ano=2004<br>M\\u00eas=%{x}<br>N\\u00famero de Inc\\u00eandios=%{y}<extra></extra>\",\"legendgroup\":\"2004\",\"line\":{\"color\":\"#ab63fa\",\"dash\":\"solid\"},\"marker\":{\"symbol\":\"circle\"},\"mode\":\"lines\",\"name\":\"2004\",\"orientation\":\"v\",\"showlegend\":true,\"x\":[\"Janeiro\",\"Fevereiro\",\"Abril\",\"Maio\",\"Junho\",\"Julho\",\"Agosto\",\"Setembro\",\"Outubro\",\"Novembro\",\"Dezembro\",null],\"xaxis\":\"x\",\"y\":[2705.0,1255.0,1335.0,1124.413,3380.8920000000003,3887.9410000000003,2974.397,3835.7439999999997,5806.559,5709.079,4399.138,2040.0],\"yaxis\":\"y\",\"type\":\"scatter\"},{\"hovertemplate\":\"Ano=2014<br>M\\u00eas=%{x}<br>N\\u00famero de Inc\\u00eandios=%{y}<extra></extra>\",\"legendgroup\":\"2014\",\"line\":{\"color\":\"#FFA15A\",\"dash\":\"solid\"},\"marker\":{\"symbol\":\"circle\"},\"mode\":\"lines\",\"name\":\"2014\",\"orientation\":\"v\",\"showlegend\":true,\"x\":[\"Janeiro\",\"Fevereiro\",\"Abril\",\"Maio\",\"Junho\",\"Julho\",\"Agosto\",\"Setembro\",\"Outubro\",\"Novembro\",\"Dezembro\",null],\"xaxis\":\"x\",\"y\":[2633.0,1547.0,2358.0,3189.0,3319.167,3903.9040000000005,2738.3190000000004,3131.074,5512.8369999999995,5347.654,3717.228,2224.0],\"yaxis\":\"y\",\"type\":\"scatter\"},{\"hovertemplate\":\"Ano=2001<br>M\\u00eas=%{x}<br>N\\u00famero de Inc\\u00eandios=%{y}<extra></extra>\",\"legendgroup\":\"2001\",\"line\":{\"color\":\"#19d3f3\",\"dash\":\"solid\"},\"marker\":{\"symbol\":\"circle\"},\"mode\":\"lines\",\"name\":\"2001\",\"orientation\":\"v\",\"showlegend\":true,\"x\":[\"Janeiro\",\"Fevereiro\",\"Abril\",\"Maio\",\"Junho\",\"Julho\",\"Agosto\",\"Setembro\",\"Outubro\",\"Novembro\",\"Dezembro\",null],\"xaxis\":\"x\",\"y\":[547.0,1059.0,1081.0,898.193,1774.665,4936.555,5080.833,2650.221,5289.773999999999,3248.403,2344.86,161.108],\"yaxis\":\"y\",\"type\":\"scatter\"},{\"hovertemplate\":\"Ano=2005<br>M\\u00eas=%{x}<br>N\\u00famero de Inc\\u00eandios=%{y}<extra></extra>\",\"legendgroup\":\"2005\",\"line\":{\"color\":\"#FF6692\",\"dash\":\"solid\"},\"marker\":{\"symbol\":\"circle\"},\"mode\":\"lines\",\"name\":\"2005\",\"orientation\":\"v\",\"showlegend\":true,\"x\":[\"Janeiro\",\"Fevereiro\",\"Abril\",\"Maio\",\"Junho\",\"Julho\",\"Agosto\",\"Setembro\",\"Outubro\",\"Novembro\",\"Dezembro\",null],\"xaxis\":\"x\",\"y\":[3223.768,2153.0,1011.0,1570.641,3519.294,4903.77,4625.403,1640.6909999999998,3821.101,4986.782,1843.5149999999999,1706.0],\"yaxis\":\"y\",\"type\":\"scatter\"},{\"hovertemplate\":\"Ano=2016<br>M\\u00eas=%{x}<br>N\\u00famero de Inc\\u00eandios=%{y}<extra></extra>\",\"legendgroup\":\"2016\",\"line\":{\"color\":\"#B6E880\",\"dash\":\"solid\"},\"marker\":{\"symbol\":\"circle\"},\"mode\":\"lines\",\"name\":\"2016\",\"orientation\":\"v\",\"showlegend\":true,\"x\":[\"Janeiro\",\"Fevereiro\",\"Abril\",\"Maio\",\"Junho\",\"Julho\",\"Agosto\",\"Setembro\",\"Outubro\",\"Novembro\",\"Dezembro\",null],\"xaxis\":\"x\",\"y\":[2906.076,3098.05,2203.77,2488.081,3776.565,7105.048,3137.215,3081.02,4350.885,4692.476000000001,3740.8770000000004,1632.166],\"yaxis\":\"y\",\"type\":\"scatter\"},{\"hovertemplate\":\"Ano=2006<br>M\\u00eas=%{x}<br>N\\u00famero de Inc\\u00eandios=%{y}<extra></extra>\",\"legendgroup\":\"2006\",\"line\":{\"color\":\"#FF97FF\",\"dash\":\"solid\"},\"marker\":{\"symbol\":\"circle\"},\"mode\":\"lines\",\"name\":\"2006\",\"orientation\":\"v\",\"showlegend\":true,\"x\":[\"Janeiro\",\"Fevereiro\",\"Abril\",\"Maio\",\"Junho\",\"Julho\",\"Agosto\",\"Setembro\",\"Outubro\",\"Novembro\",\"Dezembro\",null],\"xaxis\":\"x\",\"y\":[3255.0,1666.0,792.0,808.0,1968.0,3782.941,7338.1269999999995,3506.372,4710.161,2830.93,1400.63,1774.0],\"yaxis\":\"y\",\"type\":\"scatter\"},{\"hovertemplate\":\"Ano=2013<br>M\\u00eas=%{x}<br>N\\u00famero de Inc\\u00eandios=%{y}<extra></extra>\",\"legendgroup\":\"2013\",\"line\":{\"color\":\"#FECB52\",\"dash\":\"solid\"},\"marker\":{\"symbol\":\"circle\"},\"mode\":\"lines\",\"name\":\"2013\",\"orientation\":\"v\",\"showlegend\":true,\"x\":[\"Janeiro\",\"Fevereiro\",\"Abril\",\"Maio\",\"Junho\",\"Julho\",\"Agosto\",\"Setembro\",\"Outubro\",\"Novembro\",\"Dezembro\",null],\"xaxis\":\"x\",\"y\":[2045.0,1587.0,1372.0,2165.0,2686.2129999999997,3180.134,5855.928000000001,2979.6339999999996,3701.6409999999996,3796.362,3808.206,1969.0],\"yaxis\":\"y\",\"type\":\"scatter\"},{\"hovertemplate\":\"Ano=2007<br>M\\u00eas=%{x}<br>N\\u00famero de Inc\\u00eandios=%{y}<extra></extra>\",\"legendgroup\":\"2007\",\"line\":{\"color\":\"#636efa\",\"dash\":\"solid\"},\"marker\":{\"symbol\":\"circle\"},\"mode\":\"lines\",\"name\":\"2007\",\"orientation\":\"v\",\"showlegend\":true,\"x\":[\"Janeiro\",\"Fevereiro\",\"Abril\",\"Maio\",\"Junho\",\"Julho\",\"Agosto\",\"Setembro\",\"Outubro\",\"Novembro\",\"Dezembro\",null],\"xaxis\":\"x\",\"y\":[3055.0,1751.0,415.0,1286.0,2618.339,4815.995,3447.453,3643.973,3925.415,3044.0609999999997,2899.177,2136.0],\"yaxis\":\"y\",\"type\":\"scatter\"},{\"hovertemplate\":\"Ano=2008<br>M\\u00eas=%{x}<br>N\\u00famero de Inc\\u00eandios=%{y}<extra></extra>\",\"legendgroup\":\"2008\",\"line\":{\"color\":\"#EF553B\",\"dash\":\"solid\"},\"marker\":{\"symbol\":\"circle\"},\"mode\":\"lines\",\"name\":\"2008\",\"orientation\":\"v\",\"showlegend\":true,\"x\":[\"Janeiro\",\"Fevereiro\",\"Abril\",\"Maio\",\"Junho\",\"Julho\",\"Agosto\",\"Setembro\",\"Outubro\",\"Novembro\",\"Dezembro\",null],\"xaxis\":\"x\",\"y\":[2125.0,1275.0,1253.0,553.0,1287.0,3391.117,5975.561000000001,2943.5379999999996,3969.3299999999995,3125.6620000000003,2241.756,1239.0],\"yaxis\":\"y\",\"type\":\"scatter\"},{\"hovertemplate\":\"Ano=2012<br>M\\u00eas=%{x}<br>N\\u00famero de Inc\\u00eandios=%{y}<extra></extra>\",\"legendgroup\":\"2012\",\"line\":{\"color\":\"#00cc96\",\"dash\":\"solid\"},\"marker\":{\"symbol\":\"circle\"},\"mode\":\"lines\",\"name\":\"2012\",\"orientation\":\"v\",\"showlegend\":true,\"x\":[\"Janeiro\",\"Fevereiro\",\"Abril\",\"Maio\",\"Junho\",\"Julho\",\"Agosto\",\"Setembro\",\"Outubro\",\"Novembro\",\"Dezembro\",null],\"xaxis\":\"x\",\"y\":[2491.0,1436.0,2193.0,3240.0,4240.651,4512.004,4861.453999999999,3071.068,2835.408999999999,5428.166,3718.108,2058.0],\"yaxis\":\"y\",\"type\":\"scatter\"},{\"hovertemplate\":\"Ano=1999<br>M\\u00eas=%{x}<br>N\\u00famero de Inc\\u00eandios=%{y}<extra></extra>\",\"legendgroup\":\"1999\",\"line\":{\"color\":\"#ab63fa\",\"dash\":\"solid\"},\"marker\":{\"symbol\":\"circle\"},\"mode\":\"lines\",\"name\":\"1999\",\"orientation\":\"v\",\"showlegend\":true,\"x\":[\"Janeiro\",\"Fevereiro\",\"Abril\",\"Maio\",\"Junho\",\"Julho\",\"Agosto\",\"Setembro\",\"Outubro\",\"Novembro\",\"Dezembro\",null],\"xaxis\":\"x\",\"y\":[1081.0,1284.0,717.0,1812.0,1433.201,3538.223,3563.958,3754.192,3269.7660000000005,3495.37,2267.1110000000003,667.0],\"yaxis\":\"y\",\"type\":\"scatter\"},{\"hovertemplate\":\"Ano=2015<br>M\\u00eas=%{x}<br>N\\u00famero de Inc\\u00eandios=%{y}<extra></extra>\",\"legendgroup\":\"2015\",\"line\":{\"color\":\"#FFA15A\",\"dash\":\"solid\"},\"marker\":{\"symbol\":\"circle\"},\"mode\":\"lines\",\"name\":\"2015\",\"orientation\":\"v\",\"showlegend\":true,\"x\":[\"Janeiro\",\"Fevereiro\",\"Abril\",\"Maio\",\"Junho\",\"Julho\",\"Agosto\",\"Setembro\",\"Outubro\",\"Novembro\",\"Dezembro\",null],\"xaxis\":\"x\",\"y\":[4635.0,2309.0,2573.0,2384.0,3260.552,4364.392,4363.125,2494.658,4499.525000000001,4034.518,4088.522,2202.0],\"yaxis\":\"y\",\"type\":\"scatter\"},{\"hovertemplate\":\"Ano=1998<br>M\\u00eas=%{x}<br>N\\u00famero de Inc\\u00eandios=%{y}<extra></extra>\",\"legendgroup\":\"1998\",\"line\":{\"color\":\"#19d3f3\",\"dash\":\"solid\"},\"marker\":{\"symbol\":\"circle\"},\"mode\":\"lines\",\"name\":\"1998\",\"orientation\":\"v\",\"showlegend\":true,\"x\":[\"Janeiro\",\"Fevereiro\",\"Abril\",\"Maio\",\"Junho\",\"Julho\",\"Agosto\",\"Setembro\",\"Outubro\",\"Novembro\",\"Dezembro\",null],\"xaxis\":\"x\",\"y\":[0.0,0.0,0.0,0.0,1352.201,4357.7119999999995,3964.616,3012.9939999999997,2572.9429999999998,2710.098,2043.4070000000002,0.0],\"yaxis\":\"y\",\"type\":\"scatter\"},{\"hovertemplate\":\"Ano=2009<br>M\\u00eas=%{x}<br>N\\u00famero de Inc\\u00eandios=%{y}<extra></extra>\",\"legendgroup\":\"2009\",\"line\":{\"color\":\"#FF6692\",\"dash\":\"solid\"},\"marker\":{\"symbol\":\"circle\"},\"mode\":\"lines\",\"name\":\"2009\",\"orientation\":\"v\",\"showlegend\":true,\"x\":[\"Janeiro\",\"Fevereiro\",\"Abril\",\"Maio\",\"Junho\",\"Julho\",\"Agosto\",\"Setembro\",\"Outubro\",\"Novembro\",\"Dezembro\",null],\"xaxis\":\"x\",\"y\":[2848.0,1140.0,1078.0,2593.0,2962.0,4987.612999999999,6193.3769999999995,1856.6009999999997,6239.9800000000005,4913.02,2913.5870000000004,1392.0],\"yaxis\":\"y\",\"type\":\"scatter\"},{\"hovertemplate\":\"Ano=2011<br>M\\u00eas=%{x}<br>N\\u00famero de Inc\\u00eandios=%{y}<extra></extra>\",\"legendgroup\":\"2011\",\"line\":{\"color\":\"#B6E880\",\"dash\":\"solid\"},\"marker\":{\"symbol\":\"circle\"},\"mode\":\"lines\",\"name\":\"2011\",\"orientation\":\"v\",\"showlegend\":true,\"x\":[\"Janeiro\",\"Fevereiro\",\"Abril\",\"Maio\",\"Junho\",\"Julho\",\"Agosto\",\"Setembro\",\"Outubro\",\"Novembro\",\"Dezembro\",null],\"xaxis\":\"x\",\"y\":[1416.0,973.0,1152.0,1985.0,4578.0,5441.086,2289.208,3354.993,4700.002,4260.968,3546.2880000000005,937.0],\"yaxis\":\"y\",\"type\":\"scatter\"},{\"hovertemplate\":\"Ano=2010<br>M\\u00eas=%{x}<br>N\\u00famero de Inc\\u00eandios=%{y}<extra></extra>\",\"legendgroup\":\"2010\",\"line\":{\"color\":\"#FF97FF\",\"dash\":\"solid\"},\"marker\":{\"symbol\":\"circle\"},\"mode\":\"lines\",\"name\":\"2010\",\"orientation\":\"v\",\"showlegend\":true,\"x\":[\"Janeiro\",\"Fevereiro\",\"Abril\",\"Maio\",\"Junho\",\"Julho\",\"Agosto\",\"Setembro\",\"Outubro\",\"Novembro\",\"Dezembro\",null],\"xaxis\":\"x\",\"y\":[2851.0,2386.0,2200.0,2185.313,2618.025,5356.301,2367.008,2112.379,3995.5169999999994,5104.491,3444.415,2417.0],\"yaxis\":\"y\",\"type\":\"scatter\"},{\"hovertemplate\":\"Ano=2017<br>M\\u00eas=%{x}<br>N\\u00famero de Inc\\u00eandios=%{y}<extra></extra>\",\"legendgroup\":\"2017\",\"line\":{\"color\":\"#FECB52\",\"dash\":\"solid\"},\"marker\":{\"symbol\":\"circle\"},\"mode\":\"lines\",\"name\":\"2017\",\"orientation\":\"v\",\"showlegend\":true,\"x\":[\"Janeiro\",\"Fevereiro\",\"Abril\",\"Maio\",\"Junho\",\"Julho\",\"Agosto\",\"Setembro\",\"Outubro\",\"Novembro\",null],\"xaxis\":\"x\",\"y\":[2408.0,1400.0,1559.0,2506.0,4148.361,5929.998,4120.41,2779.3170000000005,3600.159,6217.379000000001,2017.0],\"yaxis\":\"y\",\"type\":\"scatter\"}],                        {\"template\":{\"data\":{\"bar\":[{\"error_x\":{\"color\":\"#2a3f5f\"},\"error_y\":{\"color\":\"#2a3f5f\"},\"marker\":{\"line\":{\"color\":\"#E5ECF6\",\"width\":0.5},\"pattern\":{\"fillmode\":\"overlay\",\"size\":10,\"solidity\":0.2}},\"type\":\"bar\"}],\"barpolar\":[{\"marker\":{\"line\":{\"color\":\"#E5ECF6\",\"width\":0.5},\"pattern\":{\"fillmode\":\"overlay\",\"size\":10,\"solidity\":0.2}},\"type\":\"barpolar\"}],\"carpet\":[{\"aaxis\":{\"endlinecolor\":\"#2a3f5f\",\"gridcolor\":\"white\",\"linecolor\":\"white\",\"minorgridcolor\":\"white\",\"startlinecolor\":\"#2a3f5f\"},\"baxis\":{\"endlinecolor\":\"#2a3f5f\",\"gridcolor\":\"white\",\"linecolor\":\"white\",\"minorgridcolor\":\"white\",\"startlinecolor\":\"#2a3f5f\"},\"type\":\"carpet\"}],\"choropleth\":[{\"colorbar\":{\"outlinewidth\":0,\"ticks\":\"\"},\"type\":\"choropleth\"}],\"contour\":[{\"colorbar\":{\"outlinewidth\":0,\"ticks\":\"\"},\"colorscale\":[[0.0,\"#0d0887\"],[0.1111111111111111,\"#46039f\"],[0.2222222222222222,\"#7201a8\"],[0.3333333333333333,\"#9c179e\"],[0.4444444444444444,\"#bd3786\"],[0.5555555555555556,\"#d8576b\"],[0.6666666666666666,\"#ed7953\"],[0.7777777777777778,\"#fb9f3a\"],[0.8888888888888888,\"#fdca26\"],[1.0,\"#f0f921\"]],\"type\":\"contour\"}],\"contourcarpet\":[{\"colorbar\":{\"outlinewidth\":0,\"ticks\":\"\"},\"type\":\"contourcarpet\"}],\"heatmap\":[{\"colorbar\":{\"outlinewidth\":0,\"ticks\":\"\"},\"colorscale\":[[0.0,\"#0d0887\"],[0.1111111111111111,\"#46039f\"],[0.2222222222222222,\"#7201a8\"],[0.3333333333333333,\"#9c179e\"],[0.4444444444444444,\"#bd3786\"],[0.5555555555555556,\"#d8576b\"],[0.6666666666666666,\"#ed7953\"],[0.7777777777777778,\"#fb9f3a\"],[0.8888888888888888,\"#fdca26\"],[1.0,\"#f0f921\"]],\"type\":\"heatmap\"}],\"heatmapgl\":[{\"colorbar\":{\"outlinewidth\":0,\"ticks\":\"\"},\"colorscale\":[[0.0,\"#0d0887\"],[0.1111111111111111,\"#46039f\"],[0.2222222222222222,\"#7201a8\"],[0.3333333333333333,\"#9c179e\"],[0.4444444444444444,\"#bd3786\"],[0.5555555555555556,\"#d8576b\"],[0.6666666666666666,\"#ed7953\"],[0.7777777777777778,\"#fb9f3a\"],[0.8888888888888888,\"#fdca26\"],[1.0,\"#f0f921\"]],\"type\":\"heatmapgl\"}],\"histogram\":[{\"marker\":{\"pattern\":{\"fillmode\":\"overlay\",\"size\":10,\"solidity\":0.2}},\"type\":\"histogram\"}],\"histogram2d\":[{\"colorbar\":{\"outlinewidth\":0,\"ticks\":\"\"},\"colorscale\":[[0.0,\"#0d0887\"],[0.1111111111111111,\"#46039f\"],[0.2222222222222222,\"#7201a8\"],[0.3333333333333333,\"#9c179e\"],[0.4444444444444444,\"#bd3786\"],[0.5555555555555556,\"#d8576b\"],[0.6666666666666666,\"#ed7953\"],[0.7777777777777778,\"#fb9f3a\"],[0.8888888888888888,\"#fdca26\"],[1.0,\"#f0f921\"]],\"type\":\"histogram2d\"}],\"histogram2dcontour\":[{\"colorbar\":{\"outlinewidth\":0,\"ticks\":\"\"},\"colorscale\":[[0.0,\"#0d0887\"],[0.1111111111111111,\"#46039f\"],[0.2222222222222222,\"#7201a8\"],[0.3333333333333333,\"#9c179e\"],[0.4444444444444444,\"#bd3786\"],[0.5555555555555556,\"#d8576b\"],[0.6666666666666666,\"#ed7953\"],[0.7777777777777778,\"#fb9f3a\"],[0.8888888888888888,\"#fdca26\"],[1.0,\"#f0f921\"]],\"type\":\"histogram2dcontour\"}],\"mesh3d\":[{\"colorbar\":{\"outlinewidth\":0,\"ticks\":\"\"},\"type\":\"mesh3d\"}],\"parcoords\":[{\"line\":{\"colorbar\":{\"outlinewidth\":0,\"ticks\":\"\"}},\"type\":\"parcoords\"}],\"pie\":[{\"automargin\":true,\"type\":\"pie\"}],\"scatter\":[{\"marker\":{\"colorbar\":{\"outlinewidth\":0,\"ticks\":\"\"}},\"type\":\"scatter\"}],\"scatter3d\":[{\"line\":{\"colorbar\":{\"outlinewidth\":0,\"ticks\":\"\"}},\"marker\":{\"colorbar\":{\"outlinewidth\":0,\"ticks\":\"\"}},\"type\":\"scatter3d\"}],\"scattercarpet\":[{\"marker\":{\"colorbar\":{\"outlinewidth\":0,\"ticks\":\"\"}},\"type\":\"scattercarpet\"}],\"scattergeo\":[{\"marker\":{\"colorbar\":{\"outlinewidth\":0,\"ticks\":\"\"}},\"type\":\"scattergeo\"}],\"scattergl\":[{\"marker\":{\"colorbar\":{\"outlinewidth\":0,\"ticks\":\"\"}},\"type\":\"scattergl\"}],\"scattermapbox\":[{\"marker\":{\"colorbar\":{\"outlinewidth\":0,\"ticks\":\"\"}},\"type\":\"scattermapbox\"}],\"scatterpolar\":[{\"marker\":{\"colorbar\":{\"outlinewidth\":0,\"ticks\":\"\"}},\"type\":\"scatterpolar\"}],\"scatterpolargl\":[{\"marker\":{\"colorbar\":{\"outlinewidth\":0,\"ticks\":\"\"}},\"type\":\"scatterpolargl\"}],\"scatterternary\":[{\"marker\":{\"colorbar\":{\"outlinewidth\":0,\"ticks\":\"\"}},\"type\":\"scatterternary\"}],\"surface\":[{\"colorbar\":{\"outlinewidth\":0,\"ticks\":\"\"},\"colorscale\":[[0.0,\"#0d0887\"],[0.1111111111111111,\"#46039f\"],[0.2222222222222222,\"#7201a8\"],[0.3333333333333333,\"#9c179e\"],[0.4444444444444444,\"#bd3786\"],[0.5555555555555556,\"#d8576b\"],[0.6666666666666666,\"#ed7953\"],[0.7777777777777778,\"#fb9f3a\"],[0.8888888888888888,\"#fdca26\"],[1.0,\"#f0f921\"]],\"type\":\"surface\"}],\"table\":[{\"cells\":{\"fill\":{\"color\":\"#EBF0F8\"},\"line\":{\"color\":\"white\"}},\"header\":{\"fill\":{\"color\":\"#C8D4E3\"},\"line\":{\"color\":\"white\"}},\"type\":\"table\"}]},\"layout\":{\"annotationdefaults\":{\"arrowcolor\":\"#2a3f5f\",\"arrowhead\":0,\"arrowwidth\":1},\"autotypenumbers\":\"strict\",\"coloraxis\":{\"colorbar\":{\"outlinewidth\":0,\"ticks\":\"\"}},\"colorscale\":{\"diverging\":[[0,\"#8e0152\"],[0.1,\"#c51b7d\"],[0.2,\"#de77ae\"],[0.3,\"#f1b6da\"],[0.4,\"#fde0ef\"],[0.5,\"#f7f7f7\"],[0.6,\"#e6f5d0\"],[0.7,\"#b8e186\"],[0.8,\"#7fbc41\"],[0.9,\"#4d9221\"],[1,\"#276419\"]],\"sequential\":[[0.0,\"#0d0887\"],[0.1111111111111111,\"#46039f\"],[0.2222222222222222,\"#7201a8\"],[0.3333333333333333,\"#9c179e\"],[0.4444444444444444,\"#bd3786\"],[0.5555555555555556,\"#d8576b\"],[0.6666666666666666,\"#ed7953\"],[0.7777777777777778,\"#fb9f3a\"],[0.8888888888888888,\"#fdca26\"],[1.0,\"#f0f921\"]],\"sequentialminus\":[[0.0,\"#0d0887\"],[0.1111111111111111,\"#46039f\"],[0.2222222222222222,\"#7201a8\"],[0.3333333333333333,\"#9c179e\"],[0.4444444444444444,\"#bd3786\"],[0.5555555555555556,\"#d8576b\"],[0.6666666666666666,\"#ed7953\"],[0.7777777777777778,\"#fb9f3a\"],[0.8888888888888888,\"#fdca26\"],[1.0,\"#f0f921\"]]},\"colorway\":[\"#636efa\",\"#EF553B\",\"#00cc96\",\"#ab63fa\",\"#FFA15A\",\"#19d3f3\",\"#FF6692\",\"#B6E880\",\"#FF97FF\",\"#FECB52\"],\"font\":{\"color\":\"#2a3f5f\"},\"geo\":{\"bgcolor\":\"white\",\"lakecolor\":\"white\",\"landcolor\":\"#E5ECF6\",\"showlakes\":true,\"showland\":true,\"subunitcolor\":\"white\"},\"hoverlabel\":{\"align\":\"left\"},\"hovermode\":\"closest\",\"mapbox\":{\"style\":\"light\"},\"paper_bgcolor\":\"white\",\"plot_bgcolor\":\"#E5ECF6\",\"polar\":{\"angularaxis\":{\"gridcolor\":\"white\",\"linecolor\":\"white\",\"ticks\":\"\"},\"bgcolor\":\"#E5ECF6\",\"radialaxis\":{\"gridcolor\":\"white\",\"linecolor\":\"white\",\"ticks\":\"\"}},\"scene\":{\"xaxis\":{\"backgroundcolor\":\"#E5ECF6\",\"gridcolor\":\"white\",\"gridwidth\":2,\"linecolor\":\"white\",\"showbackground\":true,\"ticks\":\"\",\"zerolinecolor\":\"white\"},\"yaxis\":{\"backgroundcolor\":\"#E5ECF6\",\"gridcolor\":\"white\",\"gridwidth\":2,\"linecolor\":\"white\",\"showbackground\":true,\"ticks\":\"\",\"zerolinecolor\":\"white\"},\"zaxis\":{\"backgroundcolor\":\"#E5ECF6\",\"gridcolor\":\"white\",\"gridwidth\":2,\"linecolor\":\"white\",\"showbackground\":true,\"ticks\":\"\",\"zerolinecolor\":\"white\"}},\"shapedefaults\":{\"line\":{\"color\":\"#2a3f5f\"}},\"ternary\":{\"aaxis\":{\"gridcolor\":\"white\",\"linecolor\":\"white\",\"ticks\":\"\"},\"baxis\":{\"gridcolor\":\"white\",\"linecolor\":\"white\",\"ticks\":\"\"},\"bgcolor\":\"#E5ECF6\",\"caxis\":{\"gridcolor\":\"white\",\"linecolor\":\"white\",\"ticks\":\"\"}},\"title\":{\"x\":0.05},\"xaxis\":{\"automargin\":true,\"gridcolor\":\"white\",\"linecolor\":\"white\",\"ticks\":\"\",\"title\":{\"standoff\":15},\"zerolinecolor\":\"white\",\"zerolinewidth\":2},\"yaxis\":{\"automargin\":true,\"gridcolor\":\"white\",\"linecolor\":\"white\",\"ticks\":\"\",\"title\":{\"standoff\":15},\"zerolinecolor\":\"white\",\"zerolinewidth\":2}}},\"xaxis\":{\"anchor\":\"y\",\"domain\":[0.0,1.0],\"title\":{\"text\":\"M\\u00eas\"}},\"yaxis\":{\"anchor\":\"x\",\"domain\":[0.0,1.0],\"title\":{\"text\":\"N\\u00famero de Inc\\u00eandios\"}},\"legend\":{\"title\":{\"text\":\"Ano\"},\"tracegroupgap\":0},\"title\":{\"text\":\"Inc\\u00eandios Mensais ao Longo dos Anos\",\"font\":{\"size\":18}}},                        {\"responsive\": true}                    )                };                            </script>        </div>\n",
       "</body>\n",
       "</html>"
      ]
     },
     "metadata": {
      "application/vnd.databricks.v1+output": {
       "addedWidgets": {},
       "arguments": {},
       "data": "<html>\n<head><meta charset=\"utf-8\" /></head>\n<body>\n    <div>            <script src=\"https://cdnjs.cloudflare.com/ajax/libs/mathjax/2.7.5/MathJax.js?config=TeX-AMS-MML_SVG\"></script><script type=\"text/javascript\">if (window.MathJax) {MathJax.Hub.Config({SVG: {font: \"STIX-Web\"}});}</script>                <script type=\"text/javascript\">window.PlotlyConfig = {MathJaxConfig: 'local'};</script>\n        <script src=\"https://cdn.plot.ly/plotly-2.9.0.min.js\"></script>                <div id=\"c73b6b1a-ad54-4f23-b4c1-d2c115a7ee26\" class=\"plotly-graph-div\" style=\"height:100%; width:100%;\"></div>            <script type=\"text/javascript\">                                    window.PLOTLYENV=window.PLOTLYENV || {};                                    if (document.getElementById(\"c73b6b1a-ad54-4f23-b4c1-d2c115a7ee26\")) {                    Plotly.newPlot(                        \"c73b6b1a-ad54-4f23-b4c1-d2c115a7ee26\",                        [{\"hovertemplate\":\"Ano=2000<br>M\\u00eas=%{x}<br>N\\u00famero de Inc\\u00eandios=%{y}<extra></extra>\",\"legendgroup\":\"2000\",\"line\":{\"color\":\"#636efa\",\"dash\":\"solid\"},\"marker\":{\"symbol\":\"circle\"},\"mode\":\"lines\",\"name\":\"2000\",\"orientation\":\"v\",\"showlegend\":true,\"x\":[\"Janeiro\",\"Fevereiro\",\"Abril\",\"Maio\",\"Junho\",\"Julho\",\"Agosto\",\"Setembro\",\"Outubro\",\"Novembro\",\"Dezembro\",null],\"xaxis\":\"x\",\"y\":[778.0,561.0,537.0,904.194,1921.358,3402.3379999999997,6524.693,2379.9320000000002,5413.9439999999995,2771.633,1309.159,848.0],\"yaxis\":\"y\",\"type\":\"scatter\"},{\"hovertemplate\":\"Ano=2002<br>M\\u00eas=%{x}<br>N\\u00famero de Inc\\u00eandios=%{y}<extra></extra>\",\"legendgroup\":\"2002\",\"line\":{\"color\":\"#EF553B\",\"dash\":\"solid\"},\"marker\":{\"symbol\":\"circle\"},\"mode\":\"lines\",\"name\":\"2002\",\"orientation\":\"v\",\"showlegend\":true,\"x\":[\"Janeiro\",\"Fevereiro\",\"Abril\",\"Maio\",\"Junho\",\"Julho\",\"Agosto\",\"Setembro\",\"Outubro\",\"Novembro\",\"Dezembro\",null],\"xaxis\":\"x\",\"y\":[1654.0,1570.0,1682.0,1292.528,2968.878,6825.932,4327.876,2845.0109999999995,4822.942,3997.206,3725.227,1679.0],\"yaxis\":\"y\",\"type\":\"scatter\"},{\"hovertemplate\":\"Ano=2003<br>M\\u00eas=%{x}<br>N\\u00famero de Inc\\u00eandios=%{y}<extra></extra>\",\"legendgroup\":\"2003\",\"line\":{\"color\":\"#00cc96\",\"dash\":\"solid\"},\"marker\":{\"symbol\":\"circle\"},\"mode\":\"lines\",\"name\":\"2003\",\"orientation\":\"v\",\"showlegend\":true,\"x\":[\"Janeiro\",\"Fevereiro\",\"Abril\",\"Maio\",\"Junho\",\"Julho\",\"Agosto\",\"Setembro\",\"Outubro\",\"Novembro\",\"Dezembro\",null],\"xaxis\":\"x\",\"y\":[5091.0,2398.0,2677.0,1747.0,2197.313,3703.109,4301.474,3504.893,5643.689,5793.796,4084.2690000000002,1619.131],\"yaxis\":\"y\",\"type\":\"scatter\"},{\"hovertemplate\":\"Ano=2004<br>M\\u00eas=%{x}<br>N\\u00famero de Inc\\u00eandios=%{y}<extra></extra>\",\"legendgroup\":\"2004\",\"line\":{\"color\":\"#ab63fa\",\"dash\":\"solid\"},\"marker\":{\"symbol\":\"circle\"},\"mode\":\"lines\",\"name\":\"2004\",\"orientation\":\"v\",\"showlegend\":true,\"x\":[\"Janeiro\",\"Fevereiro\",\"Abril\",\"Maio\",\"Junho\",\"Julho\",\"Agosto\",\"Setembro\",\"Outubro\",\"Novembro\",\"Dezembro\",null],\"xaxis\":\"x\",\"y\":[2705.0,1255.0,1335.0,1124.413,3380.8920000000003,3887.9410000000003,2974.397,3835.7439999999997,5806.559,5709.079,4399.138,2040.0],\"yaxis\":\"y\",\"type\":\"scatter\"},{\"hovertemplate\":\"Ano=2014<br>M\\u00eas=%{x}<br>N\\u00famero de Inc\\u00eandios=%{y}<extra></extra>\",\"legendgroup\":\"2014\",\"line\":{\"color\":\"#FFA15A\",\"dash\":\"solid\"},\"marker\":{\"symbol\":\"circle\"},\"mode\":\"lines\",\"name\":\"2014\",\"orientation\":\"v\",\"showlegend\":true,\"x\":[\"Janeiro\",\"Fevereiro\",\"Abril\",\"Maio\",\"Junho\",\"Julho\",\"Agosto\",\"Setembro\",\"Outubro\",\"Novembro\",\"Dezembro\",null],\"xaxis\":\"x\",\"y\":[2633.0,1547.0,2358.0,3189.0,3319.167,3903.9040000000005,2738.3190000000004,3131.074,5512.8369999999995,5347.654,3717.228,2224.0],\"yaxis\":\"y\",\"type\":\"scatter\"},{\"hovertemplate\":\"Ano=2001<br>M\\u00eas=%{x}<br>N\\u00famero de Inc\\u00eandios=%{y}<extra></extra>\",\"legendgroup\":\"2001\",\"line\":{\"color\":\"#19d3f3\",\"dash\":\"solid\"},\"marker\":{\"symbol\":\"circle\"},\"mode\":\"lines\",\"name\":\"2001\",\"orientation\":\"v\",\"showlegend\":true,\"x\":[\"Janeiro\",\"Fevereiro\",\"Abril\",\"Maio\",\"Junho\",\"Julho\",\"Agosto\",\"Setembro\",\"Outubro\",\"Novembro\",\"Dezembro\",null],\"xaxis\":\"x\",\"y\":[547.0,1059.0,1081.0,898.193,1774.665,4936.555,5080.833,2650.221,5289.773999999999,3248.403,2344.86,161.108],\"yaxis\":\"y\",\"type\":\"scatter\"},{\"hovertemplate\":\"Ano=2005<br>M\\u00eas=%{x}<br>N\\u00famero de Inc\\u00eandios=%{y}<extra></extra>\",\"legendgroup\":\"2005\",\"line\":{\"color\":\"#FF6692\",\"dash\":\"solid\"},\"marker\":{\"symbol\":\"circle\"},\"mode\":\"lines\",\"name\":\"2005\",\"orientation\":\"v\",\"showlegend\":true,\"x\":[\"Janeiro\",\"Fevereiro\",\"Abril\",\"Maio\",\"Junho\",\"Julho\",\"Agosto\",\"Setembro\",\"Outubro\",\"Novembro\",\"Dezembro\",null],\"xaxis\":\"x\",\"y\":[3223.768,2153.0,1011.0,1570.641,3519.294,4903.77,4625.403,1640.6909999999998,3821.101,4986.782,1843.5149999999999,1706.0],\"yaxis\":\"y\",\"type\":\"scatter\"},{\"hovertemplate\":\"Ano=2016<br>M\\u00eas=%{x}<br>N\\u00famero de Inc\\u00eandios=%{y}<extra></extra>\",\"legendgroup\":\"2016\",\"line\":{\"color\":\"#B6E880\",\"dash\":\"solid\"},\"marker\":{\"symbol\":\"circle\"},\"mode\":\"lines\",\"name\":\"2016\",\"orientation\":\"v\",\"showlegend\":true,\"x\":[\"Janeiro\",\"Fevereiro\",\"Abril\",\"Maio\",\"Junho\",\"Julho\",\"Agosto\",\"Setembro\",\"Outubro\",\"Novembro\",\"Dezembro\",null],\"xaxis\":\"x\",\"y\":[2906.076,3098.05,2203.77,2488.081,3776.565,7105.048,3137.215,3081.02,4350.885,4692.476000000001,3740.8770000000004,1632.166],\"yaxis\":\"y\",\"type\":\"scatter\"},{\"hovertemplate\":\"Ano=2006<br>M\\u00eas=%{x}<br>N\\u00famero de Inc\\u00eandios=%{y}<extra></extra>\",\"legendgroup\":\"2006\",\"line\":{\"color\":\"#FF97FF\",\"dash\":\"solid\"},\"marker\":{\"symbol\":\"circle\"},\"mode\":\"lines\",\"name\":\"2006\",\"orientation\":\"v\",\"showlegend\":true,\"x\":[\"Janeiro\",\"Fevereiro\",\"Abril\",\"Maio\",\"Junho\",\"Julho\",\"Agosto\",\"Setembro\",\"Outubro\",\"Novembro\",\"Dezembro\",null],\"xaxis\":\"x\",\"y\":[3255.0,1666.0,792.0,808.0,1968.0,3782.941,7338.1269999999995,3506.372,4710.161,2830.93,1400.63,1774.0],\"yaxis\":\"y\",\"type\":\"scatter\"},{\"hovertemplate\":\"Ano=2013<br>M\\u00eas=%{x}<br>N\\u00famero de Inc\\u00eandios=%{y}<extra></extra>\",\"legendgroup\":\"2013\",\"line\":{\"color\":\"#FECB52\",\"dash\":\"solid\"},\"marker\":{\"symbol\":\"circle\"},\"mode\":\"lines\",\"name\":\"2013\",\"orientation\":\"v\",\"showlegend\":true,\"x\":[\"Janeiro\",\"Fevereiro\",\"Abril\",\"Maio\",\"Junho\",\"Julho\",\"Agosto\",\"Setembro\",\"Outubro\",\"Novembro\",\"Dezembro\",null],\"xaxis\":\"x\",\"y\":[2045.0,1587.0,1372.0,2165.0,2686.2129999999997,3180.134,5855.928000000001,2979.6339999999996,3701.6409999999996,3796.362,3808.206,1969.0],\"yaxis\":\"y\",\"type\":\"scatter\"},{\"hovertemplate\":\"Ano=2007<br>M\\u00eas=%{x}<br>N\\u00famero de Inc\\u00eandios=%{y}<extra></extra>\",\"legendgroup\":\"2007\",\"line\":{\"color\":\"#636efa\",\"dash\":\"solid\"},\"marker\":{\"symbol\":\"circle\"},\"mode\":\"lines\",\"name\":\"2007\",\"orientation\":\"v\",\"showlegend\":true,\"x\":[\"Janeiro\",\"Fevereiro\",\"Abril\",\"Maio\",\"Junho\",\"Julho\",\"Agosto\",\"Setembro\",\"Outubro\",\"Novembro\",\"Dezembro\",null],\"xaxis\":\"x\",\"y\":[3055.0,1751.0,415.0,1286.0,2618.339,4815.995,3447.453,3643.973,3925.415,3044.0609999999997,2899.177,2136.0],\"yaxis\":\"y\",\"type\":\"scatter\"},{\"hovertemplate\":\"Ano=2008<br>M\\u00eas=%{x}<br>N\\u00famero de Inc\\u00eandios=%{y}<extra></extra>\",\"legendgroup\":\"2008\",\"line\":{\"color\":\"#EF553B\",\"dash\":\"solid\"},\"marker\":{\"symbol\":\"circle\"},\"mode\":\"lines\",\"name\":\"2008\",\"orientation\":\"v\",\"showlegend\":true,\"x\":[\"Janeiro\",\"Fevereiro\",\"Abril\",\"Maio\",\"Junho\",\"Julho\",\"Agosto\",\"Setembro\",\"Outubro\",\"Novembro\",\"Dezembro\",null],\"xaxis\":\"x\",\"y\":[2125.0,1275.0,1253.0,553.0,1287.0,3391.117,5975.561000000001,2943.5379999999996,3969.3299999999995,3125.6620000000003,2241.756,1239.0],\"yaxis\":\"y\",\"type\":\"scatter\"},{\"hovertemplate\":\"Ano=2012<br>M\\u00eas=%{x}<br>N\\u00famero de Inc\\u00eandios=%{y}<extra></extra>\",\"legendgroup\":\"2012\",\"line\":{\"color\":\"#00cc96\",\"dash\":\"solid\"},\"marker\":{\"symbol\":\"circle\"},\"mode\":\"lines\",\"name\":\"2012\",\"orientation\":\"v\",\"showlegend\":true,\"x\":[\"Janeiro\",\"Fevereiro\",\"Abril\",\"Maio\",\"Junho\",\"Julho\",\"Agosto\",\"Setembro\",\"Outubro\",\"Novembro\",\"Dezembro\",null],\"xaxis\":\"x\",\"y\":[2491.0,1436.0,2193.0,3240.0,4240.651,4512.004,4861.453999999999,3071.068,2835.408999999999,5428.166,3718.108,2058.0],\"yaxis\":\"y\",\"type\":\"scatter\"},{\"hovertemplate\":\"Ano=1999<br>M\\u00eas=%{x}<br>N\\u00famero de Inc\\u00eandios=%{y}<extra></extra>\",\"legendgroup\":\"1999\",\"line\":{\"color\":\"#ab63fa\",\"dash\":\"solid\"},\"marker\":{\"symbol\":\"circle\"},\"mode\":\"lines\",\"name\":\"1999\",\"orientation\":\"v\",\"showlegend\":true,\"x\":[\"Janeiro\",\"Fevereiro\",\"Abril\",\"Maio\",\"Junho\",\"Julho\",\"Agosto\",\"Setembro\",\"Outubro\",\"Novembro\",\"Dezembro\",null],\"xaxis\":\"x\",\"y\":[1081.0,1284.0,717.0,1812.0,1433.201,3538.223,3563.958,3754.192,3269.7660000000005,3495.37,2267.1110000000003,667.0],\"yaxis\":\"y\",\"type\":\"scatter\"},{\"hovertemplate\":\"Ano=2015<br>M\\u00eas=%{x}<br>N\\u00famero de Inc\\u00eandios=%{y}<extra></extra>\",\"legendgroup\":\"2015\",\"line\":{\"color\":\"#FFA15A\",\"dash\":\"solid\"},\"marker\":{\"symbol\":\"circle\"},\"mode\":\"lines\",\"name\":\"2015\",\"orientation\":\"v\",\"showlegend\":true,\"x\":[\"Janeiro\",\"Fevereiro\",\"Abril\",\"Maio\",\"Junho\",\"Julho\",\"Agosto\",\"Setembro\",\"Outubro\",\"Novembro\",\"Dezembro\",null],\"xaxis\":\"x\",\"y\":[4635.0,2309.0,2573.0,2384.0,3260.552,4364.392,4363.125,2494.658,4499.525000000001,4034.518,4088.522,2202.0],\"yaxis\":\"y\",\"type\":\"scatter\"},{\"hovertemplate\":\"Ano=1998<br>M\\u00eas=%{x}<br>N\\u00famero de Inc\\u00eandios=%{y}<extra></extra>\",\"legendgroup\":\"1998\",\"line\":{\"color\":\"#19d3f3\",\"dash\":\"solid\"},\"marker\":{\"symbol\":\"circle\"},\"mode\":\"lines\",\"name\":\"1998\",\"orientation\":\"v\",\"showlegend\":true,\"x\":[\"Janeiro\",\"Fevereiro\",\"Abril\",\"Maio\",\"Junho\",\"Julho\",\"Agosto\",\"Setembro\",\"Outubro\",\"Novembro\",\"Dezembro\",null],\"xaxis\":\"x\",\"y\":[0.0,0.0,0.0,0.0,1352.201,4357.7119999999995,3964.616,3012.9939999999997,2572.9429999999998,2710.098,2043.4070000000002,0.0],\"yaxis\":\"y\",\"type\":\"scatter\"},{\"hovertemplate\":\"Ano=2009<br>M\\u00eas=%{x}<br>N\\u00famero de Inc\\u00eandios=%{y}<extra></extra>\",\"legendgroup\":\"2009\",\"line\":{\"color\":\"#FF6692\",\"dash\":\"solid\"},\"marker\":{\"symbol\":\"circle\"},\"mode\":\"lines\",\"name\":\"2009\",\"orientation\":\"v\",\"showlegend\":true,\"x\":[\"Janeiro\",\"Fevereiro\",\"Abril\",\"Maio\",\"Junho\",\"Julho\",\"Agosto\",\"Setembro\",\"Outubro\",\"Novembro\",\"Dezembro\",null],\"xaxis\":\"x\",\"y\":[2848.0,1140.0,1078.0,2593.0,2962.0,4987.612999999999,6193.3769999999995,1856.6009999999997,6239.9800000000005,4913.02,2913.5870000000004,1392.0],\"yaxis\":\"y\",\"type\":\"scatter\"},{\"hovertemplate\":\"Ano=2011<br>M\\u00eas=%{x}<br>N\\u00famero de Inc\\u00eandios=%{y}<extra></extra>\",\"legendgroup\":\"2011\",\"line\":{\"color\":\"#B6E880\",\"dash\":\"solid\"},\"marker\":{\"symbol\":\"circle\"},\"mode\":\"lines\",\"name\":\"2011\",\"orientation\":\"v\",\"showlegend\":true,\"x\":[\"Janeiro\",\"Fevereiro\",\"Abril\",\"Maio\",\"Junho\",\"Julho\",\"Agosto\",\"Setembro\",\"Outubro\",\"Novembro\",\"Dezembro\",null],\"xaxis\":\"x\",\"y\":[1416.0,973.0,1152.0,1985.0,4578.0,5441.086,2289.208,3354.993,4700.002,4260.968,3546.2880000000005,937.0],\"yaxis\":\"y\",\"type\":\"scatter\"},{\"hovertemplate\":\"Ano=2010<br>M\\u00eas=%{x}<br>N\\u00famero de Inc\\u00eandios=%{y}<extra></extra>\",\"legendgroup\":\"2010\",\"line\":{\"color\":\"#FF97FF\",\"dash\":\"solid\"},\"marker\":{\"symbol\":\"circle\"},\"mode\":\"lines\",\"name\":\"2010\",\"orientation\":\"v\",\"showlegend\":true,\"x\":[\"Janeiro\",\"Fevereiro\",\"Abril\",\"Maio\",\"Junho\",\"Julho\",\"Agosto\",\"Setembro\",\"Outubro\",\"Novembro\",\"Dezembro\",null],\"xaxis\":\"x\",\"y\":[2851.0,2386.0,2200.0,2185.313,2618.025,5356.301,2367.008,2112.379,3995.5169999999994,5104.491,3444.415,2417.0],\"yaxis\":\"y\",\"type\":\"scatter\"},{\"hovertemplate\":\"Ano=2017<br>M\\u00eas=%{x}<br>N\\u00famero de Inc\\u00eandios=%{y}<extra></extra>\",\"legendgroup\":\"2017\",\"line\":{\"color\":\"#FECB52\",\"dash\":\"solid\"},\"marker\":{\"symbol\":\"circle\"},\"mode\":\"lines\",\"name\":\"2017\",\"orientation\":\"v\",\"showlegend\":true,\"x\":[\"Janeiro\",\"Fevereiro\",\"Abril\",\"Maio\",\"Junho\",\"Julho\",\"Agosto\",\"Setembro\",\"Outubro\",\"Novembro\",null],\"xaxis\":\"x\",\"y\":[2408.0,1400.0,1559.0,2506.0,4148.361,5929.998,4120.41,2779.3170000000005,3600.159,6217.379000000001,2017.0],\"yaxis\":\"y\",\"type\":\"scatter\"}],                        {\"template\":{\"data\":{\"bar\":[{\"error_x\":{\"color\":\"#2a3f5f\"},\"error_y\":{\"color\":\"#2a3f5f\"},\"marker\":{\"line\":{\"color\":\"#E5ECF6\",\"width\":0.5},\"pattern\":{\"fillmode\":\"overlay\",\"size\":10,\"solidity\":0.2}},\"type\":\"bar\"}],\"barpolar\":[{\"marker\":{\"line\":{\"color\":\"#E5ECF6\",\"width\":0.5},\"pattern\":{\"fillmode\":\"overlay\",\"size\":10,\"solidity\":0.2}},\"type\":\"barpolar\"}],\"carpet\":[{\"aaxis\":{\"endlinecolor\":\"#2a3f5f\",\"gridcolor\":\"white\",\"linecolor\":\"white\",\"minorgridcolor\":\"white\",\"startlinecolor\":\"#2a3f5f\"},\"baxis\":{\"endlinecolor\":\"#2a3f5f\",\"gridcolor\":\"white\",\"linecolor\":\"white\",\"minorgridcolor\":\"white\",\"startlinecolor\":\"#2a3f5f\"},\"type\":\"carpet\"}],\"choropleth\":[{\"colorbar\":{\"outlinewidth\":0,\"ticks\":\"\"},\"type\":\"choropleth\"}],\"contour\":[{\"colorbar\":{\"outlinewidth\":0,\"ticks\":\"\"},\"colorscale\":[[0.0,\"#0d0887\"],[0.1111111111111111,\"#46039f\"],[0.2222222222222222,\"#7201a8\"],[0.3333333333333333,\"#9c179e\"],[0.4444444444444444,\"#bd3786\"],[0.5555555555555556,\"#d8576b\"],[0.6666666666666666,\"#ed7953\"],[0.7777777777777778,\"#fb9f3a\"],[0.8888888888888888,\"#fdca26\"],[1.0,\"#f0f921\"]],\"type\":\"contour\"}],\"contourcarpet\":[{\"colorbar\":{\"outlinewidth\":0,\"ticks\":\"\"},\"type\":\"contourcarpet\"}],\"heatmap\":[{\"colorbar\":{\"outlinewidth\":0,\"ticks\":\"\"},\"colorscale\":[[0.0,\"#0d0887\"],[0.1111111111111111,\"#46039f\"],[0.2222222222222222,\"#7201a8\"],[0.3333333333333333,\"#9c179e\"],[0.4444444444444444,\"#bd3786\"],[0.5555555555555556,\"#d8576b\"],[0.6666666666666666,\"#ed7953\"],[0.7777777777777778,\"#fb9f3a\"],[0.8888888888888888,\"#fdca26\"],[1.0,\"#f0f921\"]],\"type\":\"heatmap\"}],\"heatmapgl\":[{\"colorbar\":{\"outlinewidth\":0,\"ticks\":\"\"},\"colorscale\":[[0.0,\"#0d0887\"],[0.1111111111111111,\"#46039f\"],[0.2222222222222222,\"#7201a8\"],[0.3333333333333333,\"#9c179e\"],[0.4444444444444444,\"#bd3786\"],[0.5555555555555556,\"#d8576b\"],[0.6666666666666666,\"#ed7953\"],[0.7777777777777778,\"#fb9f3a\"],[0.8888888888888888,\"#fdca26\"],[1.0,\"#f0f921\"]],\"type\":\"heatmapgl\"}],\"histogram\":[{\"marker\":{\"pattern\":{\"fillmode\":\"overlay\",\"size\":10,\"solidity\":0.2}},\"type\":\"histogram\"}],\"histogram2d\":[{\"colorbar\":{\"outlinewidth\":0,\"ticks\":\"\"},\"colorscale\":[[0.0,\"#0d0887\"],[0.1111111111111111,\"#46039f\"],[0.2222222222222222,\"#7201a8\"],[0.3333333333333333,\"#9c179e\"],[0.4444444444444444,\"#bd3786\"],[0.5555555555555556,\"#d8576b\"],[0.6666666666666666,\"#ed7953\"],[0.7777777777777778,\"#fb9f3a\"],[0.8888888888888888,\"#fdca26\"],[1.0,\"#f0f921\"]],\"type\":\"histogram2d\"}],\"histogram2dcontour\":[{\"colorbar\":{\"outlinewidth\":0,\"ticks\":\"\"},\"colorscale\":[[0.0,\"#0d0887\"],[0.1111111111111111,\"#46039f\"],[0.2222222222222222,\"#7201a8\"],[0.3333333333333333,\"#9c179e\"],[0.4444444444444444,\"#bd3786\"],[0.5555555555555556,\"#d8576b\"],[0.6666666666666666,\"#ed7953\"],[0.7777777777777778,\"#fb9f3a\"],[0.8888888888888888,\"#fdca26\"],[1.0,\"#f0f921\"]],\"type\":\"histogram2dcontour\"}],\"mesh3d\":[{\"colorbar\":{\"outlinewidth\":0,\"ticks\":\"\"},\"type\":\"mesh3d\"}],\"parcoords\":[{\"line\":{\"colorbar\":{\"outlinewidth\":0,\"ticks\":\"\"}},\"type\":\"parcoords\"}],\"pie\":[{\"automargin\":true,\"type\":\"pie\"}],\"scatter\":[{\"marker\":{\"colorbar\":{\"outlinewidth\":0,\"ticks\":\"\"}},\"type\":\"scatter\"}],\"scatter3d\":[{\"line\":{\"colorbar\":{\"outlinewidth\":0,\"ticks\":\"\"}},\"marker\":{\"colorbar\":{\"outlinewidth\":0,\"ticks\":\"\"}},\"type\":\"scatter3d\"}],\"scattercarpet\":[{\"marker\":{\"colorbar\":{\"outlinewidth\":0,\"ticks\":\"\"}},\"type\":\"scattercarpet\"}],\"scattergeo\":[{\"marker\":{\"colorbar\":{\"outlinewidth\":0,\"ticks\":\"\"}},\"type\":\"scattergeo\"}],\"scattergl\":[{\"marker\":{\"colorbar\":{\"outlinewidth\":0,\"ticks\":\"\"}},\"type\":\"scattergl\"}],\"scattermapbox\":[{\"marker\":{\"colorbar\":{\"outlinewidth\":0,\"ticks\":\"\"}},\"type\":\"scattermapbox\"}],\"scatterpolar\":[{\"marker\":{\"colorbar\":{\"outlinewidth\":0,\"ticks\":\"\"}},\"type\":\"scatterpolar\"}],\"scatterpolargl\":[{\"marker\":{\"colorbar\":{\"outlinewidth\":0,\"ticks\":\"\"}},\"type\":\"scatterpolargl\"}],\"scatterternary\":[{\"marker\":{\"colorbar\":{\"outlinewidth\":0,\"ticks\":\"\"}},\"type\":\"scatterternary\"}],\"surface\":[{\"colorbar\":{\"outlinewidth\":0,\"ticks\":\"\"},\"colorscale\":[[0.0,\"#0d0887\"],[0.1111111111111111,\"#46039f\"],[0.2222222222222222,\"#7201a8\"],[0.3333333333333333,\"#9c179e\"],[0.4444444444444444,\"#bd3786\"],[0.5555555555555556,\"#d8576b\"],[0.6666666666666666,\"#ed7953\"],[0.7777777777777778,\"#fb9f3a\"],[0.8888888888888888,\"#fdca26\"],[1.0,\"#f0f921\"]],\"type\":\"surface\"}],\"table\":[{\"cells\":{\"fill\":{\"color\":\"#EBF0F8\"},\"line\":{\"color\":\"white\"}},\"header\":{\"fill\":{\"color\":\"#C8D4E3\"},\"line\":{\"color\":\"white\"}},\"type\":\"table\"}]},\"layout\":{\"annotationdefaults\":{\"arrowcolor\":\"#2a3f5f\",\"arrowhead\":0,\"arrowwidth\":1},\"autotypenumbers\":\"strict\",\"coloraxis\":{\"colorbar\":{\"outlinewidth\":0,\"ticks\":\"\"}},\"colorscale\":{\"diverging\":[[0,\"#8e0152\"],[0.1,\"#c51b7d\"],[0.2,\"#de77ae\"],[0.3,\"#f1b6da\"],[0.4,\"#fde0ef\"],[0.5,\"#f7f7f7\"],[0.6,\"#e6f5d0\"],[0.7,\"#b8e186\"],[0.8,\"#7fbc41\"],[0.9,\"#4d9221\"],[1,\"#276419\"]],\"sequential\":[[0.0,\"#0d0887\"],[0.1111111111111111,\"#46039f\"],[0.2222222222222222,\"#7201a8\"],[0.3333333333333333,\"#9c179e\"],[0.4444444444444444,\"#bd3786\"],[0.5555555555555556,\"#d8576b\"],[0.6666666666666666,\"#ed7953\"],[0.7777777777777778,\"#fb9f3a\"],[0.8888888888888888,\"#fdca26\"],[1.0,\"#f0f921\"]],\"sequentialminus\":[[0.0,\"#0d0887\"],[0.1111111111111111,\"#46039f\"],[0.2222222222222222,\"#7201a8\"],[0.3333333333333333,\"#9c179e\"],[0.4444444444444444,\"#bd3786\"],[0.5555555555555556,\"#d8576b\"],[0.6666666666666666,\"#ed7953\"],[0.7777777777777778,\"#fb9f3a\"],[0.8888888888888888,\"#fdca26\"],[1.0,\"#f0f921\"]]},\"colorway\":[\"#636efa\",\"#EF553B\",\"#00cc96\",\"#ab63fa\",\"#FFA15A\",\"#19d3f3\",\"#FF6692\",\"#B6E880\",\"#FF97FF\",\"#FECB52\"],\"font\":{\"color\":\"#2a3f5f\"},\"geo\":{\"bgcolor\":\"white\",\"lakecolor\":\"white\",\"landcolor\":\"#E5ECF6\",\"showlakes\":true,\"showland\":true,\"subunitcolor\":\"white\"},\"hoverlabel\":{\"align\":\"left\"},\"hovermode\":\"closest\",\"mapbox\":{\"style\":\"light\"},\"paper_bgcolor\":\"white\",\"plot_bgcolor\":\"#E5ECF6\",\"polar\":{\"angularaxis\":{\"gridcolor\":\"white\",\"linecolor\":\"white\",\"ticks\":\"\"},\"bgcolor\":\"#E5ECF6\",\"radialaxis\":{\"gridcolor\":\"white\",\"linecolor\":\"white\",\"ticks\":\"\"}},\"scene\":{\"xaxis\":{\"backgroundcolor\":\"#E5ECF6\",\"gridcolor\":\"white\",\"gridwidth\":2,\"linecolor\":\"white\",\"showbackground\":true,\"ticks\":\"\",\"zerolinecolor\":\"white\"},\"yaxis\":{\"backgroundcolor\":\"#E5ECF6\",\"gridcolor\":\"white\",\"gridwidth\":2,\"linecolor\":\"white\",\"showbackground\":true,\"ticks\":\"\",\"zerolinecolor\":\"white\"},\"zaxis\":{\"backgroundcolor\":\"#E5ECF6\",\"gridcolor\":\"white\",\"gridwidth\":2,\"linecolor\":\"white\",\"showbackground\":true,\"ticks\":\"\",\"zerolinecolor\":\"white\"}},\"shapedefaults\":{\"line\":{\"color\":\"#2a3f5f\"}},\"ternary\":{\"aaxis\":{\"gridcolor\":\"white\",\"linecolor\":\"white\",\"ticks\":\"\"},\"baxis\":{\"gridcolor\":\"white\",\"linecolor\":\"white\",\"ticks\":\"\"},\"bgcolor\":\"#E5ECF6\",\"caxis\":{\"gridcolor\":\"white\",\"linecolor\":\"white\",\"ticks\":\"\"}},\"title\":{\"x\":0.05},\"xaxis\":{\"automargin\":true,\"gridcolor\":\"white\",\"linecolor\":\"white\",\"ticks\":\"\",\"title\":{\"standoff\":15},\"zerolinecolor\":\"white\",\"zerolinewidth\":2},\"yaxis\":{\"automargin\":true,\"gridcolor\":\"white\",\"linecolor\":\"white\",\"ticks\":\"\",\"title\":{\"standoff\":15},\"zerolinecolor\":\"white\",\"zerolinewidth\":2}}},\"xaxis\":{\"anchor\":\"y\",\"domain\":[0.0,1.0],\"title\":{\"text\":\"M\\u00eas\"}},\"yaxis\":{\"anchor\":\"x\",\"domain\":[0.0,1.0],\"title\":{\"text\":\"N\\u00famero de Inc\\u00eandios\"}},\"legend\":{\"title\":{\"text\":\"Ano\"},\"tracegroupgap\":0},\"title\":{\"text\":\"Inc\\u00eandios Mensais ao Longo dos Anos\",\"font\":{\"size\":18}}},                        {\"responsive\": true}                    )                };                            </script>        </div>\n</body>\n</html>",
       "datasetInfos": [],
       "metadata": {},
       "removedWidgets": [],
       "textData": null,
       "type": "htmlSandbox"
      }
     },
     "output_type": "display_data"
    }
   ],
   "source": [
    "# Converter para Pandas para criar o gráfico\n",
    "pandas_df_year_month = df_grouped_by_year_month.toPandas()\n",
    "\n",
    "# Garantir que a coluna 'mes' está como categoria com ordem correta\n",
    "ordem_meses = [\"Janeiro\", \"Fevereiro\", \"Março\", \"Abril\", \"Maio\", \"Junho\", \"Julho\", \"Agosto\", \"Setembro\", \"Outubro\", \"Novembro\", \"Dezembro\"]\n",
    "pandas_df_year_month[\"mes\"] = pd.Categorical(pandas_df_year_month[\"mes\"], categories=ordem_meses, ordered=True)\n",
    "\n",
    "# Reordenar os dados pelo mês\n",
    "pandas_df_year_month = pandas_df_year_month.sort_values(\"mes\")\n",
    "\n",
    "# Criar gráfico de linhas\n",
    "fig = px.line(\n",
    "    pandas_df_year_month,\n",
    "    x=\"mes\",\n",
    "    y=\"total_incendios\",\n",
    "    color=\"ano\",\n",
    "    title=\"Incêndios Mensais ao Longo dos Anos\",\n",
    "    labels={\"mes\": \"Mês\", \"total_incendios\": \"Número de Incêndios\", \"ano\": \"Ano\"}\n",
    ")\n",
    "\n",
    "# Personalizar layout\n",
    "fig.update_layout(\n",
    "    xaxis_title=\"Mês\",\n",
    "    yaxis_title=\"Número de Incêndios\",\n",
    "    title_font_size=18\n",
    ")\n",
    "\n",
    "# Exibir o gráfico\n",
    "fig.show()"
   ]
  },
  {
   "cell_type": "markdown",
   "metadata": {
    "application/vnd.databricks.v1+cell": {
     "cellMetadata": {},
     "inputWidgets": {},
     "nuid": "8e615079-caa1-45d2-add6-de33da7661f0",
     "showTitle": false,
     "tableResultSettingsMap": {},
     "title": ""
    }
   },
   "source": [
    "[LINK para o Gráfico 3](https://github.com/XuxaRP/EngDados_Leonardo_Piato/blob/main/Incendios_Mensais.png)"
   ]
  },
  {
   "cell_type": "markdown",
   "metadata": {
    "application/vnd.databricks.v1+cell": {
     "cellMetadata": {
      "byteLimit": 2048000,
      "rowLimit": 10000
     },
     "inputWidgets": {},
     "nuid": "306450cf-1b41-416a-8800-a5efee6af8ea",
     "showTitle": false,
     "tableResultSettingsMap": {},
     "title": ""
    }
   },
   "source": [
    "A análise desse gráfico aparentemente torna mais confusa a resposta da pergunta. Dessa forma, verificando pela tabela que agrupa em qual mês houve mais incêndio em cada ano, podemos verificar que há uma padrão com os meses de agosto, julho, outubro e novembro se alternando em serem os meses \"campeão\" de incêndio no ano. Esse padrão reforça a sazonalidade dos incêndios no Brasil, especialmente nas regiões mais vulneráveis. Esse ciclo pode estar ligado a fatores climáticos, como períodos de seca, combinados com práticas humanas, como queimadas agrícolas.\n",
    "\n",
    "Podemos ver que em 2015 o mês de janeiro foi o com mais incêndios, claramente sendo um outlier com base nos padrões que vimos. Fazemos uma rápida pesquisa, de acordo com o [IMPE](http://www.inpe.br/noticias/noticia.php?Cod_Noticia=3822) a anomalia de janeiro de 2015, quando o mês registrou um número recorde de incêndios, foi atribuída a uma combinação de fatores climáticos e humanos. Segundo o INPE, o ano de 2014 foi excepcionalmente seco, o que deixou a vegetação mais suscetível a queimadas no início de 2015. Além disso, o aumento do desmatamento na Amazônia Legal no final de 2014 contribuiu para o uso de fogo como método de limpeza de áreas desmatadas."
   ]
  },
  {
   "cell_type": "markdown",
   "metadata": {
    "application/vnd.databricks.v1+cell": {
     "cellMetadata": {
      "byteLimit": 2048000,
      "rowLimit": 10000
     },
     "inputWidgets": {},
     "nuid": "58137a17-21c9-4b67-b648-de53f388bde4",
     "showTitle": false,
     "tableResultSettingsMap": {},
     "title": ""
    }
   },
   "source": [
    "Agora vamos ver  a incidencia por estado para responder a pergunta quatro:\n",
    "\n",
    "> iv)\tQuais estados e regiões tem maior frequência de focos de incêndio?"
   ]
  },
  {
   "cell_type": "code",
   "execution_count": 0,
   "metadata": {
    "application/vnd.databricks.v1+cell": {
     "cellMetadata": {
      "byteLimit": 2048000,
      "rowLimit": 10000
     },
     "inputWidgets": {},
     "nuid": "be84dee6-24d8-4ea1-a58c-c253d1ee31d0",
     "showTitle": false,
     "tableResultSettingsMap": {},
     "title": ""
    }
   },
   "outputs": [
    {
     "output_type": "stream",
     "name": "stdout",
     "output_type": "stream",
     "text": [
      "+--------------+------------------+\n|        estado|   total_incendios|\n+--------------+------------------+\n|   Mato Grosso| 96246.02799999995|\n|       Paraiba| 52435.91800000001|\n|     Sao Paulo|51121.198000000004|\n|           Rio|         45160.865|\n|         Bahia| 44746.22599999999|\n|          Piau|37803.746999999996|\n|         Goias|37695.520000000004|\n|  Minas Gerais| 37475.25800000001|\n|     Tocantins|33707.884999999995|\n|      Amazonas|30650.129000000008|\n|         Ceara|         30428.063|\n|      Maranhao|         25129.131|\n|          Par�| 24512.14400000002|\n|    Pernambuco|           24498.0|\n|       Roraima|         24385.074|\n|Santa Catarina|         24359.852|\n|         Amapa|21831.575999999997|\n|      Rondonia|         20285.429|\n|          Acre|          18464.03|\n|Espirito Santo|            6546.0|\n+--------------+------------------+\nonly showing top 20 rows\n\n"
     ]
    }
   ],
   "source": [
    "# Agrupar por estado e calcular o total de incêndios\n",
    "df_grouped_by_state = df_flat.groupBy(\"estado\").agg(sum(\"numero_incendios\").alias(\"total_incendios\"))\n",
    "\n",
    "# Ordenar pelo total de incêndios (do maior para o menor)\n",
    "df_grouped_by_state = df_grouped_by_state.orderBy(\"total_incendios\", ascending=False)\n",
    "\n",
    "# Exibir os estados com maior número de incêndios\n",
    "df_grouped_by_state.show()"
   ]
  },
  {
   "cell_type": "code",
   "execution_count": 0,
   "metadata": {
    "application/vnd.databricks.v1+cell": {
     "cellMetadata": {
      "byteLimit": 2048000,
      "rowLimit": 10000
     },
     "inputWidgets": {},
     "nuid": "0eb0296e-d79f-4d00-931e-2614c12282ba",
     "showTitle": false,
     "tableResultSettingsMap": {},
     "title": ""
    }
   },
   "outputs": [
    {
     "output_type": "display_data",
     "data": {
      "text/html": [
       "<html>\n",
       "<head><meta charset=\"utf-8\" /></head>\n",
       "<body>\n",
       "    <div>            <script src=\"https://cdnjs.cloudflare.com/ajax/libs/mathjax/2.7.5/MathJax.js?config=TeX-AMS-MML_SVG\"></script><script type=\"text/javascript\">if (window.MathJax) {MathJax.Hub.Config({SVG: {font: \"STIX-Web\"}});}</script>                <script type=\"text/javascript\">window.PlotlyConfig = {MathJaxConfig: 'local'};</script>\n",
       "        <script src=\"https://cdn.plot.ly/plotly-2.9.0.min.js\"></script>                <div id=\"c64cc77b-1547-4a1b-bcec-cdaef57c1d6e\" class=\"plotly-graph-div\" style=\"height:100%; width:100%;\"></div>            <script type=\"text/javascript\">                                    window.PLOTLYENV=window.PLOTLYENV || {};                                    if (document.getElementById(\"c64cc77b-1547-4a1b-bcec-cdaef57c1d6e\")) {                    Plotly.newPlot(                        \"c64cc77b-1547-4a1b-bcec-cdaef57c1d6e\",                        [{\"alignmentgroup\":\"True\",\"hovertemplate\":\"Estado=%{x}<br>N\\u00famero de Inc\\u00eandios=%{marker.color}<extra></extra>\",\"legendgroup\":\"\",\"marker\":{\"color\":[96246.02799999995,52435.91800000001,51121.198000000004,45160.865,44746.22599999999,37803.746999999996,37695.520000000004,37475.25800000001,33707.884999999995,30650.129000000008,30428.063,25129.131,24512.14400000002,24498.0,24385.074,24359.852,21831.575999999997,20285.429,18464.03,6546.0,4644.0,3561.0,3237.0],\"coloraxis\":\"coloraxis\",\"pattern\":{\"shape\":\"\"}},\"name\":\"\",\"offsetgroup\":\"\",\"orientation\":\"v\",\"showlegend\":false,\"textposition\":\"auto\",\"x\":[\"Mato Grosso\",\"Paraiba\",\"Sao Paulo\",\"Rio\",\"Bahia\",\"Piau\",\"Goias\",\"Minas Gerais\",\"Tocantins\",\"Amazonas\",\"Ceara\",\"Maranhao\",\"Par\\ufffd\",\"Pernambuco\",\"Roraima\",\"Santa Catarina\",\"Amapa\",\"Rondonia\",\"Acre\",\"Espirito Santo\",\"Alagoas\",\"Distrito Federal\",\"Sergipe\"],\"xaxis\":\"x\",\"y\":[96246.02799999995,52435.91800000001,51121.198000000004,45160.865,44746.22599999999,37803.746999999996,37695.520000000004,37475.25800000001,33707.884999999995,30650.129000000008,30428.063,25129.131,24512.14400000002,24498.0,24385.074,24359.852,21831.575999999997,20285.429,18464.03,6546.0,4644.0,3561.0,3237.0],\"yaxis\":\"y\",\"type\":\"bar\"}],                        {\"template\":{\"data\":{\"bar\":[{\"error_x\":{\"color\":\"#2a3f5f\"},\"error_y\":{\"color\":\"#2a3f5f\"},\"marker\":{\"line\":{\"color\":\"#E5ECF6\",\"width\":0.5},\"pattern\":{\"fillmode\":\"overlay\",\"size\":10,\"solidity\":0.2}},\"type\":\"bar\"}],\"barpolar\":[{\"marker\":{\"line\":{\"color\":\"#E5ECF6\",\"width\":0.5},\"pattern\":{\"fillmode\":\"overlay\",\"size\":10,\"solidity\":0.2}},\"type\":\"barpolar\"}],\"carpet\":[{\"aaxis\":{\"endlinecolor\":\"#2a3f5f\",\"gridcolor\":\"white\",\"linecolor\":\"white\",\"minorgridcolor\":\"white\",\"startlinecolor\":\"#2a3f5f\"},\"baxis\":{\"endlinecolor\":\"#2a3f5f\",\"gridcolor\":\"white\",\"linecolor\":\"white\",\"minorgridcolor\":\"white\",\"startlinecolor\":\"#2a3f5f\"},\"type\":\"carpet\"}],\"choropleth\":[{\"colorbar\":{\"outlinewidth\":0,\"ticks\":\"\"},\"type\":\"choropleth\"}],\"contour\":[{\"colorbar\":{\"outlinewidth\":0,\"ticks\":\"\"},\"colorscale\":[[0.0,\"#0d0887\"],[0.1111111111111111,\"#46039f\"],[0.2222222222222222,\"#7201a8\"],[0.3333333333333333,\"#9c179e\"],[0.4444444444444444,\"#bd3786\"],[0.5555555555555556,\"#d8576b\"],[0.6666666666666666,\"#ed7953\"],[0.7777777777777778,\"#fb9f3a\"],[0.8888888888888888,\"#fdca26\"],[1.0,\"#f0f921\"]],\"type\":\"contour\"}],\"contourcarpet\":[{\"colorbar\":{\"outlinewidth\":0,\"ticks\":\"\"},\"type\":\"contourcarpet\"}],\"heatmap\":[{\"colorbar\":{\"outlinewidth\":0,\"ticks\":\"\"},\"colorscale\":[[0.0,\"#0d0887\"],[0.1111111111111111,\"#46039f\"],[0.2222222222222222,\"#7201a8\"],[0.3333333333333333,\"#9c179e\"],[0.4444444444444444,\"#bd3786\"],[0.5555555555555556,\"#d8576b\"],[0.6666666666666666,\"#ed7953\"],[0.7777777777777778,\"#fb9f3a\"],[0.8888888888888888,\"#fdca26\"],[1.0,\"#f0f921\"]],\"type\":\"heatmap\"}],\"heatmapgl\":[{\"colorbar\":{\"outlinewidth\":0,\"ticks\":\"\"},\"colorscale\":[[0.0,\"#0d0887\"],[0.1111111111111111,\"#46039f\"],[0.2222222222222222,\"#7201a8\"],[0.3333333333333333,\"#9c179e\"],[0.4444444444444444,\"#bd3786\"],[0.5555555555555556,\"#d8576b\"],[0.6666666666666666,\"#ed7953\"],[0.7777777777777778,\"#fb9f3a\"],[0.8888888888888888,\"#fdca26\"],[1.0,\"#f0f921\"]],\"type\":\"heatmapgl\"}],\"histogram\":[{\"marker\":{\"pattern\":{\"fillmode\":\"overlay\",\"size\":10,\"solidity\":0.2}},\"type\":\"histogram\"}],\"histogram2d\":[{\"colorbar\":{\"outlinewidth\":0,\"ticks\":\"\"},\"colorscale\":[[0.0,\"#0d0887\"],[0.1111111111111111,\"#46039f\"],[0.2222222222222222,\"#7201a8\"],[0.3333333333333333,\"#9c179e\"],[0.4444444444444444,\"#bd3786\"],[0.5555555555555556,\"#d8576b\"],[0.6666666666666666,\"#ed7953\"],[0.7777777777777778,\"#fb9f3a\"],[0.8888888888888888,\"#fdca26\"],[1.0,\"#f0f921\"]],\"type\":\"histogram2d\"}],\"histogram2dcontour\":[{\"colorbar\":{\"outlinewidth\":0,\"ticks\":\"\"},\"colorscale\":[[0.0,\"#0d0887\"],[0.1111111111111111,\"#46039f\"],[0.2222222222222222,\"#7201a8\"],[0.3333333333333333,\"#9c179e\"],[0.4444444444444444,\"#bd3786\"],[0.5555555555555556,\"#d8576b\"],[0.6666666666666666,\"#ed7953\"],[0.7777777777777778,\"#fb9f3a\"],[0.8888888888888888,\"#fdca26\"],[1.0,\"#f0f921\"]],\"type\":\"histogram2dcontour\"}],\"mesh3d\":[{\"colorbar\":{\"outlinewidth\":0,\"ticks\":\"\"},\"type\":\"mesh3d\"}],\"parcoords\":[{\"line\":{\"colorbar\":{\"outlinewidth\":0,\"ticks\":\"\"}},\"type\":\"parcoords\"}],\"pie\":[{\"automargin\":true,\"type\":\"pie\"}],\"scatter\":[{\"marker\":{\"colorbar\":{\"outlinewidth\":0,\"ticks\":\"\"}},\"type\":\"scatter\"}],\"scatter3d\":[{\"line\":{\"colorbar\":{\"outlinewidth\":0,\"ticks\":\"\"}},\"marker\":{\"colorbar\":{\"outlinewidth\":0,\"ticks\":\"\"}},\"type\":\"scatter3d\"}],\"scattercarpet\":[{\"marker\":{\"colorbar\":{\"outlinewidth\":0,\"ticks\":\"\"}},\"type\":\"scattercarpet\"}],\"scattergeo\":[{\"marker\":{\"colorbar\":{\"outlinewidth\":0,\"ticks\":\"\"}},\"type\":\"scattergeo\"}],\"scattergl\":[{\"marker\":{\"colorbar\":{\"outlinewidth\":0,\"ticks\":\"\"}},\"type\":\"scattergl\"}],\"scattermapbox\":[{\"marker\":{\"colorbar\":{\"outlinewidth\":0,\"ticks\":\"\"}},\"type\":\"scattermapbox\"}],\"scatterpolar\":[{\"marker\":{\"colorbar\":{\"outlinewidth\":0,\"ticks\":\"\"}},\"type\":\"scatterpolar\"}],\"scatterpolargl\":[{\"marker\":{\"colorbar\":{\"outlinewidth\":0,\"ticks\":\"\"}},\"type\":\"scatterpolargl\"}],\"scatterternary\":[{\"marker\":{\"colorbar\":{\"outlinewidth\":0,\"ticks\":\"\"}},\"type\":\"scatterternary\"}],\"surface\":[{\"colorbar\":{\"outlinewidth\":0,\"ticks\":\"\"},\"colorscale\":[[0.0,\"#0d0887\"],[0.1111111111111111,\"#46039f\"],[0.2222222222222222,\"#7201a8\"],[0.3333333333333333,\"#9c179e\"],[0.4444444444444444,\"#bd3786\"],[0.5555555555555556,\"#d8576b\"],[0.6666666666666666,\"#ed7953\"],[0.7777777777777778,\"#fb9f3a\"],[0.8888888888888888,\"#fdca26\"],[1.0,\"#f0f921\"]],\"type\":\"surface\"}],\"table\":[{\"cells\":{\"fill\":{\"color\":\"#EBF0F8\"},\"line\":{\"color\":\"white\"}},\"header\":{\"fill\":{\"color\":\"#C8D4E3\"},\"line\":{\"color\":\"white\"}},\"type\":\"table\"}]},\"layout\":{\"annotationdefaults\":{\"arrowcolor\":\"#2a3f5f\",\"arrowhead\":0,\"arrowwidth\":1},\"autotypenumbers\":\"strict\",\"coloraxis\":{\"colorbar\":{\"outlinewidth\":0,\"ticks\":\"\"}},\"colorscale\":{\"diverging\":[[0,\"#8e0152\"],[0.1,\"#c51b7d\"],[0.2,\"#de77ae\"],[0.3,\"#f1b6da\"],[0.4,\"#fde0ef\"],[0.5,\"#f7f7f7\"],[0.6,\"#e6f5d0\"],[0.7,\"#b8e186\"],[0.8,\"#7fbc41\"],[0.9,\"#4d9221\"],[1,\"#276419\"]],\"sequential\":[[0.0,\"#0d0887\"],[0.1111111111111111,\"#46039f\"],[0.2222222222222222,\"#7201a8\"],[0.3333333333333333,\"#9c179e\"],[0.4444444444444444,\"#bd3786\"],[0.5555555555555556,\"#d8576b\"],[0.6666666666666666,\"#ed7953\"],[0.7777777777777778,\"#fb9f3a\"],[0.8888888888888888,\"#fdca26\"],[1.0,\"#f0f921\"]],\"sequentialminus\":[[0.0,\"#0d0887\"],[0.1111111111111111,\"#46039f\"],[0.2222222222222222,\"#7201a8\"],[0.3333333333333333,\"#9c179e\"],[0.4444444444444444,\"#bd3786\"],[0.5555555555555556,\"#d8576b\"],[0.6666666666666666,\"#ed7953\"],[0.7777777777777778,\"#fb9f3a\"],[0.8888888888888888,\"#fdca26\"],[1.0,\"#f0f921\"]]},\"colorway\":[\"#636efa\",\"#EF553B\",\"#00cc96\",\"#ab63fa\",\"#FFA15A\",\"#19d3f3\",\"#FF6692\",\"#B6E880\",\"#FF97FF\",\"#FECB52\"],\"font\":{\"color\":\"#2a3f5f\"},\"geo\":{\"bgcolor\":\"white\",\"lakecolor\":\"white\",\"landcolor\":\"#E5ECF6\",\"showlakes\":true,\"showland\":true,\"subunitcolor\":\"white\"},\"hoverlabel\":{\"align\":\"left\"},\"hovermode\":\"closest\",\"mapbox\":{\"style\":\"light\"},\"paper_bgcolor\":\"white\",\"plot_bgcolor\":\"#E5ECF6\",\"polar\":{\"angularaxis\":{\"gridcolor\":\"white\",\"linecolor\":\"white\",\"ticks\":\"\"},\"bgcolor\":\"#E5ECF6\",\"radialaxis\":{\"gridcolor\":\"white\",\"linecolor\":\"white\",\"ticks\":\"\"}},\"scene\":{\"xaxis\":{\"backgroundcolor\":\"#E5ECF6\",\"gridcolor\":\"white\",\"gridwidth\":2,\"linecolor\":\"white\",\"showbackground\":true,\"ticks\":\"\",\"zerolinecolor\":\"white\"},\"yaxis\":{\"backgroundcolor\":\"#E5ECF6\",\"gridcolor\":\"white\",\"gridwidth\":2,\"linecolor\":\"white\",\"showbackground\":true,\"ticks\":\"\",\"zerolinecolor\":\"white\"},\"zaxis\":{\"backgroundcolor\":\"#E5ECF6\",\"gridcolor\":\"white\",\"gridwidth\":2,\"linecolor\":\"white\",\"showbackground\":true,\"ticks\":\"\",\"zerolinecolor\":\"white\"}},\"shapedefaults\":{\"line\":{\"color\":\"#2a3f5f\"}},\"ternary\":{\"aaxis\":{\"gridcolor\":\"white\",\"linecolor\":\"white\",\"ticks\":\"\"},\"baxis\":{\"gridcolor\":\"white\",\"linecolor\":\"white\",\"ticks\":\"\"},\"bgcolor\":\"#E5ECF6\",\"caxis\":{\"gridcolor\":\"white\",\"linecolor\":\"white\",\"ticks\":\"\"}},\"title\":{\"x\":0.05},\"xaxis\":{\"automargin\":true,\"gridcolor\":\"white\",\"linecolor\":\"white\",\"ticks\":\"\",\"title\":{\"standoff\":15},\"zerolinecolor\":\"white\",\"zerolinewidth\":2},\"yaxis\":{\"automargin\":true,\"gridcolor\":\"white\",\"linecolor\":\"white\",\"ticks\":\"\",\"title\":{\"standoff\":15},\"zerolinecolor\":\"white\",\"zerolinewidth\":2}}},\"xaxis\":{\"anchor\":\"y\",\"domain\":[0.0,1.0],\"title\":{\"text\":\"Estado\"}},\"yaxis\":{\"anchor\":\"x\",\"domain\":[0.0,1.0],\"title\":{\"text\":\"N\\u00famero de Inc\\u00eandios\"}},\"coloraxis\":{\"colorbar\":{\"title\":{\"text\":\"N\\u00famero de Inc\\u00eandios\"}},\"colorscale\":[[0.0,\"rgb(255,245,240)\"],[0.125,\"rgb(254,224,210)\"],[0.25,\"rgb(252,187,161)\"],[0.375,\"rgb(252,146,114)\"],[0.5,\"rgb(251,106,74)\"],[0.625,\"rgb(239,59,44)\"],[0.75,\"rgb(203,24,29)\"],[0.875,\"rgb(165,15,21)\"],[1.0,\"rgb(103,0,13)\"]]},\"legend\":{\"tracegroupgap\":0},\"title\":{\"text\":\"Total de Inc\\u00eandios por Estado\",\"font\":{\"size\":18}},\"barmode\":\"relative\"},                        {\"responsive\": true}                    )                };                            </script>        </div>\n",
       "</body>\n",
       "</html>"
      ]
     },
     "metadata": {
      "application/vnd.databricks.v1+output": {
       "addedWidgets": {},
       "arguments": {},
       "data": "<html>\n<head><meta charset=\"utf-8\" /></head>\n<body>\n    <div>            <script src=\"https://cdnjs.cloudflare.com/ajax/libs/mathjax/2.7.5/MathJax.js?config=TeX-AMS-MML_SVG\"></script><script type=\"text/javascript\">if (window.MathJax) {MathJax.Hub.Config({SVG: {font: \"STIX-Web\"}});}</script>                <script type=\"text/javascript\">window.PlotlyConfig = {MathJaxConfig: 'local'};</script>\n        <script src=\"https://cdn.plot.ly/plotly-2.9.0.min.js\"></script>                <div id=\"c64cc77b-1547-4a1b-bcec-cdaef57c1d6e\" class=\"plotly-graph-div\" style=\"height:100%; width:100%;\"></div>            <script type=\"text/javascript\">                                    window.PLOTLYENV=window.PLOTLYENV || {};                                    if (document.getElementById(\"c64cc77b-1547-4a1b-bcec-cdaef57c1d6e\")) {                    Plotly.newPlot(                        \"c64cc77b-1547-4a1b-bcec-cdaef57c1d6e\",                        [{\"alignmentgroup\":\"True\",\"hovertemplate\":\"Estado=%{x}<br>N\\u00famero de Inc\\u00eandios=%{marker.color}<extra></extra>\",\"legendgroup\":\"\",\"marker\":{\"color\":[96246.02799999995,52435.91800000001,51121.198000000004,45160.865,44746.22599999999,37803.746999999996,37695.520000000004,37475.25800000001,33707.884999999995,30650.129000000008,30428.063,25129.131,24512.14400000002,24498.0,24385.074,24359.852,21831.575999999997,20285.429,18464.03,6546.0,4644.0,3561.0,3237.0],\"coloraxis\":\"coloraxis\",\"pattern\":{\"shape\":\"\"}},\"name\":\"\",\"offsetgroup\":\"\",\"orientation\":\"v\",\"showlegend\":false,\"textposition\":\"auto\",\"x\":[\"Mato Grosso\",\"Paraiba\",\"Sao Paulo\",\"Rio\",\"Bahia\",\"Piau\",\"Goias\",\"Minas Gerais\",\"Tocantins\",\"Amazonas\",\"Ceara\",\"Maranhao\",\"Par\\ufffd\",\"Pernambuco\",\"Roraima\",\"Santa Catarina\",\"Amapa\",\"Rondonia\",\"Acre\",\"Espirito Santo\",\"Alagoas\",\"Distrito Federal\",\"Sergipe\"],\"xaxis\":\"x\",\"y\":[96246.02799999995,52435.91800000001,51121.198000000004,45160.865,44746.22599999999,37803.746999999996,37695.520000000004,37475.25800000001,33707.884999999995,30650.129000000008,30428.063,25129.131,24512.14400000002,24498.0,24385.074,24359.852,21831.575999999997,20285.429,18464.03,6546.0,4644.0,3561.0,3237.0],\"yaxis\":\"y\",\"type\":\"bar\"}],                        {\"template\":{\"data\":{\"bar\":[{\"error_x\":{\"color\":\"#2a3f5f\"},\"error_y\":{\"color\":\"#2a3f5f\"},\"marker\":{\"line\":{\"color\":\"#E5ECF6\",\"width\":0.5},\"pattern\":{\"fillmode\":\"overlay\",\"size\":10,\"solidity\":0.2}},\"type\":\"bar\"}],\"barpolar\":[{\"marker\":{\"line\":{\"color\":\"#E5ECF6\",\"width\":0.5},\"pattern\":{\"fillmode\":\"overlay\",\"size\":10,\"solidity\":0.2}},\"type\":\"barpolar\"}],\"carpet\":[{\"aaxis\":{\"endlinecolor\":\"#2a3f5f\",\"gridcolor\":\"white\",\"linecolor\":\"white\",\"minorgridcolor\":\"white\",\"startlinecolor\":\"#2a3f5f\"},\"baxis\":{\"endlinecolor\":\"#2a3f5f\",\"gridcolor\":\"white\",\"linecolor\":\"white\",\"minorgridcolor\":\"white\",\"startlinecolor\":\"#2a3f5f\"},\"type\":\"carpet\"}],\"choropleth\":[{\"colorbar\":{\"outlinewidth\":0,\"ticks\":\"\"},\"type\":\"choropleth\"}],\"contour\":[{\"colorbar\":{\"outlinewidth\":0,\"ticks\":\"\"},\"colorscale\":[[0.0,\"#0d0887\"],[0.1111111111111111,\"#46039f\"],[0.2222222222222222,\"#7201a8\"],[0.3333333333333333,\"#9c179e\"],[0.4444444444444444,\"#bd3786\"],[0.5555555555555556,\"#d8576b\"],[0.6666666666666666,\"#ed7953\"],[0.7777777777777778,\"#fb9f3a\"],[0.8888888888888888,\"#fdca26\"],[1.0,\"#f0f921\"]],\"type\":\"contour\"}],\"contourcarpet\":[{\"colorbar\":{\"outlinewidth\":0,\"ticks\":\"\"},\"type\":\"contourcarpet\"}],\"heatmap\":[{\"colorbar\":{\"outlinewidth\":0,\"ticks\":\"\"},\"colorscale\":[[0.0,\"#0d0887\"],[0.1111111111111111,\"#46039f\"],[0.2222222222222222,\"#7201a8\"],[0.3333333333333333,\"#9c179e\"],[0.4444444444444444,\"#bd3786\"],[0.5555555555555556,\"#d8576b\"],[0.6666666666666666,\"#ed7953\"],[0.7777777777777778,\"#fb9f3a\"],[0.8888888888888888,\"#fdca26\"],[1.0,\"#f0f921\"]],\"type\":\"heatmap\"}],\"heatmapgl\":[{\"colorbar\":{\"outlinewidth\":0,\"ticks\":\"\"},\"colorscale\":[[0.0,\"#0d0887\"],[0.1111111111111111,\"#46039f\"],[0.2222222222222222,\"#7201a8\"],[0.3333333333333333,\"#9c179e\"],[0.4444444444444444,\"#bd3786\"],[0.5555555555555556,\"#d8576b\"],[0.6666666666666666,\"#ed7953\"],[0.7777777777777778,\"#fb9f3a\"],[0.8888888888888888,\"#fdca26\"],[1.0,\"#f0f921\"]],\"type\":\"heatmapgl\"}],\"histogram\":[{\"marker\":{\"pattern\":{\"fillmode\":\"overlay\",\"size\":10,\"solidity\":0.2}},\"type\":\"histogram\"}],\"histogram2d\":[{\"colorbar\":{\"outlinewidth\":0,\"ticks\":\"\"},\"colorscale\":[[0.0,\"#0d0887\"],[0.1111111111111111,\"#46039f\"],[0.2222222222222222,\"#7201a8\"],[0.3333333333333333,\"#9c179e\"],[0.4444444444444444,\"#bd3786\"],[0.5555555555555556,\"#d8576b\"],[0.6666666666666666,\"#ed7953\"],[0.7777777777777778,\"#fb9f3a\"],[0.8888888888888888,\"#fdca26\"],[1.0,\"#f0f921\"]],\"type\":\"histogram2d\"}],\"histogram2dcontour\":[{\"colorbar\":{\"outlinewidth\":0,\"ticks\":\"\"},\"colorscale\":[[0.0,\"#0d0887\"],[0.1111111111111111,\"#46039f\"],[0.2222222222222222,\"#7201a8\"],[0.3333333333333333,\"#9c179e\"],[0.4444444444444444,\"#bd3786\"],[0.5555555555555556,\"#d8576b\"],[0.6666666666666666,\"#ed7953\"],[0.7777777777777778,\"#fb9f3a\"],[0.8888888888888888,\"#fdca26\"],[1.0,\"#f0f921\"]],\"type\":\"histogram2dcontour\"}],\"mesh3d\":[{\"colorbar\":{\"outlinewidth\":0,\"ticks\":\"\"},\"type\":\"mesh3d\"}],\"parcoords\":[{\"line\":{\"colorbar\":{\"outlinewidth\":0,\"ticks\":\"\"}},\"type\":\"parcoords\"}],\"pie\":[{\"automargin\":true,\"type\":\"pie\"}],\"scatter\":[{\"marker\":{\"colorbar\":{\"outlinewidth\":0,\"ticks\":\"\"}},\"type\":\"scatter\"}],\"scatter3d\":[{\"line\":{\"colorbar\":{\"outlinewidth\":0,\"ticks\":\"\"}},\"marker\":{\"colorbar\":{\"outlinewidth\":0,\"ticks\":\"\"}},\"type\":\"scatter3d\"}],\"scattercarpet\":[{\"marker\":{\"colorbar\":{\"outlinewidth\":0,\"ticks\":\"\"}},\"type\":\"scattercarpet\"}],\"scattergeo\":[{\"marker\":{\"colorbar\":{\"outlinewidth\":0,\"ticks\":\"\"}},\"type\":\"scattergeo\"}],\"scattergl\":[{\"marker\":{\"colorbar\":{\"outlinewidth\":0,\"ticks\":\"\"}},\"type\":\"scattergl\"}],\"scattermapbox\":[{\"marker\":{\"colorbar\":{\"outlinewidth\":0,\"ticks\":\"\"}},\"type\":\"scattermapbox\"}],\"scatterpolar\":[{\"marker\":{\"colorbar\":{\"outlinewidth\":0,\"ticks\":\"\"}},\"type\":\"scatterpolar\"}],\"scatterpolargl\":[{\"marker\":{\"colorbar\":{\"outlinewidth\":0,\"ticks\":\"\"}},\"type\":\"scatterpolargl\"}],\"scatterternary\":[{\"marker\":{\"colorbar\":{\"outlinewidth\":0,\"ticks\":\"\"}},\"type\":\"scatterternary\"}],\"surface\":[{\"colorbar\":{\"outlinewidth\":0,\"ticks\":\"\"},\"colorscale\":[[0.0,\"#0d0887\"],[0.1111111111111111,\"#46039f\"],[0.2222222222222222,\"#7201a8\"],[0.3333333333333333,\"#9c179e\"],[0.4444444444444444,\"#bd3786\"],[0.5555555555555556,\"#d8576b\"],[0.6666666666666666,\"#ed7953\"],[0.7777777777777778,\"#fb9f3a\"],[0.8888888888888888,\"#fdca26\"],[1.0,\"#f0f921\"]],\"type\":\"surface\"}],\"table\":[{\"cells\":{\"fill\":{\"color\":\"#EBF0F8\"},\"line\":{\"color\":\"white\"}},\"header\":{\"fill\":{\"color\":\"#C8D4E3\"},\"line\":{\"color\":\"white\"}},\"type\":\"table\"}]},\"layout\":{\"annotationdefaults\":{\"arrowcolor\":\"#2a3f5f\",\"arrowhead\":0,\"arrowwidth\":1},\"autotypenumbers\":\"strict\",\"coloraxis\":{\"colorbar\":{\"outlinewidth\":0,\"ticks\":\"\"}},\"colorscale\":{\"diverging\":[[0,\"#8e0152\"],[0.1,\"#c51b7d\"],[0.2,\"#de77ae\"],[0.3,\"#f1b6da\"],[0.4,\"#fde0ef\"],[0.5,\"#f7f7f7\"],[0.6,\"#e6f5d0\"],[0.7,\"#b8e186\"],[0.8,\"#7fbc41\"],[0.9,\"#4d9221\"],[1,\"#276419\"]],\"sequential\":[[0.0,\"#0d0887\"],[0.1111111111111111,\"#46039f\"],[0.2222222222222222,\"#7201a8\"],[0.3333333333333333,\"#9c179e\"],[0.4444444444444444,\"#bd3786\"],[0.5555555555555556,\"#d8576b\"],[0.6666666666666666,\"#ed7953\"],[0.7777777777777778,\"#fb9f3a\"],[0.8888888888888888,\"#fdca26\"],[1.0,\"#f0f921\"]],\"sequentialminus\":[[0.0,\"#0d0887\"],[0.1111111111111111,\"#46039f\"],[0.2222222222222222,\"#7201a8\"],[0.3333333333333333,\"#9c179e\"],[0.4444444444444444,\"#bd3786\"],[0.5555555555555556,\"#d8576b\"],[0.6666666666666666,\"#ed7953\"],[0.7777777777777778,\"#fb9f3a\"],[0.8888888888888888,\"#fdca26\"],[1.0,\"#f0f921\"]]},\"colorway\":[\"#636efa\",\"#EF553B\",\"#00cc96\",\"#ab63fa\",\"#FFA15A\",\"#19d3f3\",\"#FF6692\",\"#B6E880\",\"#FF97FF\",\"#FECB52\"],\"font\":{\"color\":\"#2a3f5f\"},\"geo\":{\"bgcolor\":\"white\",\"lakecolor\":\"white\",\"landcolor\":\"#E5ECF6\",\"showlakes\":true,\"showland\":true,\"subunitcolor\":\"white\"},\"hoverlabel\":{\"align\":\"left\"},\"hovermode\":\"closest\",\"mapbox\":{\"style\":\"light\"},\"paper_bgcolor\":\"white\",\"plot_bgcolor\":\"#E5ECF6\",\"polar\":{\"angularaxis\":{\"gridcolor\":\"white\",\"linecolor\":\"white\",\"ticks\":\"\"},\"bgcolor\":\"#E5ECF6\",\"radialaxis\":{\"gridcolor\":\"white\",\"linecolor\":\"white\",\"ticks\":\"\"}},\"scene\":{\"xaxis\":{\"backgroundcolor\":\"#E5ECF6\",\"gridcolor\":\"white\",\"gridwidth\":2,\"linecolor\":\"white\",\"showbackground\":true,\"ticks\":\"\",\"zerolinecolor\":\"white\"},\"yaxis\":{\"backgroundcolor\":\"#E5ECF6\",\"gridcolor\":\"white\",\"gridwidth\":2,\"linecolor\":\"white\",\"showbackground\":true,\"ticks\":\"\",\"zerolinecolor\":\"white\"},\"zaxis\":{\"backgroundcolor\":\"#E5ECF6\",\"gridcolor\":\"white\",\"gridwidth\":2,\"linecolor\":\"white\",\"showbackground\":true,\"ticks\":\"\",\"zerolinecolor\":\"white\"}},\"shapedefaults\":{\"line\":{\"color\":\"#2a3f5f\"}},\"ternary\":{\"aaxis\":{\"gridcolor\":\"white\",\"linecolor\":\"white\",\"ticks\":\"\"},\"baxis\":{\"gridcolor\":\"white\",\"linecolor\":\"white\",\"ticks\":\"\"},\"bgcolor\":\"#E5ECF6\",\"caxis\":{\"gridcolor\":\"white\",\"linecolor\":\"white\",\"ticks\":\"\"}},\"title\":{\"x\":0.05},\"xaxis\":{\"automargin\":true,\"gridcolor\":\"white\",\"linecolor\":\"white\",\"ticks\":\"\",\"title\":{\"standoff\":15},\"zerolinecolor\":\"white\",\"zerolinewidth\":2},\"yaxis\":{\"automargin\":true,\"gridcolor\":\"white\",\"linecolor\":\"white\",\"ticks\":\"\",\"title\":{\"standoff\":15},\"zerolinecolor\":\"white\",\"zerolinewidth\":2}}},\"xaxis\":{\"anchor\":\"y\",\"domain\":[0.0,1.0],\"title\":{\"text\":\"Estado\"}},\"yaxis\":{\"anchor\":\"x\",\"domain\":[0.0,1.0],\"title\":{\"text\":\"N\\u00famero de Inc\\u00eandios\"}},\"coloraxis\":{\"colorbar\":{\"title\":{\"text\":\"N\\u00famero de Inc\\u00eandios\"}},\"colorscale\":[[0.0,\"rgb(255,245,240)\"],[0.125,\"rgb(254,224,210)\"],[0.25,\"rgb(252,187,161)\"],[0.375,\"rgb(252,146,114)\"],[0.5,\"rgb(251,106,74)\"],[0.625,\"rgb(239,59,44)\"],[0.75,\"rgb(203,24,29)\"],[0.875,\"rgb(165,15,21)\"],[1.0,\"rgb(103,0,13)\"]]},\"legend\":{\"tracegroupgap\":0},\"title\":{\"text\":\"Total de Inc\\u00eandios por Estado\",\"font\":{\"size\":18}},\"barmode\":\"relative\"},                        {\"responsive\": true}                    )                };                            </script>        </div>\n</body>\n</html>",
       "datasetInfos": [],
       "metadata": {},
       "removedWidgets": [],
       "textData": null,
       "type": "htmlSandbox"
      }
     },
     "output_type": "display_data"
    }
   ],
   "source": [
    "# Converter os dados agrupados para Pandas\n",
    "pandas_df_state = df_grouped_by_state.toPandas()\n",
    "\n",
    "# Criar gráfico de barras com tons avermelhados\n",
    "fig = px.bar(\n",
    "    pandas_df_state,\n",
    "    x=\"estado\",\n",
    "    y=\"total_incendios\",\n",
    "    title=\"Total de Incêndios por Estado\",\n",
    "    labels={\"estado\": \"Estado\", \"total_incendios\": \"Número de Incêndios\"},\n",
    "    color=\"total_incendios\",  # Basear a cor no valor\n",
    "    color_continuous_scale=px.colors.sequential.Reds  # Usar tons avermelhados\n",
    ")\n",
    "\n",
    "# Personalizar o layout\n",
    "fig.update_layout(\n",
    "    xaxis_title=\"Estado\",\n",
    "    yaxis_title=\"Número de Incêndios\",\n",
    "    title_font_size=18\n",
    ")\n",
    "\n",
    "# Exibir o gráfico\n",
    "fig.show()"
   ]
  },
  {
   "cell_type": "markdown",
   "metadata": {
    "application/vnd.databricks.v1+cell": {
     "cellMetadata": {},
     "inputWidgets": {},
     "nuid": "abdb5c6a-4584-434f-a129-6305ec0a3766",
     "showTitle": false,
     "tableResultSettingsMap": {},
     "title": ""
    }
   },
   "source": [
    "[LINK para o Gráfico 4](https://github.com/XuxaRP/EngDados_Leonardo_Piato/blob/main/Total_por_estados.png)"
   ]
  },
  {
   "cell_type": "markdown",
   "metadata": {
    "application/vnd.databricks.v1+cell": {
     "cellMetadata": {
      "byteLimit": 2048000,
      "rowLimit": 10000
     },
     "inputWidgets": {},
     "nuid": "91fc043a-85ca-48e6-b5be-add669cfa01f",
     "showTitle": false,
     "tableResultSettingsMap": {},
     "title": ""
    }
   },
   "source": [
    "Esse gráfico nos mostra claramente que no período analisando o Mato Grosso se destacou como o que mais sofreu com incêndios, ao passo que vemos que Espirito Santos, Alagoas, DF e Sergipe tiveram relativamente poucos problemas do tipo, indicando fatores climáticos favoráveis ou menor dependência de queimadas.\n",
    "\n",
    "Por fim temos a última pergunta:\n",
    "\n",
    "> v)\tAo longo do tempo os estados com maiores focos de incêndio permaneceram os mesmos?\n",
    "\n",
    "Para isso vamos fazer algumas manipulações e plotar apenas os estados que possuem número mais robustos, para nosso gráfico ter sua análise simplificada."
   ]
  },
  {
   "cell_type": "code",
   "execution_count": 0,
   "metadata": {
    "application/vnd.databricks.v1+cell": {
     "cellMetadata": {
      "byteLimit": 2048000,
      "rowLimit": 10000
     },
     "inputWidgets": {},
     "nuid": "edad015f-7e26-4c35-9aaf-1aaef40013b5",
     "showTitle": false,
     "tableResultSettingsMap": {},
     "title": ""
    }
   },
   "outputs": [
    {
     "output_type": "stream",
     "name": "stdout",
     "output_type": "stream",
     "text": [
      "+----------------+----+------------------+\n|          estado| ano|   total_incendios|\n+----------------+----+------------------+\n|       Sao Paulo|1998|            3196.0|\n|     Mato Grosso|1998|          2401.389|\n|           Ceara|1998|1612.0140000000001|\n|            Piau|1998|          1493.577|\n|    Minas Gerais|1998|          1233.074|\n|           Bahia|1998|1224.6870000000001|\n|             Rio|1998|            1149.0|\n|        Amazonas|1998|             946.0|\n|        Rondonia|1998| 916.0070000000001|\n|       Tocantins|1998|           912.634|\n|         Paraiba|1998|             816.0|\n|      Pernambuco|1998|             767.0|\n|           Goias|1998| 750.1189999999999|\n|            Acre|1998|             730.0|\n|            Par�|1998|           715.586|\n|        Maranhao|1998|           365.884|\n|           Amapa|1998|             278.0|\n|  Espirito Santo|1998|             218.0|\n|Distrito Federal|1998|             103.0|\n|         Alagoas|1998|              86.0|\n+----------------+----+------------------+\nonly showing top 20 rows\n\n"
     ]
    }
   ],
   "source": [
    "# Agrupar os dados por estado e ano, somando os incêndios\n",
    "df_grouped_by_state_year = df_flat.groupBy(\"estado\", \"ano\").agg(F.sum(\"numero_incendios\").alias(\"total_incendios\"))\n",
    "\n",
    "# Ordenar por ano e número de incêndios\n",
    "df_grouped_by_state_year = df_grouped_by_state_year.orderBy(\"ano\", \"total_incendios\", ascending=[True, False])\n",
    "\n",
    "# Exibir os resultados organizados\n",
    "df_grouped_by_state_year.show()"
   ]
  },
  {
   "cell_type": "code",
   "execution_count": 0,
   "metadata": {
    "application/vnd.databricks.v1+cell": {
     "cellMetadata": {
      "byteLimit": 2048000,
      "rowLimit": 10000
     },
     "inputWidgets": {},
     "nuid": "3b715cf4-5012-475a-9652-37c88de3d4b7",
     "showTitle": false,
     "tableResultSettingsMap": {},
     "title": ""
    }
   },
   "outputs": [
    {
     "output_type": "stream",
     "name": "stdout",
     "output_type": "stream",
     "text": [
      "+----+-----------+------------------+\n| ano|     estado|   total_incendios|\n+----+-----------+------------------+\n|1998|  Sao Paulo|            3196.0|\n|1998|Mato Grosso|          2401.389|\n|1998|      Ceara|1612.0140000000001|\n|1999|  Sao Paulo| 4249.210999999999|\n|1999|    Paraiba|            3437.0|\n|1999|Mato Grosso|          2979.399|\n|2000|  Sao Paulo|            4128.0|\n|2000|Mato Grosso|          3897.266|\n|2000|    Paraiba|            2804.0|\n|2001|Mato Grosso|          3088.075|\n|2001|  Sao Paulo|            2926.0|\n|2001|      Bahia|          2427.651|\n|2002|Mato Grosso|3665.5029999999992|\n|2002|  Sao Paulo|            3539.0|\n|2002|        Rio|            2945.0|\n|2003|Mato Grosso| 6939.853999999999|\n|2003|        Rio|          3438.419|\n|2003|  Sao Paulo|            3306.0|\n|2004|Mato Grosso|          4811.176|\n|2004|        Rio|            3437.0|\n+----+-----------+------------------+\nonly showing top 20 rows\n\n"
     ]
    }
   ],
   "source": [
    "# Encontrar os estados com maior número de incêndios em cada ano\n",
    "\n",
    "windowSpec = Window.partitionBy(\"ano\").orderBy(F.desc(\"total_incendios\"))\n",
    "df_top_states = df_grouped_by_state_year.withColumn(\"rank\", F.rank().over(windowSpec)).filter(F.col(\"rank\") <= 3)\n",
    "\n",
    "# Exibir os 3 estados mais afetados por ano\n",
    "df_top_states.select(\"ano\", \"estado\", \"total_incendios\").show()"
   ]
  },
  {
   "cell_type": "code",
   "execution_count": 0,
   "metadata": {
    "application/vnd.databricks.v1+cell": {
     "cellMetadata": {
      "byteLimit": 2048000,
      "rowLimit": 10000
     },
     "inputWidgets": {},
     "nuid": "e084b981-f41c-4099-bfd2-3c605958fba5",
     "showTitle": false,
     "tableResultSettingsMap": {},
     "title": ""
    }
   },
   "outputs": [
    {
     "output_type": "display_data",
     "data": {
      "text/html": [
       "<html>\n",
       "<head><meta charset=\"utf-8\" /></head>\n",
       "<body>\n",
       "    <div>            <script src=\"https://cdnjs.cloudflare.com/ajax/libs/mathjax/2.7.5/MathJax.js?config=TeX-AMS-MML_SVG\"></script><script type=\"text/javascript\">if (window.MathJax) {MathJax.Hub.Config({SVG: {font: \"STIX-Web\"}});}</script>                <script type=\"text/javascript\">window.PlotlyConfig = {MathJaxConfig: 'local'};</script>\n",
       "        <script src=\"https://cdn.plot.ly/plotly-2.9.0.min.js\"></script>                <div id=\"51c10f11-55bc-4a85-a99e-3c2ed0962cd6\" class=\"plotly-graph-div\" style=\"height:100%; width:100%;\"></div>            <script type=\"text/javascript\">                                    window.PLOTLYENV=window.PLOTLYENV || {};                                    if (document.getElementById(\"51c10f11-55bc-4a85-a99e-3c2ed0962cd6\")) {                    Plotly.newPlot(                        \"51c10f11-55bc-4a85-a99e-3c2ed0962cd6\",                        [{\"hovertemplate\":\"Estado=Sao Paulo<br>Ano=%{x}<br>N\\u00famero de Inc\\u00eandios=%{y}<extra></extra>\",\"legendgroup\":\"Sao Paulo\",\"line\":{\"color\":\"#636efa\",\"dash\":\"solid\"},\"marker\":{\"symbol\":\"circle\"},\"mode\":\"lines\",\"name\":\"Sao Paulo\",\"orientation\":\"v\",\"showlegend\":true,\"x\":[1998,1999,2000,2001,2002,2003,2014],\"xaxis\":\"x\",\"y\":[3196.0,4249.210999999999,4128.0,2926.0,3539.0,3306.0,3260.458],\"yaxis\":\"y\",\"type\":\"scatter\"},{\"hovertemplate\":\"Estado=Mato Grosso<br>Ano=%{x}<br>N\\u00famero de Inc\\u00eandios=%{y}<extra></extra>\",\"legendgroup\":\"Mato Grosso\",\"line\":{\"color\":\"#EF553B\",\"dash\":\"solid\"},\"marker\":{\"symbol\":\"circle\"},\"mode\":\"lines\",\"name\":\"Mato Grosso\",\"orientation\":\"v\",\"showlegend\":true,\"x\":[1998,1999,2000,2001,2002,2003,2004,2005,2006,2007,2008,2009,2010,2011,2012,2013,2014,2015,2016,2017],\"xaxis\":\"x\",\"y\":[2401.389,2979.399,3897.266,3088.075,3665.5029999999992,6939.853999999999,4811.176,5386.715,4286.385,3515.7039999999997,3399.903,8188.717,6252.445000000001,5388.206,5341.25,5238.111,5890.597,6261.0869999999995,3652.919,5661.327000000001],\"yaxis\":\"y\",\"type\":\"scatter\"},{\"hovertemplate\":\"Estado=Ceara<br>Ano=%{x}<br>N\\u00famero de Inc\\u00eandios=%{y}<extra></extra>\",\"legendgroup\":\"Ceara\",\"line\":{\"color\":\"#00cc96\",\"dash\":\"solid\"},\"marker\":{\"symbol\":\"circle\"},\"mode\":\"lines\",\"name\":\"Ceara\",\"orientation\":\"v\",\"showlegend\":true,\"x\":[1998,2012],\"xaxis\":\"x\",\"y\":[1612.0140000000001,2937.1040000000003],\"yaxis\":\"y\",\"type\":\"scatter\"},{\"hovertemplate\":\"Estado=Paraiba<br>Ano=%{x}<br>N\\u00famero de Inc\\u00eandios=%{y}<extra></extra>\",\"legendgroup\":\"Paraiba\",\"line\":{\"color\":\"#ab63fa\",\"dash\":\"solid\"},\"marker\":{\"symbol\":\"circle\"},\"mode\":\"lines\",\"name\":\"Paraiba\",\"orientation\":\"v\",\"showlegend\":true,\"x\":[1999,2000,2005,2006,2007,2009,2010,2011,2015,2017],\"xaxis\":\"x\",\"y\":[3437.0,2804.0,3427.0,3308.0,2665.0,2963.0,2711.0,3280.0,2773.0,3052.706],\"yaxis\":\"y\",\"type\":\"scatter\"},{\"hovertemplate\":\"Estado=Bahia<br>Ano=%{x}<br>N\\u00famero de Inc\\u00eandios=%{y}<extra></extra>\",\"legendgroup\":\"Bahia\",\"line\":{\"color\":\"#FFA15A\",\"dash\":\"solid\"},\"marker\":{\"symbol\":\"circle\"},\"mode\":\"lines\",\"name\":\"Bahia\",\"orientation\":\"v\",\"showlegend\":true,\"x\":[2001,2005,2006,2010,2012,2013,2016],\"xaxis\":\"x\",\"y\":[2427.651,2358.066,2509.085,2515.01,3454.937,2571.65,3520.234],\"yaxis\":\"y\",\"type\":\"scatter\"},{\"hovertemplate\":\"Estado=Rio<br>Ano=%{x}<br>N\\u00famero de Inc\\u00eandios=%{y}<extra></extra>\",\"legendgroup\":\"Rio\",\"line\":{\"color\":\"#19d3f3\",\"dash\":\"solid\"},\"marker\":{\"symbol\":\"circle\"},\"mode\":\"lines\",\"name\":\"Rio\",\"orientation\":\"v\",\"showlegend\":true,\"x\":[2002,2003,2004,2014,2016,2017],\"xaxis\":\"x\",\"y\":[2945.0,3438.419,3437.0,2757.168,3429.111,4271.0],\"yaxis\":\"y\",\"type\":\"scatter\"},{\"hovertemplate\":\"Estado=Santa Catarina<br>Ano=%{x}<br>N\\u00famero de Inc\\u00eandios=%{y}<extra></extra>\",\"legendgroup\":\"Santa Catarina\",\"line\":{\"color\":\"#FF6692\",\"dash\":\"solid\"},\"marker\":{\"symbol\":\"circle\"},\"mode\":\"lines\",\"name\":\"Santa Catarina\",\"orientation\":\"v\",\"showlegend\":true,\"x\":[2004],\"xaxis\":\"x\",\"y\":[2955.0],\"yaxis\":\"y\",\"type\":\"scatter\"},{\"hovertemplate\":\"Estado=Piau<br>Ano=%{x}<br>N\\u00famero de Inc\\u00eandios=%{y}<extra></extra>\",\"legendgroup\":\"Piau\",\"line\":{\"color\":\"#B6E880\",\"dash\":\"solid\"},\"marker\":{\"symbol\":\"circle\"},\"mode\":\"lines\",\"name\":\"Piau\",\"orientation\":\"v\",\"showlegend\":true,\"x\":[2007,2009,2011,2015],\"xaxis\":\"x\",\"y\":[2713.96,2769.0449999999996,2678.844,2788.953],\"yaxis\":\"y\",\"type\":\"scatter\"},{\"hovertemplate\":\"Estado=Amazonas<br>Ano=%{x}<br>N\\u00famero de Inc\\u00eandios=%{y}<extra></extra>\",\"legendgroup\":\"Amazonas\",\"line\":{\"color\":\"#FF97FF\",\"dash\":\"solid\"},\"marker\":{\"symbol\":\"circle\"},\"mode\":\"lines\",\"name\":\"Amazonas\",\"orientation\":\"v\",\"showlegend\":true,\"x\":[2008],\"xaxis\":\"x\",\"y\":[2717.0],\"yaxis\":\"y\",\"type\":\"scatter\"},{\"hovertemplate\":\"Estado=Minas Gerais<br>Ano=%{x}<br>N\\u00famero de Inc\\u00eandios=%{y}<extra></extra>\",\"legendgroup\":\"Minas Gerais\",\"line\":{\"color\":\"#FECB52\",\"dash\":\"solid\"},\"marker\":{\"symbol\":\"circle\"},\"mode\":\"lines\",\"name\":\"Minas Gerais\",\"orientation\":\"v\",\"showlegend\":true,\"x\":[2008],\"xaxis\":\"x\",\"y\":[2138.339],\"yaxis\":\"y\",\"type\":\"scatter\"},{\"hovertemplate\":\"Estado=Goias<br>Ano=%{x}<br>N\\u00famero de Inc\\u00eandios=%{y}<extra></extra>\",\"legendgroup\":\"Goias\",\"line\":{\"color\":\"#636efa\",\"dash\":\"solid\"},\"marker\":{\"symbol\":\"circle\"},\"mode\":\"lines\",\"name\":\"Goias\",\"orientation\":\"v\",\"showlegend\":true,\"x\":[2013],\"xaxis\":\"x\",\"y\":[2979.0],\"yaxis\":\"y\",\"type\":\"scatter\"}],                        {\"template\":{\"data\":{\"bar\":[{\"error_x\":{\"color\":\"#2a3f5f\"},\"error_y\":{\"color\":\"#2a3f5f\"},\"marker\":{\"line\":{\"color\":\"#E5ECF6\",\"width\":0.5},\"pattern\":{\"fillmode\":\"overlay\",\"size\":10,\"solidity\":0.2}},\"type\":\"bar\"}],\"barpolar\":[{\"marker\":{\"line\":{\"color\":\"#E5ECF6\",\"width\":0.5},\"pattern\":{\"fillmode\":\"overlay\",\"size\":10,\"solidity\":0.2}},\"type\":\"barpolar\"}],\"carpet\":[{\"aaxis\":{\"endlinecolor\":\"#2a3f5f\",\"gridcolor\":\"white\",\"linecolor\":\"white\",\"minorgridcolor\":\"white\",\"startlinecolor\":\"#2a3f5f\"},\"baxis\":{\"endlinecolor\":\"#2a3f5f\",\"gridcolor\":\"white\",\"linecolor\":\"white\",\"minorgridcolor\":\"white\",\"startlinecolor\":\"#2a3f5f\"},\"type\":\"carpet\"}],\"choropleth\":[{\"colorbar\":{\"outlinewidth\":0,\"ticks\":\"\"},\"type\":\"choropleth\"}],\"contour\":[{\"colorbar\":{\"outlinewidth\":0,\"ticks\":\"\"},\"colorscale\":[[0.0,\"#0d0887\"],[0.1111111111111111,\"#46039f\"],[0.2222222222222222,\"#7201a8\"],[0.3333333333333333,\"#9c179e\"],[0.4444444444444444,\"#bd3786\"],[0.5555555555555556,\"#d8576b\"],[0.6666666666666666,\"#ed7953\"],[0.7777777777777778,\"#fb9f3a\"],[0.8888888888888888,\"#fdca26\"],[1.0,\"#f0f921\"]],\"type\":\"contour\"}],\"contourcarpet\":[{\"colorbar\":{\"outlinewidth\":0,\"ticks\":\"\"},\"type\":\"contourcarpet\"}],\"heatmap\":[{\"colorbar\":{\"outlinewidth\":0,\"ticks\":\"\"},\"colorscale\":[[0.0,\"#0d0887\"],[0.1111111111111111,\"#46039f\"],[0.2222222222222222,\"#7201a8\"],[0.3333333333333333,\"#9c179e\"],[0.4444444444444444,\"#bd3786\"],[0.5555555555555556,\"#d8576b\"],[0.6666666666666666,\"#ed7953\"],[0.7777777777777778,\"#fb9f3a\"],[0.8888888888888888,\"#fdca26\"],[1.0,\"#f0f921\"]],\"type\":\"heatmap\"}],\"heatmapgl\":[{\"colorbar\":{\"outlinewidth\":0,\"ticks\":\"\"},\"colorscale\":[[0.0,\"#0d0887\"],[0.1111111111111111,\"#46039f\"],[0.2222222222222222,\"#7201a8\"],[0.3333333333333333,\"#9c179e\"],[0.4444444444444444,\"#bd3786\"],[0.5555555555555556,\"#d8576b\"],[0.6666666666666666,\"#ed7953\"],[0.7777777777777778,\"#fb9f3a\"],[0.8888888888888888,\"#fdca26\"],[1.0,\"#f0f921\"]],\"type\":\"heatmapgl\"}],\"histogram\":[{\"marker\":{\"pattern\":{\"fillmode\":\"overlay\",\"size\":10,\"solidity\":0.2}},\"type\":\"histogram\"}],\"histogram2d\":[{\"colorbar\":{\"outlinewidth\":0,\"ticks\":\"\"},\"colorscale\":[[0.0,\"#0d0887\"],[0.1111111111111111,\"#46039f\"],[0.2222222222222222,\"#7201a8\"],[0.3333333333333333,\"#9c179e\"],[0.4444444444444444,\"#bd3786\"],[0.5555555555555556,\"#d8576b\"],[0.6666666666666666,\"#ed7953\"],[0.7777777777777778,\"#fb9f3a\"],[0.8888888888888888,\"#fdca26\"],[1.0,\"#f0f921\"]],\"type\":\"histogram2d\"}],\"histogram2dcontour\":[{\"colorbar\":{\"outlinewidth\":0,\"ticks\":\"\"},\"colorscale\":[[0.0,\"#0d0887\"],[0.1111111111111111,\"#46039f\"],[0.2222222222222222,\"#7201a8\"],[0.3333333333333333,\"#9c179e\"],[0.4444444444444444,\"#bd3786\"],[0.5555555555555556,\"#d8576b\"],[0.6666666666666666,\"#ed7953\"],[0.7777777777777778,\"#fb9f3a\"],[0.8888888888888888,\"#fdca26\"],[1.0,\"#f0f921\"]],\"type\":\"histogram2dcontour\"}],\"mesh3d\":[{\"colorbar\":{\"outlinewidth\":0,\"ticks\":\"\"},\"type\":\"mesh3d\"}],\"parcoords\":[{\"line\":{\"colorbar\":{\"outlinewidth\":0,\"ticks\":\"\"}},\"type\":\"parcoords\"}],\"pie\":[{\"automargin\":true,\"type\":\"pie\"}],\"scatter\":[{\"marker\":{\"colorbar\":{\"outlinewidth\":0,\"ticks\":\"\"}},\"type\":\"scatter\"}],\"scatter3d\":[{\"line\":{\"colorbar\":{\"outlinewidth\":0,\"ticks\":\"\"}},\"marker\":{\"colorbar\":{\"outlinewidth\":0,\"ticks\":\"\"}},\"type\":\"scatter3d\"}],\"scattercarpet\":[{\"marker\":{\"colorbar\":{\"outlinewidth\":0,\"ticks\":\"\"}},\"type\":\"scattercarpet\"}],\"scattergeo\":[{\"marker\":{\"colorbar\":{\"outlinewidth\":0,\"ticks\":\"\"}},\"type\":\"scattergeo\"}],\"scattergl\":[{\"marker\":{\"colorbar\":{\"outlinewidth\":0,\"ticks\":\"\"}},\"type\":\"scattergl\"}],\"scattermapbox\":[{\"marker\":{\"colorbar\":{\"outlinewidth\":0,\"ticks\":\"\"}},\"type\":\"scattermapbox\"}],\"scatterpolar\":[{\"marker\":{\"colorbar\":{\"outlinewidth\":0,\"ticks\":\"\"}},\"type\":\"scatterpolar\"}],\"scatterpolargl\":[{\"marker\":{\"colorbar\":{\"outlinewidth\":0,\"ticks\":\"\"}},\"type\":\"scatterpolargl\"}],\"scatterternary\":[{\"marker\":{\"colorbar\":{\"outlinewidth\":0,\"ticks\":\"\"}},\"type\":\"scatterternary\"}],\"surface\":[{\"colorbar\":{\"outlinewidth\":0,\"ticks\":\"\"},\"colorscale\":[[0.0,\"#0d0887\"],[0.1111111111111111,\"#46039f\"],[0.2222222222222222,\"#7201a8\"],[0.3333333333333333,\"#9c179e\"],[0.4444444444444444,\"#bd3786\"],[0.5555555555555556,\"#d8576b\"],[0.6666666666666666,\"#ed7953\"],[0.7777777777777778,\"#fb9f3a\"],[0.8888888888888888,\"#fdca26\"],[1.0,\"#f0f921\"]],\"type\":\"surface\"}],\"table\":[{\"cells\":{\"fill\":{\"color\":\"#EBF0F8\"},\"line\":{\"color\":\"white\"}},\"header\":{\"fill\":{\"color\":\"#C8D4E3\"},\"line\":{\"color\":\"white\"}},\"type\":\"table\"}]},\"layout\":{\"annotationdefaults\":{\"arrowcolor\":\"#2a3f5f\",\"arrowhead\":0,\"arrowwidth\":1},\"autotypenumbers\":\"strict\",\"coloraxis\":{\"colorbar\":{\"outlinewidth\":0,\"ticks\":\"\"}},\"colorscale\":{\"diverging\":[[0,\"#8e0152\"],[0.1,\"#c51b7d\"],[0.2,\"#de77ae\"],[0.3,\"#f1b6da\"],[0.4,\"#fde0ef\"],[0.5,\"#f7f7f7\"],[0.6,\"#e6f5d0\"],[0.7,\"#b8e186\"],[0.8,\"#7fbc41\"],[0.9,\"#4d9221\"],[1,\"#276419\"]],\"sequential\":[[0.0,\"#0d0887\"],[0.1111111111111111,\"#46039f\"],[0.2222222222222222,\"#7201a8\"],[0.3333333333333333,\"#9c179e\"],[0.4444444444444444,\"#bd3786\"],[0.5555555555555556,\"#d8576b\"],[0.6666666666666666,\"#ed7953\"],[0.7777777777777778,\"#fb9f3a\"],[0.8888888888888888,\"#fdca26\"],[1.0,\"#f0f921\"]],\"sequentialminus\":[[0.0,\"#0d0887\"],[0.1111111111111111,\"#46039f\"],[0.2222222222222222,\"#7201a8\"],[0.3333333333333333,\"#9c179e\"],[0.4444444444444444,\"#bd3786\"],[0.5555555555555556,\"#d8576b\"],[0.6666666666666666,\"#ed7953\"],[0.7777777777777778,\"#fb9f3a\"],[0.8888888888888888,\"#fdca26\"],[1.0,\"#f0f921\"]]},\"colorway\":[\"#636efa\",\"#EF553B\",\"#00cc96\",\"#ab63fa\",\"#FFA15A\",\"#19d3f3\",\"#FF6692\",\"#B6E880\",\"#FF97FF\",\"#FECB52\"],\"font\":{\"color\":\"#2a3f5f\"},\"geo\":{\"bgcolor\":\"white\",\"lakecolor\":\"white\",\"landcolor\":\"#E5ECF6\",\"showlakes\":true,\"showland\":true,\"subunitcolor\":\"white\"},\"hoverlabel\":{\"align\":\"left\"},\"hovermode\":\"closest\",\"mapbox\":{\"style\":\"light\"},\"paper_bgcolor\":\"white\",\"plot_bgcolor\":\"#E5ECF6\",\"polar\":{\"angularaxis\":{\"gridcolor\":\"white\",\"linecolor\":\"white\",\"ticks\":\"\"},\"bgcolor\":\"#E5ECF6\",\"radialaxis\":{\"gridcolor\":\"white\",\"linecolor\":\"white\",\"ticks\":\"\"}},\"scene\":{\"xaxis\":{\"backgroundcolor\":\"#E5ECF6\",\"gridcolor\":\"white\",\"gridwidth\":2,\"linecolor\":\"white\",\"showbackground\":true,\"ticks\":\"\",\"zerolinecolor\":\"white\"},\"yaxis\":{\"backgroundcolor\":\"#E5ECF6\",\"gridcolor\":\"white\",\"gridwidth\":2,\"linecolor\":\"white\",\"showbackground\":true,\"ticks\":\"\",\"zerolinecolor\":\"white\"},\"zaxis\":{\"backgroundcolor\":\"#E5ECF6\",\"gridcolor\":\"white\",\"gridwidth\":2,\"linecolor\":\"white\",\"showbackground\":true,\"ticks\":\"\",\"zerolinecolor\":\"white\"}},\"shapedefaults\":{\"line\":{\"color\":\"#2a3f5f\"}},\"ternary\":{\"aaxis\":{\"gridcolor\":\"white\",\"linecolor\":\"white\",\"ticks\":\"\"},\"baxis\":{\"gridcolor\":\"white\",\"linecolor\":\"white\",\"ticks\":\"\"},\"bgcolor\":\"#E5ECF6\",\"caxis\":{\"gridcolor\":\"white\",\"linecolor\":\"white\",\"ticks\":\"\"}},\"title\":{\"x\":0.05},\"xaxis\":{\"automargin\":true,\"gridcolor\":\"white\",\"linecolor\":\"white\",\"ticks\":\"\",\"title\":{\"standoff\":15},\"zerolinecolor\":\"white\",\"zerolinewidth\":2},\"yaxis\":{\"automargin\":true,\"gridcolor\":\"white\",\"linecolor\":\"white\",\"ticks\":\"\",\"title\":{\"standoff\":15},\"zerolinecolor\":\"white\",\"zerolinewidth\":2}}},\"xaxis\":{\"anchor\":\"y\",\"domain\":[0.0,1.0],\"title\":{\"text\":\"Ano\"}},\"yaxis\":{\"anchor\":\"x\",\"domain\":[0.0,1.0],\"title\":{\"text\":\"N\\u00famero de Inc\\u00eandios\"}},\"legend\":{\"title\":{\"text\":\"Estado\"},\"tracegroupgap\":0},\"title\":{\"text\":\"Evolu\\u00e7\\u00e3o dos Estados com Maiores Focos de Inc\\u00eandios ao Longo dos Anos\",\"font\":{\"size\":18}}},                        {\"responsive\": true}                    )                };                            </script>        </div>\n",
       "</body>\n",
       "</html>"
      ]
     },
     "metadata": {
      "application/vnd.databricks.v1+output": {
       "addedWidgets": {},
       "arguments": {},
       "data": "<html>\n<head><meta charset=\"utf-8\" /></head>\n<body>\n    <div>            <script src=\"https://cdnjs.cloudflare.com/ajax/libs/mathjax/2.7.5/MathJax.js?config=TeX-AMS-MML_SVG\"></script><script type=\"text/javascript\">if (window.MathJax) {MathJax.Hub.Config({SVG: {font: \"STIX-Web\"}});}</script>                <script type=\"text/javascript\">window.PlotlyConfig = {MathJaxConfig: 'local'};</script>\n        <script src=\"https://cdn.plot.ly/plotly-2.9.0.min.js\"></script>                <div id=\"51c10f11-55bc-4a85-a99e-3c2ed0962cd6\" class=\"plotly-graph-div\" style=\"height:100%; width:100%;\"></div>            <script type=\"text/javascript\">                                    window.PLOTLYENV=window.PLOTLYENV || {};                                    if (document.getElementById(\"51c10f11-55bc-4a85-a99e-3c2ed0962cd6\")) {                    Plotly.newPlot(                        \"51c10f11-55bc-4a85-a99e-3c2ed0962cd6\",                        [{\"hovertemplate\":\"Estado=Sao Paulo<br>Ano=%{x}<br>N\\u00famero de Inc\\u00eandios=%{y}<extra></extra>\",\"legendgroup\":\"Sao Paulo\",\"line\":{\"color\":\"#636efa\",\"dash\":\"solid\"},\"marker\":{\"symbol\":\"circle\"},\"mode\":\"lines\",\"name\":\"Sao Paulo\",\"orientation\":\"v\",\"showlegend\":true,\"x\":[1998,1999,2000,2001,2002,2003,2014],\"xaxis\":\"x\",\"y\":[3196.0,4249.210999999999,4128.0,2926.0,3539.0,3306.0,3260.458],\"yaxis\":\"y\",\"type\":\"scatter\"},{\"hovertemplate\":\"Estado=Mato Grosso<br>Ano=%{x}<br>N\\u00famero de Inc\\u00eandios=%{y}<extra></extra>\",\"legendgroup\":\"Mato Grosso\",\"line\":{\"color\":\"#EF553B\",\"dash\":\"solid\"},\"marker\":{\"symbol\":\"circle\"},\"mode\":\"lines\",\"name\":\"Mato Grosso\",\"orientation\":\"v\",\"showlegend\":true,\"x\":[1998,1999,2000,2001,2002,2003,2004,2005,2006,2007,2008,2009,2010,2011,2012,2013,2014,2015,2016,2017],\"xaxis\":\"x\",\"y\":[2401.389,2979.399,3897.266,3088.075,3665.5029999999992,6939.853999999999,4811.176,5386.715,4286.385,3515.7039999999997,3399.903,8188.717,6252.445000000001,5388.206,5341.25,5238.111,5890.597,6261.0869999999995,3652.919,5661.327000000001],\"yaxis\":\"y\",\"type\":\"scatter\"},{\"hovertemplate\":\"Estado=Ceara<br>Ano=%{x}<br>N\\u00famero de Inc\\u00eandios=%{y}<extra></extra>\",\"legendgroup\":\"Ceara\",\"line\":{\"color\":\"#00cc96\",\"dash\":\"solid\"},\"marker\":{\"symbol\":\"circle\"},\"mode\":\"lines\",\"name\":\"Ceara\",\"orientation\":\"v\",\"showlegend\":true,\"x\":[1998,2012],\"xaxis\":\"x\",\"y\":[1612.0140000000001,2937.1040000000003],\"yaxis\":\"y\",\"type\":\"scatter\"},{\"hovertemplate\":\"Estado=Paraiba<br>Ano=%{x}<br>N\\u00famero de Inc\\u00eandios=%{y}<extra></extra>\",\"legendgroup\":\"Paraiba\",\"line\":{\"color\":\"#ab63fa\",\"dash\":\"solid\"},\"marker\":{\"symbol\":\"circle\"},\"mode\":\"lines\",\"name\":\"Paraiba\",\"orientation\":\"v\",\"showlegend\":true,\"x\":[1999,2000,2005,2006,2007,2009,2010,2011,2015,2017],\"xaxis\":\"x\",\"y\":[3437.0,2804.0,3427.0,3308.0,2665.0,2963.0,2711.0,3280.0,2773.0,3052.706],\"yaxis\":\"y\",\"type\":\"scatter\"},{\"hovertemplate\":\"Estado=Bahia<br>Ano=%{x}<br>N\\u00famero de Inc\\u00eandios=%{y}<extra></extra>\",\"legendgroup\":\"Bahia\",\"line\":{\"color\":\"#FFA15A\",\"dash\":\"solid\"},\"marker\":{\"symbol\":\"circle\"},\"mode\":\"lines\",\"name\":\"Bahia\",\"orientation\":\"v\",\"showlegend\":true,\"x\":[2001,2005,2006,2010,2012,2013,2016],\"xaxis\":\"x\",\"y\":[2427.651,2358.066,2509.085,2515.01,3454.937,2571.65,3520.234],\"yaxis\":\"y\",\"type\":\"scatter\"},{\"hovertemplate\":\"Estado=Rio<br>Ano=%{x}<br>N\\u00famero de Inc\\u00eandios=%{y}<extra></extra>\",\"legendgroup\":\"Rio\",\"line\":{\"color\":\"#19d3f3\",\"dash\":\"solid\"},\"marker\":{\"symbol\":\"circle\"},\"mode\":\"lines\",\"name\":\"Rio\",\"orientation\":\"v\",\"showlegend\":true,\"x\":[2002,2003,2004,2014,2016,2017],\"xaxis\":\"x\",\"y\":[2945.0,3438.419,3437.0,2757.168,3429.111,4271.0],\"yaxis\":\"y\",\"type\":\"scatter\"},{\"hovertemplate\":\"Estado=Santa Catarina<br>Ano=%{x}<br>N\\u00famero de Inc\\u00eandios=%{y}<extra></extra>\",\"legendgroup\":\"Santa Catarina\",\"line\":{\"color\":\"#FF6692\",\"dash\":\"solid\"},\"marker\":{\"symbol\":\"circle\"},\"mode\":\"lines\",\"name\":\"Santa Catarina\",\"orientation\":\"v\",\"showlegend\":true,\"x\":[2004],\"xaxis\":\"x\",\"y\":[2955.0],\"yaxis\":\"y\",\"type\":\"scatter\"},{\"hovertemplate\":\"Estado=Piau<br>Ano=%{x}<br>N\\u00famero de Inc\\u00eandios=%{y}<extra></extra>\",\"legendgroup\":\"Piau\",\"line\":{\"color\":\"#B6E880\",\"dash\":\"solid\"},\"marker\":{\"symbol\":\"circle\"},\"mode\":\"lines\",\"name\":\"Piau\",\"orientation\":\"v\",\"showlegend\":true,\"x\":[2007,2009,2011,2015],\"xaxis\":\"x\",\"y\":[2713.96,2769.0449999999996,2678.844,2788.953],\"yaxis\":\"y\",\"type\":\"scatter\"},{\"hovertemplate\":\"Estado=Amazonas<br>Ano=%{x}<br>N\\u00famero de Inc\\u00eandios=%{y}<extra></extra>\",\"legendgroup\":\"Amazonas\",\"line\":{\"color\":\"#FF97FF\",\"dash\":\"solid\"},\"marker\":{\"symbol\":\"circle\"},\"mode\":\"lines\",\"name\":\"Amazonas\",\"orientation\":\"v\",\"showlegend\":true,\"x\":[2008],\"xaxis\":\"x\",\"y\":[2717.0],\"yaxis\":\"y\",\"type\":\"scatter\"},{\"hovertemplate\":\"Estado=Minas Gerais<br>Ano=%{x}<br>N\\u00famero de Inc\\u00eandios=%{y}<extra></extra>\",\"legendgroup\":\"Minas Gerais\",\"line\":{\"color\":\"#FECB52\",\"dash\":\"solid\"},\"marker\":{\"symbol\":\"circle\"},\"mode\":\"lines\",\"name\":\"Minas Gerais\",\"orientation\":\"v\",\"showlegend\":true,\"x\":[2008],\"xaxis\":\"x\",\"y\":[2138.339],\"yaxis\":\"y\",\"type\":\"scatter\"},{\"hovertemplate\":\"Estado=Goias<br>Ano=%{x}<br>N\\u00famero de Inc\\u00eandios=%{y}<extra></extra>\",\"legendgroup\":\"Goias\",\"line\":{\"color\":\"#636efa\",\"dash\":\"solid\"},\"marker\":{\"symbol\":\"circle\"},\"mode\":\"lines\",\"name\":\"Goias\",\"orientation\":\"v\",\"showlegend\":true,\"x\":[2013],\"xaxis\":\"x\",\"y\":[2979.0],\"yaxis\":\"y\",\"type\":\"scatter\"}],                        {\"template\":{\"data\":{\"bar\":[{\"error_x\":{\"color\":\"#2a3f5f\"},\"error_y\":{\"color\":\"#2a3f5f\"},\"marker\":{\"line\":{\"color\":\"#E5ECF6\",\"width\":0.5},\"pattern\":{\"fillmode\":\"overlay\",\"size\":10,\"solidity\":0.2}},\"type\":\"bar\"}],\"barpolar\":[{\"marker\":{\"line\":{\"color\":\"#E5ECF6\",\"width\":0.5},\"pattern\":{\"fillmode\":\"overlay\",\"size\":10,\"solidity\":0.2}},\"type\":\"barpolar\"}],\"carpet\":[{\"aaxis\":{\"endlinecolor\":\"#2a3f5f\",\"gridcolor\":\"white\",\"linecolor\":\"white\",\"minorgridcolor\":\"white\",\"startlinecolor\":\"#2a3f5f\"},\"baxis\":{\"endlinecolor\":\"#2a3f5f\",\"gridcolor\":\"white\",\"linecolor\":\"white\",\"minorgridcolor\":\"white\",\"startlinecolor\":\"#2a3f5f\"},\"type\":\"carpet\"}],\"choropleth\":[{\"colorbar\":{\"outlinewidth\":0,\"ticks\":\"\"},\"type\":\"choropleth\"}],\"contour\":[{\"colorbar\":{\"outlinewidth\":0,\"ticks\":\"\"},\"colorscale\":[[0.0,\"#0d0887\"],[0.1111111111111111,\"#46039f\"],[0.2222222222222222,\"#7201a8\"],[0.3333333333333333,\"#9c179e\"],[0.4444444444444444,\"#bd3786\"],[0.5555555555555556,\"#d8576b\"],[0.6666666666666666,\"#ed7953\"],[0.7777777777777778,\"#fb9f3a\"],[0.8888888888888888,\"#fdca26\"],[1.0,\"#f0f921\"]],\"type\":\"contour\"}],\"contourcarpet\":[{\"colorbar\":{\"outlinewidth\":0,\"ticks\":\"\"},\"type\":\"contourcarpet\"}],\"heatmap\":[{\"colorbar\":{\"outlinewidth\":0,\"ticks\":\"\"},\"colorscale\":[[0.0,\"#0d0887\"],[0.1111111111111111,\"#46039f\"],[0.2222222222222222,\"#7201a8\"],[0.3333333333333333,\"#9c179e\"],[0.4444444444444444,\"#bd3786\"],[0.5555555555555556,\"#d8576b\"],[0.6666666666666666,\"#ed7953\"],[0.7777777777777778,\"#fb9f3a\"],[0.8888888888888888,\"#fdca26\"],[1.0,\"#f0f921\"]],\"type\":\"heatmap\"}],\"heatmapgl\":[{\"colorbar\":{\"outlinewidth\":0,\"ticks\":\"\"},\"colorscale\":[[0.0,\"#0d0887\"],[0.1111111111111111,\"#46039f\"],[0.2222222222222222,\"#7201a8\"],[0.3333333333333333,\"#9c179e\"],[0.4444444444444444,\"#bd3786\"],[0.5555555555555556,\"#d8576b\"],[0.6666666666666666,\"#ed7953\"],[0.7777777777777778,\"#fb9f3a\"],[0.8888888888888888,\"#fdca26\"],[1.0,\"#f0f921\"]],\"type\":\"heatmapgl\"}],\"histogram\":[{\"marker\":{\"pattern\":{\"fillmode\":\"overlay\",\"size\":10,\"solidity\":0.2}},\"type\":\"histogram\"}],\"histogram2d\":[{\"colorbar\":{\"outlinewidth\":0,\"ticks\":\"\"},\"colorscale\":[[0.0,\"#0d0887\"],[0.1111111111111111,\"#46039f\"],[0.2222222222222222,\"#7201a8\"],[0.3333333333333333,\"#9c179e\"],[0.4444444444444444,\"#bd3786\"],[0.5555555555555556,\"#d8576b\"],[0.6666666666666666,\"#ed7953\"],[0.7777777777777778,\"#fb9f3a\"],[0.8888888888888888,\"#fdca26\"],[1.0,\"#f0f921\"]],\"type\":\"histogram2d\"}],\"histogram2dcontour\":[{\"colorbar\":{\"outlinewidth\":0,\"ticks\":\"\"},\"colorscale\":[[0.0,\"#0d0887\"],[0.1111111111111111,\"#46039f\"],[0.2222222222222222,\"#7201a8\"],[0.3333333333333333,\"#9c179e\"],[0.4444444444444444,\"#bd3786\"],[0.5555555555555556,\"#d8576b\"],[0.6666666666666666,\"#ed7953\"],[0.7777777777777778,\"#fb9f3a\"],[0.8888888888888888,\"#fdca26\"],[1.0,\"#f0f921\"]],\"type\":\"histogram2dcontour\"}],\"mesh3d\":[{\"colorbar\":{\"outlinewidth\":0,\"ticks\":\"\"},\"type\":\"mesh3d\"}],\"parcoords\":[{\"line\":{\"colorbar\":{\"outlinewidth\":0,\"ticks\":\"\"}},\"type\":\"parcoords\"}],\"pie\":[{\"automargin\":true,\"type\":\"pie\"}],\"scatter\":[{\"marker\":{\"colorbar\":{\"outlinewidth\":0,\"ticks\":\"\"}},\"type\":\"scatter\"}],\"scatter3d\":[{\"line\":{\"colorbar\":{\"outlinewidth\":0,\"ticks\":\"\"}},\"marker\":{\"colorbar\":{\"outlinewidth\":0,\"ticks\":\"\"}},\"type\":\"scatter3d\"}],\"scattercarpet\":[{\"marker\":{\"colorbar\":{\"outlinewidth\":0,\"ticks\":\"\"}},\"type\":\"scattercarpet\"}],\"scattergeo\":[{\"marker\":{\"colorbar\":{\"outlinewidth\":0,\"ticks\":\"\"}},\"type\":\"scattergeo\"}],\"scattergl\":[{\"marker\":{\"colorbar\":{\"outlinewidth\":0,\"ticks\":\"\"}},\"type\":\"scattergl\"}],\"scattermapbox\":[{\"marker\":{\"colorbar\":{\"outlinewidth\":0,\"ticks\":\"\"}},\"type\":\"scattermapbox\"}],\"scatterpolar\":[{\"marker\":{\"colorbar\":{\"outlinewidth\":0,\"ticks\":\"\"}},\"type\":\"scatterpolar\"}],\"scatterpolargl\":[{\"marker\":{\"colorbar\":{\"outlinewidth\":0,\"ticks\":\"\"}},\"type\":\"scatterpolargl\"}],\"scatterternary\":[{\"marker\":{\"colorbar\":{\"outlinewidth\":0,\"ticks\":\"\"}},\"type\":\"scatterternary\"}],\"surface\":[{\"colorbar\":{\"outlinewidth\":0,\"ticks\":\"\"},\"colorscale\":[[0.0,\"#0d0887\"],[0.1111111111111111,\"#46039f\"],[0.2222222222222222,\"#7201a8\"],[0.3333333333333333,\"#9c179e\"],[0.4444444444444444,\"#bd3786\"],[0.5555555555555556,\"#d8576b\"],[0.6666666666666666,\"#ed7953\"],[0.7777777777777778,\"#fb9f3a\"],[0.8888888888888888,\"#fdca26\"],[1.0,\"#f0f921\"]],\"type\":\"surface\"}],\"table\":[{\"cells\":{\"fill\":{\"color\":\"#EBF0F8\"},\"line\":{\"color\":\"white\"}},\"header\":{\"fill\":{\"color\":\"#C8D4E3\"},\"line\":{\"color\":\"white\"}},\"type\":\"table\"}]},\"layout\":{\"annotationdefaults\":{\"arrowcolor\":\"#2a3f5f\",\"arrowhead\":0,\"arrowwidth\":1},\"autotypenumbers\":\"strict\",\"coloraxis\":{\"colorbar\":{\"outlinewidth\":0,\"ticks\":\"\"}},\"colorscale\":{\"diverging\":[[0,\"#8e0152\"],[0.1,\"#c51b7d\"],[0.2,\"#de77ae\"],[0.3,\"#f1b6da\"],[0.4,\"#fde0ef\"],[0.5,\"#f7f7f7\"],[0.6,\"#e6f5d0\"],[0.7,\"#b8e186\"],[0.8,\"#7fbc41\"],[0.9,\"#4d9221\"],[1,\"#276419\"]],\"sequential\":[[0.0,\"#0d0887\"],[0.1111111111111111,\"#46039f\"],[0.2222222222222222,\"#7201a8\"],[0.3333333333333333,\"#9c179e\"],[0.4444444444444444,\"#bd3786\"],[0.5555555555555556,\"#d8576b\"],[0.6666666666666666,\"#ed7953\"],[0.7777777777777778,\"#fb9f3a\"],[0.8888888888888888,\"#fdca26\"],[1.0,\"#f0f921\"]],\"sequentialminus\":[[0.0,\"#0d0887\"],[0.1111111111111111,\"#46039f\"],[0.2222222222222222,\"#7201a8\"],[0.3333333333333333,\"#9c179e\"],[0.4444444444444444,\"#bd3786\"],[0.5555555555555556,\"#d8576b\"],[0.6666666666666666,\"#ed7953\"],[0.7777777777777778,\"#fb9f3a\"],[0.8888888888888888,\"#fdca26\"],[1.0,\"#f0f921\"]]},\"colorway\":[\"#636efa\",\"#EF553B\",\"#00cc96\",\"#ab63fa\",\"#FFA15A\",\"#19d3f3\",\"#FF6692\",\"#B6E880\",\"#FF97FF\",\"#FECB52\"],\"font\":{\"color\":\"#2a3f5f\"},\"geo\":{\"bgcolor\":\"white\",\"lakecolor\":\"white\",\"landcolor\":\"#E5ECF6\",\"showlakes\":true,\"showland\":true,\"subunitcolor\":\"white\"},\"hoverlabel\":{\"align\":\"left\"},\"hovermode\":\"closest\",\"mapbox\":{\"style\":\"light\"},\"paper_bgcolor\":\"white\",\"plot_bgcolor\":\"#E5ECF6\",\"polar\":{\"angularaxis\":{\"gridcolor\":\"white\",\"linecolor\":\"white\",\"ticks\":\"\"},\"bgcolor\":\"#E5ECF6\",\"radialaxis\":{\"gridcolor\":\"white\",\"linecolor\":\"white\",\"ticks\":\"\"}},\"scene\":{\"xaxis\":{\"backgroundcolor\":\"#E5ECF6\",\"gridcolor\":\"white\",\"gridwidth\":2,\"linecolor\":\"white\",\"showbackground\":true,\"ticks\":\"\",\"zerolinecolor\":\"white\"},\"yaxis\":{\"backgroundcolor\":\"#E5ECF6\",\"gridcolor\":\"white\",\"gridwidth\":2,\"linecolor\":\"white\",\"showbackground\":true,\"ticks\":\"\",\"zerolinecolor\":\"white\"},\"zaxis\":{\"backgroundcolor\":\"#E5ECF6\",\"gridcolor\":\"white\",\"gridwidth\":2,\"linecolor\":\"white\",\"showbackground\":true,\"ticks\":\"\",\"zerolinecolor\":\"white\"}},\"shapedefaults\":{\"line\":{\"color\":\"#2a3f5f\"}},\"ternary\":{\"aaxis\":{\"gridcolor\":\"white\",\"linecolor\":\"white\",\"ticks\":\"\"},\"baxis\":{\"gridcolor\":\"white\",\"linecolor\":\"white\",\"ticks\":\"\"},\"bgcolor\":\"#E5ECF6\",\"caxis\":{\"gridcolor\":\"white\",\"linecolor\":\"white\",\"ticks\":\"\"}},\"title\":{\"x\":0.05},\"xaxis\":{\"automargin\":true,\"gridcolor\":\"white\",\"linecolor\":\"white\",\"ticks\":\"\",\"title\":{\"standoff\":15},\"zerolinecolor\":\"white\",\"zerolinewidth\":2},\"yaxis\":{\"automargin\":true,\"gridcolor\":\"white\",\"linecolor\":\"white\",\"ticks\":\"\",\"title\":{\"standoff\":15},\"zerolinecolor\":\"white\",\"zerolinewidth\":2}}},\"xaxis\":{\"anchor\":\"y\",\"domain\":[0.0,1.0],\"title\":{\"text\":\"Ano\"}},\"yaxis\":{\"anchor\":\"x\",\"domain\":[0.0,1.0],\"title\":{\"text\":\"N\\u00famero de Inc\\u00eandios\"}},\"legend\":{\"title\":{\"text\":\"Estado\"},\"tracegroupgap\":0},\"title\":{\"text\":\"Evolu\\u00e7\\u00e3o dos Estados com Maiores Focos de Inc\\u00eandios ao Longo dos Anos\",\"font\":{\"size\":18}}},                        {\"responsive\": true}                    )                };                            </script>        </div>\n</body>\n</html>",
       "datasetInfos": [],
       "metadata": {},
       "removedWidgets": [],
       "textData": null,
       "type": "htmlSandbox"
      }
     },
     "output_type": "display_data"
    }
   ],
   "source": [
    "# Converter para Pandas\n",
    "pandas_df_top_states = df_top_states.toPandas()\n",
    "\n",
    "# Criar gráfico de linhas para os estados mais afetados\n",
    "fig = px.line(\n",
    "    pandas_df_top_states,\n",
    "    x=\"ano\",\n",
    "    y=\"total_incendios\",\n",
    "    color=\"estado\",\n",
    "    title=\"Evolução dos Estados com Maiores Focos de Incêndios ao Longo dos Anos\",\n",
    "    labels={\"ano\": \"Ano\", \"total_incendios\": \"Número de Incêndios\", \"estado\": \"Estado\"}\n",
    ")\n",
    "\n",
    "# Personalizar layout\n",
    "fig.update_layout(\n",
    "    xaxis_title=\"Ano\",\n",
    "    yaxis_title=\"Número de Incêndios\",\n",
    "    title_font_size=18\n",
    ")\n",
    "\n",
    "fig.show()"
   ]
  },
  {
   "cell_type": "markdown",
   "metadata": {
    "application/vnd.databricks.v1+cell": {
     "cellMetadata": {},
     "inputWidgets": {},
     "nuid": "0671bde6-1b74-40ce-a409-e8c65f10d6d9",
     "showTitle": false,
     "tableResultSettingsMap": {},
     "title": ""
    }
   },
   "source": [
    "[Link para o Gráfico 5](https://github.com/XuxaRP/EngDados_Leonardo_Piato/blob/main/Evolucao_Por_estado.png)"
   ]
  },
  {
   "cell_type": "markdown",
   "metadata": {
    "application/vnd.databricks.v1+cell": {
     "cellMetadata": {
      "byteLimit": 2048000,
      "rowLimit": 10000
     },
     "inputWidgets": {},
     "nuid": "4076949a-9116-4a7e-ae69-aecace5dff0d",
     "showTitle": false,
     "tableResultSettingsMap": {},
     "title": ""
    }
   },
   "source": [
    "Essa última análise traz insights interessantes. A primeira é, que de um modo geral, Mato Grosso é e permaneceu quase a série toda como o estado que mais sofre com o problema dos incêndios florestais, essa consistência em ser o estado mais afetado, podemos inferir que é devido as características específicas da região, como clima ou extensão de áreas florestais, e as lacunas nos dados de alguns estados outros estados.\n",
    "\n",
    "Além disso podemos ver que em alguns estados as séries estão incompletas, como em São Paulo cujos dados vão até 2014, ou a Bahia, que se inicia apenas em 2001.\n",
    "\n"
   ]
  },
  {
   "cell_type": "markdown",
   "metadata": {
    "application/vnd.databricks.v1+cell": {
     "cellMetadata": {
      "byteLimit": 2048000,
      "rowLimit": 10000
     },
     "inputWidgets": {},
     "nuid": "45ebfccc-85a6-448f-87ca-c2c0c7114f63",
     "showTitle": false,
     "tableResultSettingsMap": {},
     "title": ""
    }
   },
   "source": [
    "## 6. Autoanálise\n",
    "\n",
    "De um modo geral, todas as perguntas foram respondidas. Acredito que apenas a pergunta \"Ocorreu alguma alteração nos meses com maior incidência de incêndios ao longo do tempo?\" apresentou maiores dificuldades para resolver. Por tratar-se de um período relativamente longo, é um dado difícil de plotar de forma não poluída. Dessa forma, a análise fica prejudicada. Contudo, ao analisar a tabela, é possível responder o questionamento.\n",
    "\n",
    "Optei por usar o Python, pois foi a linguagem que me habituei ao longo das últimas três sprints e pareceu ter mais recursos disponíveis para a sessão de análise, devido às bibliotecas poderosas, como Pandas.\n",
    "\n",
    "Acredito que o Databricks demonstrou ser uma ferramenta adequada à solução. Apresentou boa compatibilidade com usuários habituados ao Jupyter Notebook e um desempenho bastante razoável.\n",
    "\n",
    "Imagino que, caso eu queira me aprofundar na atuação com data lakes ou warehouses, seja imprescindível aprimorar meus conhecimentos em SQL e também me habituar a trabalhar com dados \"sujos\". Isso contrasta com os dados deste projeto, que aparentemente já estavam \"tratados\"."
   ]
  }
 ],
 "metadata": {
  "application/vnd.databricks.v1+notebook": {
   "computePreferences": null,
   "dashboards": [],
   "environmentMetadata": {
    "base_environment": "",
    "environment_version": "1"
   },
   "inputWidgetPreferences": null,
   "language": "python",
   "notebookMetadata": {
    "pythonIndentUnit": 4
   },
   "notebookName": "Mvp_final",
   "widgets": {}
  }
 },
 "nbformat": 4,
 "nbformat_minor": 0
}